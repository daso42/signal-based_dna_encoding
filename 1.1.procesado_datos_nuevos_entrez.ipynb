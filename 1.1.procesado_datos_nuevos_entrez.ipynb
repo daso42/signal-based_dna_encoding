{
 "cells": [
  {
   "cell_type": "code",
   "execution_count": 1,
   "id": "f02dbc02",
   "metadata": {},
   "outputs": [],
   "source": [
    "import pandas as pd\n",
    "import os"
   ]
  },
  {
   "cell_type": "code",
   "execution_count": 2,
   "id": "6efa0697",
   "metadata": {},
   "outputs": [],
   "source": [
    "datos={}\n",
    "for i in os.listdir('datos/entrez/'):\n",
    "    datos[i.split(\"_\")[1]]=i\n",
    "    # print(i.split(\"_\")[1])"
   ]
  },
  {
   "cell_type": "code",
   "execution_count": 3,
   "id": "1b9e132f",
   "metadata": {},
   "outputs": [],
   "source": [
    "df=[]\n",
    "for k,v in datos.items():\n",
    "    if 'completo' not in v:\n",
    "        temp=pd.read_csv(f\"datos/entrez/{v}\")\n",
    "        temp['genus']=[k]*len(temp)\n",
    "        df.append(temp)"
   ]
  },
  {
   "cell_type": "code",
   "execution_count": 5,
   "id": "0de89970",
   "metadata": {},
   "outputs": [],
   "source": [
    "df=pd.concat(df, ignore_index=True)"
   ]
  },
  {
   "cell_type": "code",
   "execution_count": 7,
   "id": "5c968d8e",
   "metadata": {},
   "outputs": [
    {
     "data": {
      "text/plain": [
       "24638"
      ]
     },
     "execution_count": 7,
     "metadata": {},
     "output_type": "execute_result"
    }
   ],
   "source": [
    "len(df)"
   ]
  },
  {
   "cell_type": "code",
   "execution_count": 6,
   "id": "1c07d43c",
   "metadata": {},
   "outputs": [
    {
     "name": "stdout",
     "output_type": "stream",
     "text": [
      "1116\n"
     ]
    }
   ],
   "source": [
    "base=set('ACGT')\n",
    "drop_idx=[]\n",
    "for i,j in enumerate(df['sequence']):\n",
    "    if set(j)!=base:\n",
    "        drop_idx.append(i)\n",
    "print(len(drop_idx))\n",
    "df=df.drop(drop_idx)\n",
    "df=df.reset_index()"
   ]
  },
  {
   "cell_type": "code",
   "execution_count": 8,
   "id": "03abc1be",
   "metadata": {},
   "outputs": [
    {
     "data": {
      "text/plain": [
       "23522"
      ]
     },
     "execution_count": 8,
     "metadata": {},
     "output_type": "execute_result"
    }
   ],
   "source": [
    "len(df)"
   ]
  },
  {
   "cell_type": "code",
   "execution_count": null,
   "id": "8cadb77c",
   "metadata": {},
   "outputs": [],
   "source": [
    "df['genus']=df['genus'].str.capitalize()"
   ]
  },
  {
   "cell_type": "code",
   "execution_count": 12,
   "id": "18aa8c3d",
   "metadata": {},
   "outputs": [],
   "source": [
    "df[[\n",
    "    'index', \n",
    "    'sequence_id', \n",
    "    'sequence', \n",
    "    'sequence_length', \n",
    "    'gc_content',\n",
    "    'domain', \n",
    "    'phylum', \n",
    "    'class', \n",
    "    'order', \n",
    "    'family', \n",
    "    'genus', \n",
    "    'species'\n",
    "    ]].to_csv(\"datos/clean_entrez.csv\", index=False)"
   ]
  }
 ],
 "metadata": {
  "kernelspec": {
   "display_name": "paper",
   "language": "python",
   "name": "python3"
  },
  "language_info": {
   "codemirror_mode": {
    "name": "ipython",
    "version": 3
   },
   "file_extension": ".py",
   "mimetype": "text/x-python",
   "name": "python",
   "nbconvert_exporter": "python",
   "pygments_lexer": "ipython3",
   "version": "3.10.15"
  }
 },
 "nbformat": 4,
 "nbformat_minor": 5
}
