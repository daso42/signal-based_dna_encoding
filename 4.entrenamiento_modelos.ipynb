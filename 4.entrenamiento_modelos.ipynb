{
 "cells": [
  {
   "cell_type": "code",
   "execution_count": 14,
   "id": "0e835d36",
   "metadata": {},
   "outputs": [],
   "source": [
    "# Se forzó a realizar el entrenamiento con un hilo porque los modelos estaban entrenando con todos los hilos incluso cuando se les especificaba que usaran solo 1 o 2\n",
    "import os\n",
    "os.environ['OMP_NUM_THREADS'] = '1'\n",
    "\n",
    "# Librerías básicas\n",
    "import time\n",
    "import numpy as np\n",
    "import pandas as pd\n",
    "import joblib\n",
    "import json\n",
    "from datetime import datetime\n",
    "from ast import literal_eval\n",
    "\n",
    "# Librerías de machine learning\n",
    "from sklearn.svm import SVC\n",
    "from sklearn.model_selection import train_test_split, GridSearchCV\n",
    "from sklearn.ensemble import RandomForestClassifier\n",
    "from sklearn.metrics import (\n",
    "    accuracy_score, f1_score, precision_score, recall_score,\n",
    "    confusion_matrix, classification_report, roc_curve, auc\n",
    ")\n",
    "from xgboost import XGBClassifier\n",
    "\n",
    "# Librerías para encoding\n",
    "import pywt\n",
    "from scipy.fft import fft\n",
    "from itertools import product\n",
    "\n",
    "# Configurar pandas\n",
    "pd.options.mode.chained_assignment = None\n",
    "\n",
    "# Variables compartidas\n",
    "N_CORES = 1\n",
    "RANDOM_STATE = 42\n",
    "TEST_SIZE = 0.2\n",
    "\n",
    "# Crear directorios necesarios\n",
    "os.makedirs(\"modelos/SVM\", exist_ok=True)\n",
    "os.makedirs(\"modelos/RandomForest\", exist_ok=True) \n",
    "os.makedirs(\"modelos/XGBoost\", exist_ok=True)\n",
    "os.makedirs(\"results/training_results\", exist_ok=True)\n",
    "os.makedirs(\"results/gridsearch_results\", exist_ok=True)"
   ]
  },
  {
   "cell_type": "code",
   "execution_count": 15,
   "id": "fb8ae1b4",
   "metadata": {},
   "outputs": [],
   "source": [
    "def log_with_time(message):\n",
    "    timestamp = datetime.now().strftime(\"%Y-%m-%d %H:%M:%S\")\n",
    "    print(f\"[{timestamp}] {message}\")\n",
    "\n",
    "def save_model_safely(model, model_name, encoding_name, algorithm, metrics, params):\n",
    "    \n",
    "    # Crear directorio si no existe\n",
    "    model_dir = f\"modelos/{algorithm}\"\n",
    "    os.makedirs(model_dir, exist_ok=True)\n",
    "    \n",
    "    # Nombre del archivo\n",
    "    filename = f\"{model_dir}/{encoding_name}.joblib\"\n",
    "    metadata_file = f\"{model_dir}/{encoding_name}_metadata.json\"\n",
    "    \n",
    "    try:\n",
    "        # Guardar modelo\n",
    "        joblib.dump(model, filename)\n",
    "        print(f\"\\t\\tModelo guardado: {filename}\")\n",
    "        \n",
    "        # Guardar metadata\n",
    "        metadata = {\n",
    "            'model_name': model_name,\n",
    "            'encoding': encoding_name,\n",
    "            'algorithm': algorithm,\n",
    "            'accuracy': float(metrics['accuracy']),\n",
    "            'f1_score_weighted': float(metrics['f1_score_weighted']),\n",
    "            'f1_score_macro': float(metrics['f1_score_macro']),\n",
    "            'precision_macro': float(metrics['precision_macro']),\n",
    "            'parameters': params,\n",
    "            'model_file': filename\n",
    "        }\n",
    "        \n",
    "        with open(metadata_file, 'w') as f:\n",
    "            json.dump(metadata, f, indent=2)\n",
    "        \n",
    "        return filename, metadata_file\n",
    "        \n",
    "    except Exception as e:\n",
    "        log_with_time(f\"Error guardando modelo: {e}\")\n",
    "        return None, None\n",
    "\n",
    "def save_training_results(results, filename):\n",
    "    \"\"\"Guarda resultados de entrenamiento para evaluación posterior\"\"\"\n",
    "    filepath = f\"results/training_results/{filename}\"\n",
    "    try:\n",
    "        with open(filepath, 'w') as f:\n",
    "            json.dump(results, f, indent=2)\n",
    "        print(f\"\\t\\tResultados guardados: {filepath}\")\n",
    "        return filepath\n",
    "    except Exception as e:\n",
    "        log_with_time(f\"Error guardando resultados: {e}\")\n",
    "        return None\n",
    "\n",
    "def save_gridsearch_results(results, algorithm, encoding_name):\n",
    "    \"\"\"Guarda resultados detallados de grid search\"\"\"\n",
    "    filepath = f\"results/gridsearch_results/{algorithm}_{encoding_name}.json\"\n",
    "    \n",
    "    try:\n",
    "        with open(filepath, 'w') as f:\n",
    "            json.dump(results, f, indent=2)\n",
    "        print(f\"\\t\\tResultados de grid search guardados: {filepath}\")\n",
    "        return filepath\n",
    "    except Exception as e:\n",
    "        print(f\"Error guardando resultados de grid search: {e}\")\n",
    "        return None\n"
   ]
  },
  {
   "cell_type": "code",
   "execution_count": 16,
   "id": "41e5fda4",
   "metadata": {},
   "outputs": [],
   "source": [
    "def fourier(sequences, is_str=True):\n",
    "    if is_str:\n",
    "        templist=[]\n",
    "        for seq in sequences:\n",
    "            num_seq=[ord(char) for char in seq]\n",
    "            fft_seq=fft(num_seq)\n",
    "            fft_seq=np.abs(fft_seq)\n",
    "            templist.append(fft_seq[1:len(fft_seq)//2])\n",
    "        return templist\n",
    "    else:\n",
    "        templist=[]\n",
    "        for seq in sequences:\n",
    "            fft_seq=fft(seq)\n",
    "            fft_seq=np.abs(fft_seq)\n",
    "            templist.append(fft_seq[1:len(fft_seq)//2])\n",
    "        return templist\n",
    "    \n",
    "def generate_kmers_dict(k, unique_chars=set('ACGNT')):\n",
    "    kmers = product(unique_chars, repeat=k)\n",
    "    kmer_dict = {''.join(kmer): i for i,kmer in enumerate(kmers)}\n",
    "    return kmer_dict\n",
    "\n",
    "def k_mers(sequencias, k=3, unique_chars=set('ACGNT')):\n",
    "    kmers_map=generate_kmers_dict(k, unique_chars)\n",
    "    templist=[]\n",
    "    for seq in sequencias:\n",
    "        temp=[seq[i:i+k] for i in range(len(seq) - k + 1)]\n",
    "        templist.append([kmers_map[i] for i in temp])\n",
    "    return templist\n",
    "\n",
    "def one_hot(sequences, max_len, unique_chars=set('ACGNT'), reshape=True):\n",
    "    mapping={j:i for i,j in enumerate(unique_chars)}\n",
    "    sequencias_procesadas=[]\n",
    "    if reshape==True:\n",
    "        for s in sequences:\n",
    "            temp=np.zeros((max_len,len(unique_chars)))\n",
    "            for c in zip(s,temp):\n",
    "                    c[1][mapping[c[0]]]=1\n",
    "            sequencias_procesadas.append(temp.reshape(-1))\n",
    "        return sequencias_procesadas\n",
    "    elif reshape==False:\n",
    "        for s in sequences:\n",
    "            temp=np.zeros((max_len,len(unique_chars)))\n",
    "            for c in zip(s,temp):\n",
    "                    c[1][mapping[c[0]]]=1\n",
    "            sequencias_procesadas.append(temp)\n",
    "        return sequencias_procesadas\n",
    "\n",
    "def wavelet(sequences, numeric=False, wavelet='db1', level=5):\n",
    "    templist=[]\n",
    "    if numeric==False:\n",
    "        for seq in sequences:\n",
    "            num_seq=[ord(char) for char in seq]\n",
    "            coeffs=pywt.wavedec(num_seq, wavelet, level)\n",
    "            templist.append(np.concatenate(coeffs))\n",
    "        return templist\n",
    "    elif numeric==True:\n",
    "        for seq in sequences:\n",
    "            coeffs=pywt.wavedec(seq, wavelet, level)\n",
    "            templist.append(np.concatenate(coeffs))\n",
    "        return templist\n",
    "\n",
    "def pad_sequences(sequences, maxlen):\n",
    "    padded_sequences = []\n",
    "    for seq in sequences:\n",
    "        if len(seq) < maxlen:\n",
    "            seq += 'N' * (maxlen - len(seq))  \n",
    "        else:\n",
    "            seq = seq[:maxlen]\n",
    "        padded_sequences.append(seq)\n",
    "    return padded_sequences"
   ]
  },
  {
   "cell_type": "code",
   "execution_count": 17,
   "id": "70d527bb",
   "metadata": {},
   "outputs": [],
   "source": [
    "\n",
    "def calculate_unified_metrics(y_true, y_pred, y_proba=None, class_mapping=None):\n",
    "    # Métricas globales - UNIFICADAS\n",
    "    global_metrics = {\n",
    "        'accuracy': accuracy_score(y_true, y_pred),\n",
    "        'f1_score_weighted': f1_score(y_true, y_pred, average='weighted'),\n",
    "        'f1_weighted': f1_score(y_true, y_pred, average='weighted'),\n",
    "        'f1_score_macro': f1_score(y_true, y_pred, average='macro'),\n",
    "        'f1_macro': f1_score(y_true, y_pred, average='macro'),\n",
    "        'f1_micro': f1_score(y_true, y_pred, average='micro'),\n",
    "        'precision_weighted': precision_score(y_true, y_pred, average='weighted'),\n",
    "        'precision_macro': precision_score(y_true, y_pred, average='macro'),\n",
    "        'recall_weighted': recall_score(y_true, y_pred, average='weighted'),\n",
    "        'recall_macro': recall_score(y_true, y_pred, average='macro'),\n",
    "        'n_samples': len(y_true),\n",
    "        'n_classes': len(np.unique(y_true))\n",
    "    }\n",
    "    \n",
    "    # Matriz de confusión\n",
    "    cm = confusion_matrix(y_true, y_pred)\n",
    "    \n",
    "    # Métricas por clase\n",
    "    unique_classes = np.unique(y_true)\n",
    "    class_metrics = {\n",
    "        'sensitivity_per_class': {},\n",
    "        'specificity_per_class': {},\n",
    "        'precision_per_class': {},\n",
    "        'recall_per_class': {}\n",
    "    }\n",
    "    \n",
    "    # Si no hay mapeo de clases, crear uno genérico\n",
    "    if class_mapping is None:\n",
    "        class_mapping = {i: f\"Class_{i}\" for i in unique_classes}\n",
    "    \n",
    "    for i, class_id in enumerate(unique_classes):\n",
    "        class_name = class_mapping.get(class_id, f\"Class_{class_id}\")\n",
    "        \n",
    "        # Calcular TP, FP, FN, TN\n",
    "        TP = cm[i, i] if i < cm.shape[0] and i < cm.shape[1] else 0\n",
    "        FP = np.sum(cm[:, i]) - TP if i < cm.shape[1] else 0\n",
    "        FN = np.sum(cm[i, :]) - TP if i < cm.shape[0] else 0\n",
    "        TN = np.sum(cm) - (TP + FP + FN)\n",
    "        \n",
    "        # Métricas por clase\n",
    "        precision = TP / (TP + FP) if (TP + FP) > 0 else 0\n",
    "        recall = TP / (TP + FN) if (TP + FN) > 0 else 0\n",
    "        specificity = TN / (TN + FP) if (TN + FP) > 0 else 0\n",
    "        f1 = 2 * (precision * recall) / (precision + recall) if (precision + recall) > 0 else 0\n",
    "        \n",
    "        class_metrics['sensitivity_per_class'][class_name] = recall\n",
    "        class_metrics['specificity_per_class'][class_name] = specificity\n",
    "        class_metrics['precision_per_class'][class_name] = precision\n",
    "        class_metrics['recall_per_class'][class_name] = recall\n",
    "    \n",
    "    # ROC AUC por clase si hay probabilidades\n",
    "    roc_auc_scores = {}\n",
    "    if y_proba is not None:\n",
    "        try:\n",
    "            for i, class_id in enumerate(unique_classes):\n",
    "                if i < y_proba.shape[1]:\n",
    "                    class_name = class_mapping.get(class_id, f\"Class_{class_id}\")\n",
    "                    y_true_binary = (y_true == class_id).astype(int)\n",
    "                    \n",
    "                    if len(np.unique(y_true_binary)) > 1:\n",
    "                        fpr, tpr, _ = roc_curve(y_true_binary, y_proba[:, i])\n",
    "                        roc_auc_scores[class_name] = auc(fpr, tpr)\n",
    "        except Exception as e:\n",
    "            print(f\"Error calculando ROC AUC: {e}\")\n",
    "    \n",
    "    return {\n",
    "        'global_metrics': global_metrics,\n",
    "        'class_metrics': class_metrics,\n",
    "        'confusion_matrix': cm.tolist(),\n",
    "        'roc_auc_scores': roc_auc_scores,\n",
    "        # Agregar métricas individuales para compatibilidad\n",
    "        'accuracy': global_metrics['accuracy'],\n",
    "        'f1_score_weighted': global_metrics['f1_score_weighted'],\n",
    "        'f1_score_macro': global_metrics['f1_score_macro'],\n",
    "        'precision_weighted': global_metrics['precision_weighted'],\n",
    "        'precision_macro': global_metrics['precision_macro'],\n",
    "        'recall_weighted': global_metrics['recall_weighted'],\n",
    "        'recall_macro': global_metrics['recall_macro'],\n",
    "        'f1_weighted': global_metrics['f1_weighted'],\n",
    "        'f1_macro': global_metrics['f1_macro'],\n",
    "        'f1_micro': global_metrics['f1_micro'],\n",
    "        'n_samples': global_metrics['n_samples'],\n",
    "        'n_classes': global_metrics['n_classes']\n",
    "    }\n",
    "\n",
    "def calculate_metrics(y_test, y_pred, y_score, classes):\n",
    "    \"\"\"\n",
    "    Función para el código de entrenamiento - ahora incluye TODAS las métricas\n",
    "    \"\"\"\n",
    "    # Crear mapeo de clases\n",
    "    class_mapping = {i: classes[i] for i in range(len(classes))}\n",
    "    \n",
    "    # Usar la función unificada\n",
    "    unified_results = calculate_unified_metrics(y_test, y_pred, y_score, class_mapping)\n",
    "    \n",
    "    # Retornar métricas principales\n",
    "    metrics = {\n",
    "        'accuracy': unified_results['accuracy'],\n",
    "        'f1_score_weighted': unified_results['f1_score_weighted'],\n",
    "        'f1_score_macro': unified_results['f1_score_macro'],\n",
    "        'precision_weighted': unified_results['precision_weighted'],\n",
    "        'precision_macro': unified_results['precision_macro'],\n",
    "        'recall_weighted': unified_results['recall_weighted'],\n",
    "        'recall_macro': unified_results['recall_macro']       \n",
    "    }\n",
    "    \n",
    "    # Agregar las métricas por clase\n",
    "    metrics.update(unified_results['class_metrics'])\n",
    "    \n",
    "    return metrics\n",
    "\n",
    "def evaluate_model_simple(model, X_test, y_test, class_names):\n",
    "    y_pred = model.predict(X_test)\n",
    "    y_score = model.predict_proba(X_test)\n",
    "    \n",
    "    # Obtener las clases numéricas únicas\n",
    "    classes_num = np.unique(y_test)\n",
    "    # Mapear las clases numéricas a nombres reales\n",
    "    classes = [class_names[i] for i in classes_num]\n",
    "    \n",
    "    # Usar la función unificada\n",
    "    metrics = calculate_metrics(y_test, y_pred, y_score, classes)\n",
    "    \n",
    "    # Preparar datos para evaluación posterior\n",
    "    evaluation_data = {\n",
    "        'y_true': y_test.tolist() if hasattr(y_test, 'tolist') else list(y_test),\n",
    "        'y_pred': y_pred.tolist(),\n",
    "        'y_proba': y_score.tolist(),\n",
    "        'classes': classes,\n",
    "        'class_names_mapping': class_names\n",
    "    }\n",
    "    \n",
    "    return metrics, evaluation_data"
   ]
  },
  {
   "cell_type": "code",
   "execution_count": 18,
   "id": "ee7bfb99",
   "metadata": {},
   "outputs": [],
   "source": [
    "def train_svm(X_train, X_test, y_train, y_test, encoding_name, class_names, \n",
    "              do_gridsearch=False, kernel='rbf', C=1.0, gamma='scale', n_cores=1):\n",
    "    \n",
    "    start_time = time.time()\n",
    "    \n",
    "    if do_gridsearch:\n",
    "        print(f\"\\t\\tEjecutando Grid Search para SVM...\")\n",
    "        param_grid = {\n",
    "            'C': [0.1, 1, 10, 100],\n",
    "            'gamma': ['scale', 'auto', 0.1, 0.01],\n",
    "            'kernel': ['rbf', 'linear']\n",
    "        }\n",
    "        \n",
    "        grid_search = GridSearchCV(\n",
    "            SVC(probability=True),\n",
    "            param_grid,\n",
    "            cv=5,\n",
    "            scoring='f1_weighted',\n",
    "            n_jobs=n_cores,\n",
    "            verbose=1\n",
    "        )\n",
    "        \n",
    "        grid_search.fit(X_train, y_train)\n",
    "        model = grid_search.best_estimator_\n",
    "        best_params = grid_search.best_params_\n",
    "        cv_score = grid_search.best_score_\n",
    "        \n",
    "        # Guardar resultados detallados de grid search\n",
    "        gridsearch_results = {\n",
    "            'algorithm': 'SVM',\n",
    "            'encoding': encoding_name,\n",
    "            'best_params': best_params,\n",
    "            'best_score': cv_score,\n",
    "            'cv_results': {\n",
    "                'mean_test_score': grid_search.cv_results_['mean_test_score'].tolist(),\n",
    "                'std_test_score': grid_search.cv_results_['std_test_score'].tolist(),\n",
    "                'params': grid_search.cv_results_['params']\n",
    "            }\n",
    "        }\n",
    "        save_gridsearch_results(gridsearch_results, 'SVM', encoding_name)\n",
    "        \n",
    "    else:\n",
    "        model = SVC(probability=True, kernel=kernel, C=C, gamma=gamma)\n",
    "        model.fit(X_train, y_train)\n",
    "        best_params = {'kernel': kernel, 'C': C, 'gamma': gamma}\n",
    "        cv_score = None\n",
    "    \n",
    "    training_time = time.time() - start_time\n",
    "    \n",
    "    # Evaluar modelo\n",
    "    metrics, evaluation_data = evaluate_model_simple(model, X_test, y_test, class_names)\n",
    "    \n",
    "    print(f\"\\tSVM {encoding_name} - Accuracy: {metrics['accuracy']:.4f}, \"\n",
    "          f\"F1: {metrics['f1_score_weighted']:.4f}, \"\n",
    "          f\"Precision Macro: {metrics['precision_macro']:.4f}, \"\n",
    "          f\"Tiempo: {training_time:.2f}s\")\n",
    "    \n",
    "    # Guardar modelo\n",
    "    model_file, metadata_file = save_model_safely(\n",
    "        model, 'SVM', encoding_name, 'SVM', metrics, best_params\n",
    "    )\n",
    "    \n",
    "    # Preparar resultados completos\n",
    "    results = {\n",
    "        'model_name': 'SVM',\n",
    "        'encoding': encoding_name,\n",
    "        'metrics': metrics,\n",
    "        'parameters': best_params,\n",
    "        'cv_score': cv_score,\n",
    "        'training_time': training_time,\n",
    "        'model_file': model_file,\n",
    "        'metadata_file': metadata_file,\n",
    "        'evaluation_data': evaluation_data\n",
    "    }\n",
    "    \n",
    "    return results"
   ]
  },
  {
   "cell_type": "code",
   "execution_count": 19,
   "id": "a7f74879",
   "metadata": {},
   "outputs": [],
   "source": [
    "def train_random_forest(X_train, X_test, y_train, y_test, encoding_name, class_names,\n",
    "                        do_gridsearch=False, n_estimators=100, max_depth=None, \n",
    "                        min_samples_split=2, n_cores=1, random_state=42):\n",
    "    \n",
    "    start_time = time.time()\n",
    "    \n",
    "    if do_gridsearch:\n",
    "        print(f\"\\t\\tEjecutando Grid Search para Random Forest...\")\n",
    "        param_grid = {\n",
    "            'n_estimators': [50, 100, 200],\n",
    "            'max_depth': [None, 10, 20, 30],\n",
    "            'min_samples_split': [2, 5, 10]\n",
    "        }\n",
    "        \n",
    "        grid_search = GridSearchCV(\n",
    "            RandomForestClassifier(random_state=random_state, n_jobs=1),\n",
    "            param_grid,\n",
    "            cv=5,\n",
    "            scoring='f1_weighted',\n",
    "            n_jobs=n_cores,\n",
    "            verbose=1\n",
    "        )\n",
    "        \n",
    "        grid_search.fit(X_train, y_train)\n",
    "        model = grid_search.best_estimator_\n",
    "        best_params = grid_search.best_params_\n",
    "        cv_score = grid_search.best_score_\n",
    "        \n",
    "        # Guardar resultados detallados de grid search\n",
    "        gridsearch_results = {\n",
    "            'algorithm': 'RandomForest',\n",
    "            'encoding': encoding_name,\n",
    "            'best_params': best_params,\n",
    "            'best_score': cv_score,\n",
    "            'cv_results': {\n",
    "                'mean_test_score': grid_search.cv_results_['mean_test_score'].tolist(),\n",
    "                'std_test_score': grid_search.cv_results_['std_test_score'].tolist(),\n",
    "                'params': grid_search.cv_results_['params']\n",
    "            }\n",
    "        }\n",
    "        save_gridsearch_results(gridsearch_results, 'RandomForest', encoding_name)\n",
    "        \n",
    "    else:\n",
    "        model = RandomForestClassifier(\n",
    "            n_estimators=n_estimators,\n",
    "            max_depth=max_depth,\n",
    "            min_samples_split=min_samples_split,\n",
    "            random_state=random_state,\n",
    "            n_jobs=1,\n",
    "            verbose=0\n",
    "        )\n",
    "        model.fit(X_train, y_train)\n",
    "        best_params = {\n",
    "            'n_estimators': n_estimators,\n",
    "            'max_depth': max_depth,\n",
    "            'min_samples_split': min_samples_split\n",
    "        }\n",
    "        cv_score = None\n",
    "    \n",
    "    training_time = time.time() - start_time\n",
    "    \n",
    "    # Evaluar modelo\n",
    "    metrics, evaluation_data = evaluate_model_simple(model, X_test, y_test, class_names)\n",
    "    \n",
    "    print(f\"\\tRandom Forest {encoding_name} - Accuracy: {metrics['accuracy']:.4f}, \"\n",
    "          f\"F1: {metrics['f1_score_weighted']:.4f}, \"\n",
    "          f\"Precision Macro: {metrics['precision_macro']:.4f}, \"\n",
    "          f\"Tiempo: {training_time:.2f}s\")\n",
    "    \n",
    "    # Guardar modelo\n",
    "    model_file, metadata_file = save_model_safely(\n",
    "        model, 'Random Forest', encoding_name, 'RandomForest', metrics, best_params\n",
    "    )\n",
    "    \n",
    "    # Preparar resultados completos\n",
    "    results = {\n",
    "        'model_name': 'Random Forest',\n",
    "        'encoding': encoding_name,\n",
    "        'metrics': metrics,\n",
    "        'parameters': best_params,\n",
    "        'cv_score': cv_score,\n",
    "        'training_time': training_time,\n",
    "        'model_file': model_file,\n",
    "        'metadata_file': metadata_file,\n",
    "        'evaluation_data': evaluation_data\n",
    "    }\n",
    "    \n",
    "    return results"
   ]
  },
  {
   "cell_type": "code",
   "execution_count": 20,
   "id": "73f6148a",
   "metadata": {},
   "outputs": [],
   "source": [
    "def train_xgboost(X_train, X_test, y_train, y_test, encoding_name, class_names,\n",
    "                  do_gridsearch=False, n_estimators=100, max_depth=6, learning_rate=0.3, \n",
    "                  subsample=0.8, colsample_bytree=0.8, n_cores=1, random_state=42):\n",
    "    \n",
    "    start_time = time.time()\n",
    "    \n",
    "    if do_gridsearch:\n",
    "        print(f\"\\t\\tEjecutando Grid Search para XGBoost...\")\n",
    "        param_grid = {\n",
    "            'n_estimators': [50, 100],\n",
    "            'max_depth': [3, 6],\n",
    "            'learning_rate': [0.1, 0.3],\n",
    "            'subsample': [0.7, 0.8, 0.9],\n",
    "            'colsample_bytree': [0.7, 0.8, 0.9]\n",
    "        }\n",
    "        \n",
    "        # Usar GridSearchCV\n",
    "        grid_search = GridSearchCV(\n",
    "            XGBClassifier(\n",
    "                eval_metric='mlogloss',\n",
    "                tree_method='hist',\n",
    "                grow_policy='lossguide',\n",
    "                random_state=random_state,\n",
    "                n_jobs=1,\n",
    "                verbosity=0,\n",
    "                use_label_encoder=False\n",
    "            ),\n",
    "            param_grid,\n",
    "            cv=5,\n",
    "            scoring='f1_weighted',\n",
    "            n_jobs=n_cores,\n",
    "            verbose=1\n",
    "        )\n",
    "        \n",
    "        grid_search.fit(X_train, y_train, verbose=False)\n",
    "        model = grid_search.best_estimator_\n",
    "        best_params = grid_search.best_params_\n",
    "        cv_score = grid_search.best_score_\n",
    "        \n",
    "        # Guardar resultados detallados de grid search\n",
    "        gridsearch_results = {\n",
    "            'algorithm': 'XGBoost',\n",
    "            'encoding': encoding_name,\n",
    "            'best_params': best_params,\n",
    "            'best_score': cv_score,\n",
    "            'cv_results': {\n",
    "                'mean_test_score': grid_search.cv_results_['mean_test_score'].tolist(),\n",
    "                'std_test_score': grid_search.cv_results_['std_test_score'].tolist(),\n",
    "                'params': grid_search.cv_results_['params']\n",
    "            }\n",
    "        }\n",
    "        save_gridsearch_results(gridsearch_results, 'XGBoost', encoding_name)\n",
    "        \n",
    "    else:\n",
    "        model = XGBClassifier(\n",
    "            n_estimators=n_estimators,\n",
    "            max_depth=max_depth,\n",
    "            learning_rate=learning_rate,\n",
    "            subsample=subsample,\n",
    "            colsample_bytree=colsample_bytree,\n",
    "            eval_metric='mlogloss',\n",
    "            tree_method='hist',\n",
    "            grow_policy='lossguide',\n",
    "            random_state=random_state,\n",
    "            n_jobs=1,\n",
    "            verbosity=0,\n",
    "            use_label_encoder=False\n",
    "        )\n",
    "        model.fit(X_train, y_train, verbose=False)\n",
    "        \n",
    "        best_params = {\n",
    "            'n_estimators': n_estimators,\n",
    "            'max_depth': max_depth,\n",
    "            'learning_rate': learning_rate,\n",
    "            'subsample': subsample,\n",
    "            'colsample_bytree': colsample_bytree\n",
    "        }\n",
    "        cv_score = None\n",
    "    \n",
    "    training_time = time.time() - start_time\n",
    "    \n",
    "    # Evaluar modelo\n",
    "    metrics, evaluation_data = evaluate_model_simple(model, X_test, y_test, class_names)\n",
    "    \n",
    "    print(f\"\\tXGBoost {encoding_name} - Accuracy: {metrics['accuracy']:.4f}, \"\n",
    "          f\"F1: {metrics['f1_score_weighted']:.4f}, \"\n",
    "          f\"Precision Macro: {metrics['precision_macro']:.4f}, \"\n",
    "          f\"Tiempo: {training_time:.2f}s\")\n",
    "    \n",
    "    # Guardar modelo\n",
    "    model_file, metadata_file = save_model_safely(\n",
    "        model, 'XGBoost', encoding_name, 'XGBoost', metrics, best_params\n",
    "    )\n",
    "    \n",
    "    # Preparar resultados completos\n",
    "    results = {\n",
    "        'model_name': 'XGBoost',\n",
    "        'encoding': encoding_name,\n",
    "        'metrics': metrics,\n",
    "        'parameters': best_params,\n",
    "        'cv_score': cv_score,\n",
    "        'training_time': training_time,\n",
    "        'model_file': model_file,\n",
    "        'metadata_file': metadata_file,\n",
    "        'evaluation_data': evaluation_data\n",
    "    }\n",
    "    \n",
    "    return results"
   ]
  },
  {
   "cell_type": "code",
   "execution_count": 21,
   "id": "e05ae142",
   "metadata": {},
   "outputs": [
    {
     "name": "stdout",
     "output_type": "stream",
     "text": [
      "Cargando datos...\n",
      "Datos listos\n",
      "Codificando secuencias\n",
      "AS_One Hot...\n",
      "AS_K-mers...\n",
      "AS_FFT...\n",
      "AS_Wavelet...\n",
      "AS_K-mers + FFT...\n",
      "AS_One Hot + FFT...\n",
      "AS_K-mers + Wavelet...\n",
      "AS_One Hot + Wavelet...\n",
      "PS_One Hot...\n",
      "PS_K-mers...\n",
      "PS_FFT...\n",
      "PS_Wavelet...\n",
      "PS_K-mers + FFT...\n",
      "PS_One Hot + FFT...\n",
      "PS_K-mers + Wavelet...\n",
      "PS_One Hot + Wavelet...\n",
      "Secuencias codificadas\n"
     ]
    }
   ],
   "source": [
    "# ============================================================================\n",
    "# EJECUCIÓN PRINCIPAL\n",
    "# ============================================================================\n",
    "\n",
    "print('Cargando datos...')\n",
    "\n",
    "# Cargar datos\n",
    "df = pd.read_csv('datos/datos_filtrados_sin_encoding.csv')\n",
    "df=df[df['purpose']!=2]\n",
    "\n",
    "print(\"Datos listos\")\n",
    "\n",
    "# Padding de secuencias\n",
    "maxlen = max([len(i) for i in df['original_sequence']]) \n",
    "df['padded_sequences'] = pad_sequences(df['original_sequence'], maxlen)\n",
    "\n",
    "# Calcular longitudes\n",
    "df['len_ps'] = [len(i) for i in df['padded_sequences']]\n",
    "df['len_as'] = [len(i) for i in df['aligned_sequence']]\n",
    "\n",
    "print(\"Codificando secuencias\")\n",
    "\n",
    "# Aligned Sequences (AS)\n",
    "print('AS_One Hot...')\n",
    "df['AS_One Hot'] = one_hot(df['aligned_sequence'].values, len(df['aligned_sequence'][0]))\n",
    "print('AS_K-mers...')\n",
    "df['AS_K-mers'] = k_mers(df['aligned_sequence'].values)\n",
    "print('AS_FFT...')\n",
    "df['AS_FFT'] = fourier(df['aligned_sequence'].values)\n",
    "print('AS_Wavelet...')\n",
    "df['AS_Wavelet'] = wavelet(df['aligned_sequence'].values)\n",
    "print('AS_K-mers + FFT...')\n",
    "df['AS_K-mers + FFT'] = fourier(df['AS_K-mers'].values, False)\n",
    "print('AS_One Hot + FFT...')\n",
    "df['AS_One Hot + FFT'] = fourier(df['AS_One Hot'].values, False)\n",
    "print('AS_K-mers + Wavelet...')\n",
    "df['AS_K-mers + Wavelet'] = wavelet(df['AS_K-mers'].values, True)\n",
    "print('AS_One Hot + Wavelet...')\n",
    "df['AS_One Hot + Wavelet'] = wavelet(df['AS_One Hot'].values, True)\n",
    "\n",
    "# Padded Sequences (PS)\n",
    "print('PS_One Hot...')\n",
    "df['PS_One Hot'] = one_hot(df['padded_sequences'].values, len(df['padded_sequences'][0]))\n",
    "print('PS_K-mers...')\n",
    "df['PS_K-mers'] = k_mers(df['padded_sequences'].values)\n",
    "print('PS_FFT...')\n",
    "df['PS_FFT'] = fourier(df['padded_sequences'].values)\n",
    "print('PS_Wavelet...')\n",
    "df['PS_Wavelet'] = wavelet(df['padded_sequences'].values)\n",
    "print('PS_K-mers + FFT...')\n",
    "df['PS_K-mers + FFT'] = fourier(df['PS_K-mers'].values, False)\n",
    "print('PS_One Hot + FFT...')\n",
    "df['PS_One Hot + FFT'] = fourier(df['PS_One Hot'].values, False)\n",
    "print('PS_K-mers + Wavelet...')\n",
    "df['PS_K-mers + Wavelet'] = wavelet(df['PS_K-mers'].values, True)\n",
    "print('PS_One Hot + Wavelet...')\n",
    "df['PS_One Hot + Wavelet'] = wavelet(df['PS_One Hot'].values, True)\n",
    "\n",
    "print(\"Secuencias codificadas\")\n",
    "\n",
    "# Cargar mapeo de clases\n",
    "mapeo_df = pd.read_csv('datos/mapeo_clases.csv')\n",
    "df = df.merge(mapeo_df.rename(columns={'model_class': 'clases_modelos'}), \n",
    "              on='genus', how='left')\n",
    "\n",
    "# Crear mapeo inverso para nombres de clases\n",
    "tempdf = df[['genus', 'clases_modelos']].drop_duplicates()\n",
    "reverse_map_genus = {v2: v1 for v1, v2 in tempdf.values}"
   ]
  },
  {
   "cell_type": "code",
   "execution_count": 22,
   "id": "ac70638d",
   "metadata": {},
   "outputs": [],
   "source": [
    "\n",
    "encodings = [\n",
    "    'AS_One Hot', \n",
    "    'AS_K-mers', \n",
    "    'AS_FFT',\n",
    "    'AS_Wavelet', \n",
    "    'AS_K-mers + FFT', \n",
    "    'AS_One Hot + FFT',\n",
    "    'AS_K-mers + Wavelet', \n",
    "    'AS_One Hot + Wavelet', \n",
    "    'PS_One Hot',\n",
    "    'PS_K-mers', \n",
    "    'PS_FFT', \n",
    "    'PS_Wavelet', \n",
    "    'PS_K-mers + FFT',\n",
    "    'PS_One Hot + FFT', \n",
    "    'PS_K-mers + Wavelet', \n",
    "    'PS_One Hot + Wavelet'\n",
    "]\n",
    "\n",
    "parametros_optimos = {\n",
    "    \"Random Forest\": {\n",
    "        \"AS_FFT\": {\n",
    "            \"max_depth\": 20,\n",
    "            \"min_samples_split\": 10,\n",
    "            \"n_estimators\": 200\n",
    "        },\n",
    "        \"AS_K-mers + FFT\": {\n",
    "            \"max_depth\": 10,\n",
    "            \"min_samples_split\": 2,\n",
    "            \"n_estimators\": 200\n",
    "        },\n",
    "        \"AS_K-mers + Wavelet\": {\n",
    "            \"max_depth\": 20,\n",
    "            \"min_samples_split\": 10,\n",
    "            \"n_estimators\": 200\n",
    "        },\n",
    "        \"AS_K-mers\": {\n",
    "            \"max_depth\": 20,\n",
    "            \"min_samples_split\": 2,\n",
    "            \"n_estimators\": 200\n",
    "        },\n",
    "        \"AS_One Hot + FFT\": {\n",
    "            \"max_depth\": 10,\n",
    "            \"min_samples_split\": 2,\n",
    "            \"n_estimators\": 200\n",
    "        },\n",
    "        \"AS_One Hot + Wavelet\": {\n",
    "            \"max_depth\": None,\n",
    "            \"min_samples_split\": 10,\n",
    "            \"n_estimators\": 50\n",
    "        },\n",
    "        \"AS_One Hot\": {\n",
    "            \"max_depth\": 10,\n",
    "            \"min_samples_split\": 2,\n",
    "            \"n_estimators\": 200\n",
    "        },\n",
    "        \"AS_Wavelet\": {\n",
    "            \"max_depth\": None,\n",
    "            \"min_samples_split\": 5,\n",
    "            \"n_estimators\": 50\n",
    "        },\n",
    "        \"PS_FFT\": {\n",
    "            \"max_depth\": None,\n",
    "            \"min_samples_split\": 5,\n",
    "            \"n_estimators\": 200\n",
    "        },\n",
    "        \"PS_K-mers + FFT\": {\n",
    "            \"max_depth\": None,\n",
    "            \"min_samples_split\": 10,\n",
    "            \"n_estimators\": 200\n",
    "        },\n",
    "        \"PS_K-mers + Wavelet\": {\n",
    "            \"max_depth\": 20,\n",
    "            \"min_samples_split\": 2,\n",
    "            \"n_estimators\": 200\n",
    "        },\n",
    "        \"PS_K-mers\": {\n",
    "            \"max_depth\": None,\n",
    "            \"min_samples_split\": 2,\n",
    "            \"n_estimators\": 200\n",
    "        },\n",
    "        \"PS_One Hot + FFT\": {\n",
    "            \"max_depth\": 20,\n",
    "            \"min_samples_split\": 5,\n",
    "            \"n_estimators\": 200\n",
    "        },\n",
    "        \"PS_One Hot + Wavelet\": {\n",
    "            \"max_depth\": 20,\n",
    "            \"min_samples_split\": 2,\n",
    "            \"n_estimators\": 200\n",
    "        },\n",
    "        \"PS_One Hot\": {\n",
    "            \"max_depth\": 20,\n",
    "            \"min_samples_split\": 5,\n",
    "            \"n_estimators\": 200\n",
    "        },\n",
    "        \"PS_Wavelet\": {\n",
    "            \"max_depth\": 30,\n",
    "            \"min_samples_split\": 5,\n",
    "            \"n_estimators\": 200\n",
    "        }\n",
    "    },\n",
    "    \"SVM\": {\n",
    "        \"AS_FFT\": {\n",
    "            \"C\": 10,\n",
    "            \"gamma\": \"scale\",\n",
    "            \"kernel\": \"rbf\"\n",
    "        },\n",
    "        \"AS_K-mers + FFT\": {\n",
    "            \"C\": 1,\n",
    "            \"gamma\": \"scale\",\n",
    "            \"kernel\": \"rbf\"\n",
    "        },\n",
    "        \"AS_K-mers + Wavelet\": {\n",
    "            \"C\": 100,\n",
    "            \"gamma\": \"scale\",\n",
    "            \"kernel\": \"rbf\"\n",
    "        },\n",
    "        \"AS_K-mers\": {\n",
    "            \"C\": 10,\n",
    "            \"gamma\": \"scale\",\n",
    "            \"kernel\": \"rbf\"\n",
    "        },\n",
    "        \"AS_One Hot + FFT\": {\n",
    "            \"C\": 10,\n",
    "            \"gamma\": \"scale\",\n",
    "            \"kernel\": \"rbf\"\n",
    "        },\n",
    "        \"AS_One Hot + Wavelet\": {\n",
    "            \"C\": 100,\n",
    "            \"gamma\": \"auto\",\n",
    "            \"kernel\": \"rbf\"\n",
    "        },\n",
    "        \"AS_One Hot\": {\n",
    "            \"C\": 10,\n",
    "            \"gamma\": \"scale\",\n",
    "            \"kernel\": \"rbf\"\n",
    "        },\n",
    "        \"AS_Wavelet\": {\n",
    "            \"C\": 100,\n",
    "            \"gamma\": \"scale\",\n",
    "            \"kernel\": \"rbf\"\n",
    "        },\n",
    "        \"PS_FFT\": {\n",
    "            \"C\": 0.1,\n",
    "            \"gamma\": \"scale\",\n",
    "            \"kernel\": \"linear\"\n",
    "        },\n",
    "        \"PS_K-mers + FFT\": {\n",
    "            \"C\": 0.1,\n",
    "            \"gamma\": \"scale\",\n",
    "            \"kernel\": \"linear\"\n",
    "        },\n",
    "        \"PS_K-mers + Wavelet\": {\n",
    "            \"C\": 100,\n",
    "            \"gamma\": \"scale\",\n",
    "            \"kernel\": \"rbf\"\n",
    "        },\n",
    "        \"PS_K-mers\": {\n",
    "            \"C\": 10,\n",
    "            \"gamma\": \"scale\",\n",
    "            \"kernel\": \"rbf\"\n",
    "        },\n",
    "        \"PS_One Hot + FFT\": {\n",
    "            \"C\": 0.1,\n",
    "            \"gamma\": \"scale\",\n",
    "            \"kernel\": \"linear\"\n",
    "        },\n",
    "        \"PS_One Hot + Wavelet\": {\n",
    "            \"C\": 100,\n",
    "            \"gamma\": \"auto\",\n",
    "            \"kernel\": \"rbf\"\n",
    "        },\n",
    "        \"PS_One Hot\": {\n",
    "            \"C\": 100,\n",
    "            \"gamma\": \"auto\",\n",
    "            \"kernel\": \"rbf\"\n",
    "        },\n",
    "        \"PS_Wavelet\": {\n",
    "            \"C\": 0.1,\n",
    "            \"gamma\": \"scale\",\n",
    "            \"kernel\": \"linear\"\n",
    "        }\n",
    "    },\n",
    "    \"XGBoost\": {\n",
    "        \"AS_FFT\": {\n",
    "            \"colsample_bytree\": 0.7,\n",
    "            \"learning_rate\": 0.1,\n",
    "            \"max_depth\": 3,\n",
    "            \"n_estimators\": 100,\n",
    "            \"subsample\": 0.7\n",
    "        },\n",
    "        \"AS_K-mers + FFT\": {\n",
    "            \"colsample_bytree\": 0.7,\n",
    "            \"learning_rate\": 0.1,\n",
    "            \"max_depth\": 3,\n",
    "            \"n_estimators\": 100,\n",
    "            \"subsample\": 0.8\n",
    "        },\n",
    "        \"AS_K-mers + Wavelet\": {\n",
    "            \"colsample_bytree\": 0.8,\n",
    "            \"learning_rate\": 0.1,\n",
    "            \"max_depth\": 3,\n",
    "            \"n_estimators\": 50,\n",
    "            \"subsample\": 0.7\n",
    "        },\n",
    "        \"AS_K-mers\": {\n",
    "            \"colsample_bytree\": 0.7,\n",
    "            \"learning_rate\": 0.1,\n",
    "            \"max_depth\": 3,\n",
    "            \"n_estimators\": 100,\n",
    "            \"subsample\": 0.7\n",
    "        },\n",
    "        \"AS_One Hot + FFT\": {\n",
    "            \"colsample_bytree\": 0.7,\n",
    "            \"learning_rate\": 0.1,\n",
    "            \"max_depth\": 3,\n",
    "            \"n_estimators\": 100,\n",
    "            \"subsample\": 0.8\n",
    "        },\n",
    "        \"AS_One Hot + Wavelet\": {\n",
    "            \"colsample_bytree\": 0.9,\n",
    "            \"learning_rate\": 0.3,\n",
    "            \"max_depth\": 6,\n",
    "            \"n_estimators\": 50,\n",
    "            \"subsample\": 0.7\n",
    "        },\n",
    "        \"AS_One Hot\": {\n",
    "            \"colsample_bytree\": 0.7,\n",
    "            \"learning_rate\": 0.1,\n",
    "            \"max_depth\": 3,\n",
    "            \"n_estimators\": 50,\n",
    "            \"subsample\": 0.7\n",
    "        },\n",
    "        \"AS_Wavelet\": {\n",
    "            \"colsample_bytree\": 0.7,\n",
    "            \"learning_rate\": 0.1,\n",
    "            \"max_depth\": 6,\n",
    "            \"n_estimators\": 50,\n",
    "            \"subsample\": 0.8\n",
    "        },\n",
    "        \"PS_FFT\": {\n",
    "            \"colsample_bytree\": 0.7,\n",
    "            \"learning_rate\": 0.1,\n",
    "            \"max_depth\": 3,\n",
    "            \"n_estimators\": 100,\n",
    "            \"subsample\": 0.8\n",
    "        },\n",
    "        \"PS_K-mers + FFT\": {\n",
    "            \"colsample_bytree\": 0.7,\n",
    "            \"learning_rate\": 0.1,\n",
    "            \"max_depth\": 6,\n",
    "            \"n_estimators\": 100,\n",
    "            \"subsample\": 0.7\n",
    "        },\n",
    "        \"PS_K-mers + Wavelet\": {\n",
    "            \"colsample_bytree\": 0.7,\n",
    "            \"learning_rate\": 0.1,\n",
    "            \"max_depth\": 3,\n",
    "            \"n_estimators\": 100,\n",
    "            \"subsample\": 0.8\n",
    "        },\n",
    "        \"PS_K-mers\": {\n",
    "            \"colsample_bytree\": 0.7,\n",
    "            \"learning_rate\": 0.1,\n",
    "            \"max_depth\": 6,\n",
    "            \"n_estimators\": 100,\n",
    "            \"subsample\": 0.7\n",
    "        },\n",
    "        \"PS_One Hot + FFT\": {\n",
    "            \"colsample_bytree\": 0.8,\n",
    "            \"learning_rate\": 0.1,\n",
    "            \"max_depth\": 6,\n",
    "            \"n_estimators\": 100,\n",
    "            \"subsample\": 0.7\n",
    "        },\n",
    "        \"PS_One Hot + Wavelet\": {\n",
    "            \"colsample_bytree\": 0.9,\n",
    "            \"learning_rate\": 0.1,\n",
    "            \"max_depth\": 6,\n",
    "            \"n_estimators\": 100,\n",
    "            \"subsample\": 0.7\n",
    "        },\n",
    "        \"PS_One Hot\": {\n",
    "            \"colsample_bytree\": 0.7,\n",
    "            \"learning_rate\": 0.1,\n",
    "            \"max_depth\": 6,\n",
    "            \"n_estimators\": 100,\n",
    "            \"subsample\": 0.7\n",
    "        },\n",
    "        \"PS_Wavelet\": {\n",
    "            \"colsample_bytree\": 0.9,\n",
    "            \"learning_rate\": 0.1,\n",
    "            \"max_depth\": 6,\n",
    "            \"n_estimators\": 100,\n",
    "            \"subsample\": 0.9\n",
    "        }\n",
    "    }\n",
    "}"
   ]
  },
  {
   "cell_type": "code",
   "execution_count": 23,
   "id": "943997c5",
   "metadata": {},
   "outputs": [
    {
     "name": "stdout",
     "output_type": "stream",
     "text": [
      "Training data: 5800 muestras\n",
      "Evaluation data: 8555 muestras\n"
     ]
    }
   ],
   "source": [
    "# Filtrar datos para entrenamiento (is_training=True)\n",
    "training_data = df[df['purpose'] == 0].copy()\n",
    "evaluation_data = df[df['purpose'] == 1].copy()\n",
    "\n",
    "print(f\"Training data: {len(training_data)} muestras\")\n",
    "print(f\"Evaluation data: {len(evaluation_data)} muestras\")"
   ]
  },
  {
   "cell_type": "code",
   "execution_count": 24,
   "id": "ce5a4ca8",
   "metadata": {},
   "outputs": [
    {
     "name": "stdout",
     "output_type": "stream",
     "text": [
      "datos de testeo guardados en: datos/evaluation_data.parquet\n"
     ]
    }
   ],
   "source": [
    "# Guardar datos de evaluación para uso posterior\n",
    "test_data_path='datos/evaluation_data.parquet'\n",
    "if os.path.exists(test_data_path):\n",
    "    print(f\"datos de testeo guardados en: {test_data_path}\")\n",
    "else:\n",
    "    evaluation_data.to_parquet(test_data_path, index=False)\n",
    "    print(f\"datos de testeo guardados en: {test_data_path}\")"
   ]
  },
  {
   "cell_type": "code",
   "execution_count": 12,
   "id": "ec537b8a",
   "metadata": {},
   "outputs": [
    {
     "name": "stdout",
     "output_type": "stream",
     "text": [
      "Iniciando entrenamiento...\n",
      "\n",
      "============================================================\n",
      "\tProcesando encoding 1/16: AS_One Hot\n",
      "\tSVM AS_One Hot - Accuracy: 0.9974, F1: 0.9974, Precision Macro: 0.9975, Tiempo: 363.73s\n",
      "\t\tModelo guardado: modelos/SVM/AS_One Hot.joblib\n",
      "\t\tResultados guardados: results/training_results/svm_AS_One Hot.json\n",
      "\tRandom Forest AS_One Hot - Accuracy: 0.9966, F1: 0.9966, Precision Macro: 0.9966, Tiempo: 7.43s\n",
      "\t\tModelo guardado: modelos/RandomForest/AS_One Hot.joblib\n",
      "\t\tResultados guardados: results/training_results/rf_AS_One Hot.json\n",
      "\tXGBoost AS_One Hot - Accuracy: 0.9966, F1: 0.9966, Precision Macro: 0.9966, Tiempo: 150.86s\n",
      "\t\tModelo guardado: modelos/XGBoost/AS_One Hot.joblib\n",
      "\t\tResultados guardados: results/training_results/xgb_AS_One Hot.json\n",
      "\n",
      "============================================================\n",
      "\tProcesando encoding 2/16: AS_K-mers\n",
      "\tSVM AS_K-mers - Accuracy: 0.9966, F1: 0.9966, Precision Macro: 0.9966, Tiempo: 33.80s\n",
      "\t\tModelo guardado: modelos/SVM/AS_K-mers.joblib\n",
      "\t\tResultados guardados: results/training_results/svm_AS_K-mers.json\n",
      "\tRandom Forest AS_K-mers - Accuracy: 0.9966, F1: 0.9966, Precision Macro: 0.9966, Tiempo: 4.64s\n",
      "\t\tModelo guardado: modelos/RandomForest/AS_K-mers.joblib\n",
      "\t\tResultados guardados: results/training_results/rf_AS_K-mers.json\n",
      "\tXGBoost AS_K-mers - Accuracy: 0.9966, F1: 0.9966, Precision Macro: 0.9966, Tiempo: 90.55s\n",
      "\t\tModelo guardado: modelos/XGBoost/AS_K-mers.joblib\n",
      "\t\tResultados guardados: results/training_results/xgb_AS_K-mers.json\n",
      "\n",
      "============================================================\n",
      "\tProcesando encoding 3/16: AS_FFT\n",
      "\tSVM AS_FFT - Accuracy: 0.9966, F1: 0.9966, Precision Macro: 0.9966, Tiempo: 18.27s\n",
      "\t\tModelo guardado: modelos/SVM/AS_FFT.joblib\n",
      "\t\tResultados guardados: results/training_results/svm_AS_FFT.json\n",
      "\tRandom Forest AS_FFT - Accuracy: 0.9957, F1: 0.9957, Precision Macro: 0.9958, Tiempo: 32.86s\n",
      "\t\tModelo guardado: modelos/RandomForest/AS_FFT.joblib\n",
      "\t\tResultados guardados: results/training_results/rf_AS_FFT.json\n",
      "\tXGBoost AS_FFT - Accuracy: 0.9966, F1: 0.9966, Precision Macro: 0.9966, Tiempo: 136.49s\n",
      "\t\tModelo guardado: modelos/XGBoost/AS_FFT.joblib\n",
      "\t\tResultados guardados: results/training_results/xgb_AS_FFT.json\n",
      "\n",
      "============================================================\n",
      "\tProcesando encoding 4/16: AS_Wavelet\n",
      "\tSVM AS_Wavelet - Accuracy: 0.9966, F1: 0.9966, Precision Macro: 0.9967, Tiempo: 45.95s\n",
      "\t\tModelo guardado: modelos/SVM/AS_Wavelet.joblib\n",
      "\t\tResultados guardados: results/training_results/svm_AS_Wavelet.json\n",
      "\tRandom Forest AS_Wavelet - Accuracy: 0.9966, F1: 0.9966, Precision Macro: 0.9967, Tiempo: 1.70s\n",
      "\t\tModelo guardado: modelos/RandomForest/AS_Wavelet.joblib\n",
      "\t\tResultados guardados: results/training_results/rf_AS_Wavelet.json\n",
      "\tXGBoost AS_Wavelet - Accuracy: 0.9966, F1: 0.9966, Precision Macro: 0.9967, Tiempo: 44.10s\n",
      "\t\tModelo guardado: modelos/XGBoost/AS_Wavelet.joblib\n",
      "\t\tResultados guardados: results/training_results/xgb_AS_Wavelet.json\n",
      "\n",
      "============================================================\n",
      "\tProcesando encoding 5/16: AS_K-mers + FFT\n",
      "\tSVM AS_K-mers + FFT - Accuracy: 0.9966, F1: 0.9966, Precision Macro: 0.9967, Tiempo: 17.83s\n",
      "\t\tModelo guardado: modelos/SVM/AS_K-mers + FFT.joblib\n",
      "\t\tResultados guardados: results/training_results/svm_AS_K-mers + FFT.json\n",
      "\tRandom Forest AS_K-mers + FFT - Accuracy: 0.9966, F1: 0.9966, Precision Macro: 0.9967, Tiempo: 24.93s\n",
      "\t\tModelo guardado: modelos/RandomForest/AS_K-mers + FFT.joblib\n",
      "\t\tResultados guardados: results/training_results/rf_AS_K-mers + FFT.json\n",
      "\tXGBoost AS_K-mers + FFT - Accuracy: 0.9948, F1: 0.9948, Precision Macro: 0.9949, Tiempo: 134.04s\n",
      "\t\tModelo guardado: modelos/XGBoost/AS_K-mers + FFT.joblib\n",
      "\t\tResultados guardados: results/training_results/xgb_AS_K-mers + FFT.json\n",
      "\n",
      "============================================================\n",
      "\tProcesando encoding 6/16: AS_One Hot + FFT\n",
      "\tSVM AS_One Hot + FFT - Accuracy: 0.9966, F1: 0.9966, Precision Macro: 0.9967, Tiempo: 151.88s\n",
      "\t\tModelo guardado: modelos/SVM/AS_One Hot + FFT.joblib\n",
      "\t\tResultados guardados: results/training_results/svm_AS_One Hot + FFT.json\n",
      "\tRandom Forest AS_One Hot + FFT - Accuracy: 0.9966, F1: 0.9966, Precision Macro: 0.9966, Tiempo: 58.64s\n",
      "\t\tModelo guardado: modelos/RandomForest/AS_One Hot + FFT.joblib\n",
      "\t\tResultados guardados: results/training_results/rf_AS_One Hot + FFT.json\n",
      "\tXGBoost AS_One Hot + FFT - Accuracy: 0.9957, F1: 0.9957, Precision Macro: 0.9958, Tiempo: 897.86s\n",
      "\t\tModelo guardado: modelos/XGBoost/AS_One Hot + FFT.joblib\n",
      "\t\tResultados guardados: results/training_results/xgb_AS_One Hot + FFT.json\n",
      "\n",
      "============================================================\n",
      "\tProcesando encoding 7/16: AS_K-mers + Wavelet\n",
      "\tSVM AS_K-mers + Wavelet - Accuracy: 0.9974, F1: 0.9974, Precision Macro: 0.9975, Tiempo: 31.60s\n",
      "\t\tModelo guardado: modelos/SVM/AS_K-mers + Wavelet.joblib\n",
      "\t\tResultados guardados: results/training_results/svm_AS_K-mers + Wavelet.json\n",
      "\tRandom Forest AS_K-mers + Wavelet - Accuracy: 0.9966, F1: 0.9966, Precision Macro: 0.9967, Tiempo: 4.85s\n",
      "\t\tModelo guardado: modelos/RandomForest/AS_K-mers + Wavelet.joblib\n",
      "\t\tResultados guardados: results/training_results/rf_AS_K-mers + Wavelet.json\n",
      "\tXGBoost AS_K-mers + Wavelet - Accuracy: 0.9966, F1: 0.9966, Precision Macro: 0.9966, Tiempo: 135.60s\n",
      "\t\tModelo guardado: modelos/XGBoost/AS_K-mers + Wavelet.joblib\n",
      "\t\tResultados guardados: results/training_results/xgb_AS_K-mers + Wavelet.json\n",
      "\n",
      "============================================================\n",
      "\tProcesando encoding 8/16: AS_One Hot + Wavelet\n",
      "\tSVM AS_One Hot + Wavelet - Accuracy: 0.9974, F1: 0.9974, Precision Macro: 0.9975, Tiempo: 352.91s\n",
      "\t\tModelo guardado: modelos/SVM/AS_One Hot + Wavelet.joblib\n",
      "\t\tResultados guardados: results/training_results/svm_AS_One Hot + Wavelet.json\n",
      "\tRandom Forest AS_One Hot + Wavelet - Accuracy: 0.9974, F1: 0.9974, Precision Macro: 0.9975, Tiempo: 2.57s\n",
      "\t\tModelo guardado: modelos/RandomForest/AS_One Hot + Wavelet.joblib\n",
      "\t\tResultados guardados: results/training_results/rf_AS_One Hot + Wavelet.json\n",
      "\tXGBoost AS_One Hot + Wavelet - Accuracy: 0.9957, F1: 0.9957, Precision Macro: 0.9958, Tiempo: 204.76s\n",
      "\t\tModelo guardado: modelos/XGBoost/AS_One Hot + Wavelet.joblib\n",
      "\t\tResultados guardados: results/training_results/xgb_AS_One Hot + Wavelet.json\n",
      "\n",
      "============================================================\n",
      "\tProcesando encoding 9/16: PS_One Hot\n",
      "\tSVM PS_One Hot - Accuracy: 0.9707, F1: 0.9710, Precision Macro: 0.9727, Tiempo: 80.41s\n",
      "\t\tModelo guardado: modelos/SVM/PS_One Hot.joblib\n",
      "\t\tResultados guardados: results/training_results/svm_PS_One Hot.json\n",
      "\tRandom Forest PS_One Hot - Accuracy: 0.9672, F1: 0.9675, Precision Macro: 0.9694, Tiempo: 6.12s\n",
      "\t\tModelo guardado: modelos/RandomForest/PS_One Hot.joblib\n",
      "\t\tResultados guardados: results/training_results/rf_PS_One Hot.json\n",
      "\tXGBoost PS_One Hot - Accuracy: 0.9716, F1: 0.9718, Precision Macro: 0.9727, Tiempo: 90.82s\n",
      "\t\tModelo guardado: modelos/XGBoost/PS_One Hot.joblib\n",
      "\t\tResultados guardados: results/training_results/xgb_PS_One Hot.json\n",
      "\n",
      "============================================================\n",
      "\tProcesando encoding 10/16: PS_K-mers\n",
      "\tSVM PS_K-mers - Accuracy: 0.9724, F1: 0.9727, Precision Macro: 0.9744, Tiempo: 17.79s\n",
      "\t\tModelo guardado: modelos/SVM/PS_K-mers.joblib\n",
      "\t\tResultados guardados: results/training_results/svm_PS_K-mers.json\n",
      "\tRandom Forest PS_K-mers - Accuracy: 0.9716, F1: 0.9718, Precision Macro: 0.9738, Tiempo: 6.73s\n",
      "\t\tModelo guardado: modelos/RandomForest/PS_K-mers.joblib\n",
      "\t\tResultados guardados: results/training_results/rf_PS_K-mers.json\n",
      "\tXGBoost PS_K-mers - Accuracy: 0.9690, F1: 0.9693, Precision Macro: 0.9706, Tiempo: 59.75s\n",
      "\t\tModelo guardado: modelos/XGBoost/PS_K-mers.joblib\n",
      "\t\tResultados guardados: results/training_results/xgb_PS_K-mers.json\n",
      "\n",
      "============================================================\n",
      "\tProcesando encoding 11/16: PS_FFT\n",
      "\tSVM PS_FFT - Accuracy: 0.9914, F1: 0.9914, Precision Macro: 0.9917, Tiempo: 2.83s\n",
      "\t\tModelo guardado: modelos/SVM/PS_FFT.joblib\n",
      "\t\tResultados guardados: results/training_results/svm_PS_FFT.json\n",
      "\tRandom Forest PS_FFT - Accuracy: 0.9905, F1: 0.9905, Precision Macro: 0.9908, Tiempo: 14.16s\n",
      "\t\tModelo guardado: modelos/RandomForest/PS_FFT.joblib\n",
      "\t\tResultados guardados: results/training_results/rf_PS_FFT.json\n",
      "\tXGBoost PS_FFT - Accuracy: 0.9905, F1: 0.9905, Precision Macro: 0.9907, Tiempo: 26.98s\n",
      "\t\tModelo guardado: modelos/XGBoost/PS_FFT.joblib\n",
      "\t\tResultados guardados: results/training_results/xgb_PS_FFT.json\n",
      "\n",
      "============================================================\n",
      "\tProcesando encoding 12/16: PS_Wavelet\n",
      "\tSVM PS_Wavelet - Accuracy: 0.9655, F1: 0.9660, Precision Macro: 0.9678, Tiempo: 9.81s\n",
      "\t\tModelo guardado: modelos/SVM/PS_Wavelet.joblib\n",
      "\t\tResultados guardados: results/training_results/svm_PS_Wavelet.json\n",
      "\tRandom Forest PS_Wavelet - Accuracy: 0.9793, F1: 0.9795, Precision Macro: 0.9804, Tiempo: 4.36s\n",
      "\t\tModelo guardado: modelos/RandomForest/PS_Wavelet.joblib\n",
      "\t\tResultados guardados: results/training_results/rf_PS_Wavelet.json\n",
      "\tXGBoost PS_Wavelet - Accuracy: 0.9853, F1: 0.9854, Precision Macro: 0.9858, Tiempo: 35.75s\n",
      "\t\tModelo guardado: modelos/XGBoost/PS_Wavelet.joblib\n",
      "\t\tResultados guardados: results/training_results/xgb_PS_Wavelet.json\n",
      "\n",
      "============================================================\n",
      "\tProcesando encoding 13/16: PS_K-mers + FFT\n",
      "\tSVM PS_K-mers + FFT - Accuracy: 0.9914, F1: 0.9914, Precision Macro: 0.9917, Tiempo: 2.66s\n",
      "\t\tModelo guardado: modelos/SVM/PS_K-mers + FFT.joblib\n",
      "\t\tResultados guardados: results/training_results/svm_PS_K-mers + FFT.json\n",
      "\tRandom Forest PS_K-mers + FFT - Accuracy: 0.9922, F1: 0.9923, Precision Macro: 0.9924, Tiempo: 13.06s\n",
      "\t\tModelo guardado: modelos/RandomForest/PS_K-mers + FFT.joblib\n",
      "\t\tResultados guardados: results/training_results/rf_PS_K-mers + FFT.json\n",
      "\tXGBoost PS_K-mers + FFT - Accuracy: 0.9897, F1: 0.9896, Precision Macro: 0.9899, Tiempo: 33.34s\n",
      "\t\tModelo guardado: modelos/XGBoost/PS_K-mers + FFT.joblib\n",
      "\t\tResultados guardados: results/training_results/xgb_PS_K-mers + FFT.json\n",
      "\n",
      "============================================================\n",
      "\tProcesando encoding 14/16: PS_One Hot + FFT\n",
      "\tSVM PS_One Hot + FFT - Accuracy: 0.9922, F1: 0.9923, Precision Macro: 0.9926, Tiempo: 16.39s\n",
      "\t\tModelo guardado: modelos/SVM/PS_One Hot + FFT.joblib\n",
      "\t\tResultados guardados: results/training_results/svm_PS_One Hot + FFT.json\n",
      "\tRandom Forest PS_One Hot + FFT - Accuracy: 0.9940, F1: 0.9940, Precision Macro: 0.9942, Tiempo: 32.09s\n",
      "\t\tModelo guardado: modelos/RandomForest/PS_One Hot + FFT.joblib\n",
      "\t\tResultados guardados: results/training_results/rf_PS_One Hot + FFT.json\n",
      "\tXGBoost PS_One Hot + FFT - Accuracy: 0.9931, F1: 0.9931, Precision Macro: 0.9933, Tiempo: 170.60s\n",
      "\t\tModelo guardado: modelos/XGBoost/PS_One Hot + FFT.joblib\n",
      "\t\tResultados guardados: results/training_results/xgb_PS_One Hot + FFT.json\n",
      "\n",
      "============================================================\n",
      "\tProcesando encoding 15/16: PS_K-mers + Wavelet\n",
      "\tSVM PS_K-mers + Wavelet - Accuracy: 0.9707, F1: 0.9710, Precision Macro: 0.9725, Tiempo: 11.89s\n",
      "\t\tModelo guardado: modelos/SVM/PS_K-mers + Wavelet.joblib\n",
      "\t\tResultados guardados: results/training_results/svm_PS_K-mers + Wavelet.json\n",
      "\tRandom Forest PS_K-mers + Wavelet - Accuracy: 0.9819, F1: 0.9820, Precision Macro: 0.9825, Tiempo: 6.16s\n",
      "\t\tModelo guardado: modelos/RandomForest/PS_K-mers + Wavelet.joblib\n",
      "\t\tResultados guardados: results/training_results/rf_PS_K-mers + Wavelet.json\n",
      "\tXGBoost PS_K-mers + Wavelet - Accuracy: 0.9845, F1: 0.9846, Precision Macro: 0.9852, Tiempo: 43.64s\n",
      "\t\tModelo guardado: modelos/XGBoost/PS_K-mers + Wavelet.joblib\n",
      "\t\tResultados guardados: results/training_results/xgb_PS_K-mers + Wavelet.json\n",
      "\n",
      "============================================================\n",
      "\tProcesando encoding 16/16: PS_One Hot + Wavelet\n",
      "\tSVM PS_One Hot + Wavelet - Accuracy: 0.9707, F1: 0.9710, Precision Macro: 0.9727, Tiempo: 78.59s\n",
      "\t\tModelo guardado: modelos/SVM/PS_One Hot + Wavelet.joblib\n",
      "\t\tResultados guardados: results/training_results/svm_PS_One Hot + Wavelet.json\n",
      "\tRandom Forest PS_One Hot + Wavelet - Accuracy: 0.9690, F1: 0.9691, Precision Macro: 0.9700, Tiempo: 5.81s\n",
      "\t\tModelo guardado: modelos/RandomForest/PS_One Hot + Wavelet.joblib\n",
      "\t\tResultados guardados: results/training_results/rf_PS_One Hot + Wavelet.json\n",
      "\tXGBoost PS_One Hot + Wavelet - Accuracy: 0.9716, F1: 0.9718, Precision Macro: 0.9732, Tiempo: 116.24s\n",
      "\t\tModelo guardado: modelos/XGBoost/PS_One Hot + Wavelet.joblib\n",
      "\t\tResultados guardados: results/training_results/xgb_PS_One Hot + Wavelet.json\n"
     ]
    }
   ],
   "source": [
    "print(\"Iniciando entrenamiento...\")\n",
    "\n",
    "all_results = []\n",
    "experiment_start_time = time.time()\n",
    "\n",
    "for i, enc in enumerate(encodings):\n",
    "    print(f\"\\n{'='*60}\")\n",
    "    print(f\"\\tProcesando encoding {i+1}/{len(encodings)}: {enc}\")\n",
    "    \n",
    "    # Preparar datos para este encoding\n",
    "    X = training_data[enc].tolist()\n",
    "    y = training_data['clases_modelos'].values\n",
    "    \n",
    "    # División train/test para evaluación interna\n",
    "    X_train, X_test, y_train, y_test = train_test_split(\n",
    "        X, y, test_size=TEST_SIZE, random_state=RANDOM_STATE, stratify=y\n",
    "    )\n",
    "    \n",
    "    # ================== SVM ==================\n",
    "    params_svm = parametros_optimos['SVM'][enc]\n",
    "    results_svm = train_svm(\n",
    "        X_train, X_test, y_train, y_test, enc, reverse_map_genus,\n",
    "        **params_svm\n",
    "    )\n",
    "    all_results.append(results_svm)\n",
    "    \n",
    "    # Guardar resultados parciales\n",
    "    save_training_results(results_svm, f\"svm_{enc}.json\")\n",
    "    \n",
    "    # ================== Random Forest ==================\n",
    "    params_rf = parametros_optimos['Random Forest'][enc]\n",
    "    results_rf = train_random_forest(\n",
    "        X_train, X_test, y_train, y_test, enc, reverse_map_genus,\n",
    "        n_cores=N_CORES, random_state=RANDOM_STATE,\n",
    "        **params_rf\n",
    "    )\n",
    "    all_results.append(results_rf)\n",
    "\n",
    "    # Guardar resultados parciales\n",
    "    save_training_results(results_rf, f\"rf_{enc}.json\")\n",
    "\n",
    "    # ================== XGBoost ==================\n",
    "    params_xgb = parametros_optimos['XGBoost'][enc]\n",
    "    results_xgb = train_xgboost(\n",
    "        X_train, X_test, y_train, y_test, enc, reverse_map_genus,\n",
    "        n_cores=N_CORES, random_state=RANDOM_STATE,\n",
    "        **params_xgb\n",
    "    )\n",
    "    all_results.append(results_xgb)\n",
    "    \n",
    "    # Guardar resultados parciales\n",
    "    save_training_results(results_xgb, f\"xgb_{enc}.json\")\n",
    "\n",
    "\n",
    "experiment_end_time = time.time()\n",
    "total_experiment_time = experiment_end_time - experiment_start_time"
   ]
  },
  {
   "cell_type": "code",
   "execution_count": 13,
   "id": "af11df41",
   "metadata": {},
   "outputs": [
    {
     "name": "stdout",
     "output_type": "stream",
     "text": [
      "Guardando resultados...\n",
      "Resultados finales guardados: results/training_results/final_results.json\n",
      "[2025-07-26 12:28:43] \n",
      "============================================================\n",
      "[2025-07-26 12:28:43] ENTRENAMIENTO COMPLETADO\n",
      "[2025-07-26 12:28:43] ============================================================\n",
      "[2025-07-26 12:28:43] Tiempo total: 69.35 minutos\n",
      "[2025-07-26 12:28:43] Encodings procesados: 16\n",
      "[2025-07-26 12:28:43] Modelos entrenados: 48\n",
      "[2025-07-26 12:28:43] Datos de entrenamiento: 5800 muestras\n",
      "[2025-07-26 12:28:43] Datos de evaluación: 8555 muestras\n",
      "[2025-07-26 12:28:43] Resultados guardados en: results/training_results/final_results.json\n"
     ]
    }
   ],
   "source": [
    "\n",
    "print(\"Guardando resultados...\")\n",
    "\n",
    "# Guardar todos los resultados\n",
    "final_results = {\n",
    "    'experiment_info': {\n",
    "        'timestamp': datetime.now().isoformat(),\n",
    "        'total_time_seconds': total_experiment_time,\n",
    "        'total_time_minutes': total_experiment_time / 60,\n",
    "        'n_encodings': len(encodings),\n",
    "        'n_algorithms': 3,  \n",
    "        'total_models': len(all_results),\n",
    "        'training_samples': len(training_data),\n",
    "        'evaluation_samples': len(evaluation_data),\n",
    "        'config': {\n",
    "            'n_cores': N_CORES,\n",
    "            'random_state': RANDOM_STATE,\n",
    "            'test_size': TEST_SIZE\n",
    "        }\n",
    "    },\n",
    "    'results': all_results,\n",
    "    'encodings': encodings,\n",
    "    'class_mapping': reverse_map_genus\n",
    "}\n",
    "\n",
    "final_results_file = f\"results/training_results/final_results.json\"\n",
    "\n",
    "with open(final_results_file, 'w') as f:\n",
    "    json.dump(final_results, f, indent=2)\n",
    "\n",
    "print(f\"Resultados finales guardados: {final_results_file}\")\n",
    "\n",
    "# RESUMEN FINAL\n",
    "log_with_time(f\"\\n{'='*60}\")\n",
    "log_with_time(\"ENTRENAMIENTO COMPLETADO\")\n",
    "log_with_time(f\"{'='*60}\")\n",
    "log_with_time(f\"Tiempo total: {total_experiment_time/60:.2f} minutos\")\n",
    "log_with_time(f\"Encodings procesados: {len(encodings)}\")\n",
    "log_with_time(f\"Modelos entrenados: {len(all_results)}\")\n",
    "log_with_time(f\"Datos de entrenamiento: {len(training_data)} muestras\")\n",
    "log_with_time(f\"Datos de evaluación: {len(evaluation_data)} muestras\")\n",
    "log_with_time(f\"Resultados guardados en: {final_results_file}\")"
   ]
  },
  {
   "cell_type": "code",
   "execution_count": 3,
   "id": "0f5309c9",
   "metadata": {},
   "outputs": [
    {
     "data": {
      "application/vnd.plotly.v1+json": {
       "config": {
        "plotlyServerURL": "https://plot.ly"
       },
       "data": [
        {
         "hovertemplate": "smoker=No<br>time=Dinner<br>sex=Female<br>total_bill=%{x}<br>tip=%{y}<extra></extra>",
         "legendgroup": "No",
         "marker": {
          "color": "#636efa",
          "symbol": "circle"
         },
         "mode": "markers",
         "name": "No",
         "orientation": "v",
         "showlegend": true,
         "type": "scatter",
         "x": {
          "bdata": "PQrXo3D9MEDXo3A9Cpc4QOF6FK5HoUFAKVyPwvWoLUApXI/C9agkQLgehetR+DBACtejcD1KNEAK16NwPYovQGZmZmZmpjNAH4XrUbgeLkBxPQrXo7A0QK5H4XoU7jBAFK5H4XqUJEBI4XoUrmdBQClcj8L1aDpAMzMzMzNzMEBSuB6F6xExQPYoXI/CdS1AAAAAAADANkDsUbgehes0QAAAAAAAAB1A9ihcj8K1OUCPwvUoXE8xQJqZmZmZ2T1AAAAAAAAAOUBI4XoUrscqQPYoXI/CNTBACtejcD3qQUBI4XoUrscyQA==",
          "dtype": "f8"
         },
         "xaxis": "x3",
         "y": {
          "bdata": "KVyPwvUo8D/hehSuR+EMQAAAAAAAABRAKVyPwvUoCEC4HoXrUbj6PwAAAAAAAAxAAAAAAAAABkDXo3A9CtcBQAAAAAAAAAhAAAAAAAAACECamZmZmZkDQI/C9ShcjwhAzczMzMzMBEDNzMzMzMwUQAAAAAAAAPg/w/UoXI/CA0AAAAAAAAAIQJqZmZmZmQFAAAAAAAAACkBSuB6F61EQQAAAAAAAAPA/AAAAAAAAEEAAAAAAAAAMQI/C9ShcjxRAAAAAAAAADkDhehSuR+EEQAAAAAAAAABArkfhehSuEkAAAAAAAAAIQA==",
          "dtype": "f8"
         },
         "yaxis": "y3"
        },
        {
         "hovertemplate": "smoker=No<br>time=Dinner<br>sex=Male<br>total_bill=%{x}<br>tip=%{y}<extra></extra>",
         "legendgroup": "No",
         "marker": {
          "color": "#636efa",
          "symbol": "circle"
         },
         "mode": "markers",
         "name": "No",
         "orientation": "v",
         "showlegend": false,
         "type": "scatter",
         "x": {
          "bdata": "rkfhehSuJEDD9ShcjwI1QK5H4XoUrjdACtejcD1KOUAK16NwPYohQOF6FK5H4TpAFK5H4XoULkCPwvUoXI8tQArXo3A9iiRA16NwPQrXLkCuR+F6FG4yQBSuR+F6lDVACtejcD1KMEBmZmZmZqY0QOxRuB6F6zFA9ihcj8K1Q0BSuB6F69EzQI/C9ShczzFAPQrXo3C9KkDhehSuR2EpQDMzMzMzszVAmpmZmZkZI0CamZmZmVkyQEjhehSuxzFAj8L1KFwPOECPwvUoXE8wQHE9CtejsDJAhetRuB5FP0AK16NwPQowQPYoXI/CdTFA4XoUrkfhK0Bcj8L1KFwjQGZmZmZmZj5ACtejcD1KMkB7FK5H4To2QDMzMzMzM0BAzczMzMyMPEAK16NwPQoyQBSuR+F6FClA4XoUrkfhI0CPwvUoXI85QD0K16NwfTNAw/UoXI8iSEDXo3A9CpcxQBSuR+F6FDRAexSuR+E6NEAK16NwPQooQIXrUbgeBSVAPQrXo3B9NkDsUbgehesoQD0K16NwPTJAAAAAAAAALEApXI/C9QhDQDMzMzMz8zdArkfhehTuPUCkcD0K1yMsQMP1KFyPQipAw/UoXI9CMUDNzMzMzIw4QIXrUbgexTNA9ihcj8IVSEA9CtejcH0wQAAAAAAAgDVAUrgehetRKUAfhetRuJ4rQIXrUbgehThAw/UoXI/CNED2KFyPwrU/QHE9CtejsDRACtejcD0qSEAzMzMzM3M0QI/C9ShcjypAuB6F61E4J0AK16NwPYolQKRwPQrXIyRASOF6FK4HPUBSuB6F69ExQA==",
          "dtype": "f8"
         },
         "xaxis": "x4",
         "y": {
          "bdata": "j8L1KFyP+j8AAAAAAAAMQHsUrkfhegpA16NwPQrXEkAAAAAAAAAAQPYoXI/C9QhAXI/C9Shc/z/Xo3A9CtcJQFyPwvUoXPs/H4XrUbge+T8AAAAAAAAIQFyPwvUoXA9ArkfhehSuDUDNzMzMzMwKQFK4HoXrURBAUrgehetRHkBxPQrXo3AJQLgehetRuAJAAAAAAAAAAEAAAAAAAAAAQDMzMzMzMxFAMzMzMzMz9z8AAAAAAAAEQClcj8L1KApAzczMzMzMDEAAAAAAAAAAQHsUrkfhegJAAAAAAAAAFEDsUbgehesBQFK4HoXrUQRAexSuR+F6CEAfhetRuB71P2ZmZmZmZhZAAAAAAAAACEAAAAAAAAAUQAAAAAAAABhAZmZmZmZmAEAAAAAAAAAIQAAAAAAAAARA9ihcj8L1+D9cj8L1KFwRQBSuR+F6FAxA7FG4HoXrGkAfhetRuB4FQDMzMzMzMwlAFK5H4XoUAECF61G4HoX/PwAAAAAAAPQ/AAAAAAAADEAAAAAAAAD4PxSuR+F6FA5AAAAAAAAACEAAAAAAAAAQQGZmZmZmZgRASOF6FK5HFEAAAAAAAAAEQAAAAAAAAABA7FG4HoXrBUAAAAAAAAAAQAAAAAAAAABAAAAAAAAAFEAAAAAAAAAAQAAAAAAAAAxAAAAAAAAABEAAAAAAAAAAQNejcD0K1wtA7FG4HoXrAUAAAAAAAAASQAAAAAAAABRAAAAAAAAAIkAAAAAAAAAIQMP1KFyPwgVAH4XrUbgeC0CF61G4HoX3PwAAAAAAAPQ/rkfhehSuF0AAAAAAAAD8Pw==",
          "dtype": "f8"
         },
         "yaxis": "y4"
        },
        {
         "hovertemplate": "smoker=No<br>time=Lunch<br>sex=Female<br>total_bill=%{x}<br>tip=%{y}<extra></extra>",
         "legendgroup": "No",
         "marker": {
          "color": "#636efa",
          "symbol": "circle"
         },
         "mode": "markers",
         "name": "No",
         "orientation": "v",
         "showlegend": false,
         "type": "scatter",
         "x": {
          "bdata": "pHA9CtcjJEAK16NwPWpBQM3MzMzMTCVAXI/C9SjcKEAUrkfhehQ4QNejcD0K1ypA9ihcj8L1KEDNzMzMzMw9QArXo3A9Ci1Aw/UoXI/CJkCF61G4HkU0QNejcD0KVyZAhetRuB6FKEDD9Shcj0IyQIXrUbgeBSFAKVyPwvWoJEDNzMzMzEwsQFK4HoXrUSpAuB6F61F4MUDNzMzMzAw7QK5H4XoUbjBAMzMzMzOzIECkcD0K16MyQD0K16NwvSdA9ihcj8L1L0A=",
          "dtype": "f8"
         },
         "xaxis": "x",
         "y": {
          "bdata": "SOF6FK5H/T+uR+F6FK4UQAAAAAAAAPg/zczMzMzM/D9cj8L1KFwHQOF6FK5H4fo/KVyPwvUoBEDNzMzMzMwQQAAAAAAAAABAAAAAAAAAAECkcD0K16MGQAAAAAAAAPg/AAAAAAAAAEAAAAAAAAAKQAAAAAAAAPQ/AAAAAAAAAEAAAAAAAAAAQAAAAAAAAAZAAAAAAAAADEAAAAAAAAAUQGZmZmZmZgJAAAAAAAAA+D/D9Shcj8L1PxSuR+F6FPo/AAAAAAAACEA=",
          "dtype": "f8"
         },
         "yaxis": "y"
        },
        {
         "hovertemplate": "smoker=No<br>time=Lunch<br>sex=Male<br>total_bill=%{x}<br>tip=%{y}<extra></extra>",
         "legendgroup": "No",
         "marker": {
          "color": "#636efa",
          "symbol": "circle"
         },
         "mode": "markers",
         "name": "No",
         "orientation": "v",
         "showlegend": false,
         "type": "scatter",
         "x": {
          "bdata": "MzMzMzMzO0DD9Shcj8I2QArXo3A9SjFAKVyPwvWoMED2KFyPwvUvQI/C9ShcDypASOF6FK5HMkD2KFyPwrU4QClcj8L1KDVA4XoUrkdhJ0CF61G4HoUsQGZmZmZm5i9ACtejcD0KIUBSuB6F69E2QBSuR+F6FDNAZmZmZmYmQUC4HoXrUZhEQI/C9ShcjyNACtejcD0KHkA9CtejcD0eQA==",
          "dtype": "f8"
         },
         "xaxis": "x2",
         "y": {
          "bdata": "AAAAAAAAEEAAAAAAAAAIQK5H4XoUrgVAMzMzMzMzC0A9CtejcD0AQAAAAAAAAABAAAAAAAAAEEBmZmZmZmYXQAAAAAAAAAhAexSuR+F6AkAAAAAAAAAEQAAAAAAAAABArkfhehSu9z9xPQrXo3ABQAAAAAAAAPg/zczMzMzMGkAAAAAAAAAUQK5H4XoUrvs/AAAAAAAAAEAK16NwPQr3Pw==",
          "dtype": "f8"
         },
         "yaxis": "y2"
        },
        {
         "hovertemplate": "smoker=Yes<br>time=Dinner<br>sex=Female<br>total_bill=%{x}<br>tip=%{y}<extra></extra>",
         "legendgroup": "Yes",
         "marker": {
          "color": "#EF553B",
          "symbol": "circle"
         },
         "mode": "markers",
         "name": "Yes",
         "orientation": "v",
         "showlegend": true,
         "type": "scatter",
         "x": {
          "bdata": "j8L1KFyPCEBcj8L1KNw6QEjhehSuRzlAAAAAAAAAF0BSuB6F61EwQDMzMzMzsyZAw/UoXI/CLkBmZmZmZiZGQOxRuB6FazZAH4XrUbieLEDD9Shcj4IxQK5H4XoULiVAw/UoXI9CJUAzMzMzMzMjQGZmZmZm5jRAZmZmZmYmMkCF61G4HoUpQArXo3A9iipA7FG4HoUrPEDNzMzMzMwpQKRwPQrXIz5AH4XrUbgeNkCuR+F6FC47QA==",
          "dtype": "f8"
         },
         "xaxis": "x3",
         "y": {
          "bdata": "AAAAAAAA8D8fhetRuB4JQAAAAAAAABRAAAAAAAAA8D8zMzMzMzMRQAAAAAAAAARAAAAAAAAACEAAAAAAAAAEQNejcD0K1wtAAAAAAAAAEEAAAAAAAAAIQMP1KFyPwvk/AAAAAAAAAEAAAAAAAAAQQAAAAAAAAAxAAAAAAAAADEDXo3A9CtcBQAAAAAAAAARAAAAAAAAAGkCamZmZmZnxP7gehetRuAhACtejcD0KB0AAAAAAAAAAQA==",
          "dtype": "f8"
         },
         "yaxis": "y3"
        },
        {
         "hovertemplate": "smoker=Yes<br>time=Dinner<br>sex=Male<br>total_bill=%{x}<br>tip=%{y}<extra></extra>",
         "legendgroup": "Yes",
         "marker": {
          "color": "#EF553B",
          "symbol": "circle"
         },
         "mode": "markers",
         "name": "Yes",
         "orientation": "v",
         "showlegend": false,
         "type": "scatter",
         "x": {
          "bdata": "4XoUrkcBQ0B7FK5H4XomQArXo3A9SjRAH4XrUbieK0AK16NwPQomQArXo3A9SjJAhetRuB4FLkDsUbgehesxQLgehetR+DxA9ihcj8IVREBI4XoUrkc7QI/C9ShcDyhAw/UoXI8CNUC4HoXrUbguQD0K16NwfTRA9ihcj8I1OUBI4XoUrmdJQB+F61G4ni9AAAAAAAAAHUCamZmZmdk/QFK4HoXr0TBAMzMzMzNzQECkcD0K1+MxQPYoXI/C9SxAcT0K16NQQUAzMzMzM1NBQBSuR+F6VDdAzczMzMysRkDsUbgehSs3QGZmZmZmRkRA9ihcj8J1PkCamZmZmRk3QOF6FK5HYS9A16NwPQqXOkA9CtejcF1DQIXrUbgeRThAj8L1KFwPPkCkcD0K1+M5QGZmZmZmJjxArkfhehQuJ0D2KFyPwvUeQMP1KFyPAjhA4XoUrkdhL0CPwvUoXA8vQDMzMzMzMylACtejcD1qQEDsUbgehas2QA==",
          "dtype": "f8"
         },
         "xaxis": "x4",
         "y": {
          "bdata": "AAAAAAAACEApXI/C9Sj8P65H4XoUrglAAAAAAAAAAECuR+F6FK7/PxSuR+F6FA5AuB6F61G4AECkcD0K16MIQAAAAAAAAAhA7FG4HoXrEkAAAAAAAAAQQAAAAAAAAPg/AAAAAAAACEA9CtejcD36Pz0K16NwPRBAKVyPwvUoEUAAAAAAAAAkQEjhehSuRwlAmpmZmZmZFEBxPQrXo3AJQAAAAAAAABBA4XoUrkfhCEAAAAAAAAAAQAAAAAAAAABAZmZmZmZmDEBxPQrXo3ANQJqZmZmZmRZAAAAAAAAADEAAAAAAAAAaQAAAAAAAAAhAAAAAAAAAAEAAAAAAAAAQQAAAAAAAAPg/SOF6FK5HC0AAAAAAAAAIQD0K16NwPQBAAAAAAAAAAECkcD0K16MUQAAAAAAAAAhAAAAAAAAA+D8K16NwPQr3PwAAAAAAAABAAAAAAAAACEAAAAAAAAAIQAAAAAAAAPA/uB6F61G48j8AAAAAAAAAQA==",
          "dtype": "f8"
         },
         "yaxis": "y4"
        },
        {
         "hovertemplate": "smoker=Yes<br>time=Lunch<br>sex=Female<br>total_bill=%{x}<br>tip=%{y}<extra></extra>",
         "legendgroup": "Yes",
         "marker": {
          "color": "#EF553B",
          "symbol": "circle"
         },
         "mode": "markers",
         "name": "Yes",
         "orientation": "v",
         "showlegend": false,
         "type": "scatter",
         "x": {
          "bdata": "j8L1KFzPM0CuR+F6FI5FQAAAAAAAACpAexSuR+F6KUAAAAAAAAAqQGZmZmZmZjBAuB6F61F4MEDXo3A9CtcqQIXrUbgeRTBArkfhehQuJEA=",
          "dtype": "f8"
         },
         "xaxis": "x",
         "y": {
          "bdata": "w/UoXI/CEEAAAAAAAAAUQAAAAAAAAABAFK5H4XoUAEAAAAAAAAAAQAAAAAAAAARA16NwPQrXCUDXo3A9CtcLQAAAAAAAAARAAAAAAAAAAEA=",
          "dtype": "f8"
         },
         "yaxis": "y"
        },
        {
         "hovertemplate": "smoker=Yes<br>time=Lunch<br>sex=Male<br>total_bill=%{x}<br>tip=%{y}<extra></extra>",
         "legendgroup": "Yes",
         "marker": {
          "color": "#EF553B",
          "symbol": "circle"
         },
         "mode": "markers",
         "name": "Yes",
         "orientation": "v",
         "showlegend": false,
         "type": "scatter",
         "x": {
          "bdata": "cT0K16NwM0DXo3A9CldAQAAAAAAAADBAcT0K16NwPED2KFyPwvUuQBSuR+F6lDBArkfhehSuJECF61G4HgUrQPYoXI/CtTJASOF6FK6HNEBSuB6F61EoQClcj8L1KCFA16NwPQrXKkA=",
          "dtype": "f8"
         },
         "xaxis": "x2",
         "y": {
          "bdata": "AAAAAAAACEAAAAAAAAAUQAAAAAAAAABAexSuR+F6BEApXI/C9SgAQAAAAAAAABBAAAAAAAAAAEAAAAAAAAAAQAAAAAAAABBAAAAAAAAAEECamZmZmZkBQLgehetRuP4/SOF6FK5H+T8=",
          "dtype": "f8"
         },
         "yaxis": "y2"
        }
       ],
       "layout": {
        "annotations": [
         {
          "font": {},
          "showarrow": false,
          "text": "sex=Female",
          "x": 0.24,
          "xanchor": "center",
          "xref": "paper",
          "y": 1,
          "yanchor": "bottom",
          "yref": "paper"
         },
         {
          "font": {},
          "showarrow": false,
          "text": "sex=Male",
          "x": 0.74,
          "xanchor": "center",
          "xref": "paper",
          "y": 1,
          "yanchor": "bottom",
          "yref": "paper"
         },
         {
          "font": {},
          "showarrow": false,
          "text": "time=Lunch",
          "textangle": 90,
          "x": 0.98,
          "xanchor": "left",
          "xref": "paper",
          "y": 0.2425,
          "yanchor": "middle",
          "yref": "paper"
         },
         {
          "font": {},
          "showarrow": false,
          "text": "time=Dinner",
          "textangle": 90,
          "x": 0.98,
          "xanchor": "left",
          "xref": "paper",
          "y": 0.7575000000000001,
          "yanchor": "middle",
          "yref": "paper"
         }
        ],
        "legend": {
         "title": {
          "text": "smoker"
         },
         "tracegroupgap": 0
        },
        "margin": {
         "t": 60
        },
        "template": {
         "data": {
          "bar": [
           {
            "error_x": {
             "color": "#2a3f5f"
            },
            "error_y": {
             "color": "#2a3f5f"
            },
            "marker": {
             "line": {
              "color": "#E5ECF6",
              "width": 0.5
             },
             "pattern": {
              "fillmode": "overlay",
              "size": 10,
              "solidity": 0.2
             }
            },
            "type": "bar"
           }
          ],
          "barpolar": [
           {
            "marker": {
             "line": {
              "color": "#E5ECF6",
              "width": 0.5
             },
             "pattern": {
              "fillmode": "overlay",
              "size": 10,
              "solidity": 0.2
             }
            },
            "type": "barpolar"
           }
          ],
          "carpet": [
           {
            "aaxis": {
             "endlinecolor": "#2a3f5f",
             "gridcolor": "white",
             "linecolor": "white",
             "minorgridcolor": "white",
             "startlinecolor": "#2a3f5f"
            },
            "baxis": {
             "endlinecolor": "#2a3f5f",
             "gridcolor": "white",
             "linecolor": "white",
             "minorgridcolor": "white",
             "startlinecolor": "#2a3f5f"
            },
            "type": "carpet"
           }
          ],
          "choropleth": [
           {
            "colorbar": {
             "outlinewidth": 0,
             "ticks": ""
            },
            "type": "choropleth"
           }
          ],
          "contour": [
           {
            "colorbar": {
             "outlinewidth": 0,
             "ticks": ""
            },
            "colorscale": [
             [
              0,
              "#0d0887"
             ],
             [
              0.1111111111111111,
              "#46039f"
             ],
             [
              0.2222222222222222,
              "#7201a8"
             ],
             [
              0.3333333333333333,
              "#9c179e"
             ],
             [
              0.4444444444444444,
              "#bd3786"
             ],
             [
              0.5555555555555556,
              "#d8576b"
             ],
             [
              0.6666666666666666,
              "#ed7953"
             ],
             [
              0.7777777777777778,
              "#fb9f3a"
             ],
             [
              0.8888888888888888,
              "#fdca26"
             ],
             [
              1,
              "#f0f921"
             ]
            ],
            "type": "contour"
           }
          ],
          "contourcarpet": [
           {
            "colorbar": {
             "outlinewidth": 0,
             "ticks": ""
            },
            "type": "contourcarpet"
           }
          ],
          "heatmap": [
           {
            "colorbar": {
             "outlinewidth": 0,
             "ticks": ""
            },
            "colorscale": [
             [
              0,
              "#0d0887"
             ],
             [
              0.1111111111111111,
              "#46039f"
             ],
             [
              0.2222222222222222,
              "#7201a8"
             ],
             [
              0.3333333333333333,
              "#9c179e"
             ],
             [
              0.4444444444444444,
              "#bd3786"
             ],
             [
              0.5555555555555556,
              "#d8576b"
             ],
             [
              0.6666666666666666,
              "#ed7953"
             ],
             [
              0.7777777777777778,
              "#fb9f3a"
             ],
             [
              0.8888888888888888,
              "#fdca26"
             ],
             [
              1,
              "#f0f921"
             ]
            ],
            "type": "heatmap"
           }
          ],
          "histogram": [
           {
            "marker": {
             "pattern": {
              "fillmode": "overlay",
              "size": 10,
              "solidity": 0.2
             }
            },
            "type": "histogram"
           }
          ],
          "histogram2d": [
           {
            "colorbar": {
             "outlinewidth": 0,
             "ticks": ""
            },
            "colorscale": [
             [
              0,
              "#0d0887"
             ],
             [
              0.1111111111111111,
              "#46039f"
             ],
             [
              0.2222222222222222,
              "#7201a8"
             ],
             [
              0.3333333333333333,
              "#9c179e"
             ],
             [
              0.4444444444444444,
              "#bd3786"
             ],
             [
              0.5555555555555556,
              "#d8576b"
             ],
             [
              0.6666666666666666,
              "#ed7953"
             ],
             [
              0.7777777777777778,
              "#fb9f3a"
             ],
             [
              0.8888888888888888,
              "#fdca26"
             ],
             [
              1,
              "#f0f921"
             ]
            ],
            "type": "histogram2d"
           }
          ],
          "histogram2dcontour": [
           {
            "colorbar": {
             "outlinewidth": 0,
             "ticks": ""
            },
            "colorscale": [
             [
              0,
              "#0d0887"
             ],
             [
              0.1111111111111111,
              "#46039f"
             ],
             [
              0.2222222222222222,
              "#7201a8"
             ],
             [
              0.3333333333333333,
              "#9c179e"
             ],
             [
              0.4444444444444444,
              "#bd3786"
             ],
             [
              0.5555555555555556,
              "#d8576b"
             ],
             [
              0.6666666666666666,
              "#ed7953"
             ],
             [
              0.7777777777777778,
              "#fb9f3a"
             ],
             [
              0.8888888888888888,
              "#fdca26"
             ],
             [
              1,
              "#f0f921"
             ]
            ],
            "type": "histogram2dcontour"
           }
          ],
          "mesh3d": [
           {
            "colorbar": {
             "outlinewidth": 0,
             "ticks": ""
            },
            "type": "mesh3d"
           }
          ],
          "parcoords": [
           {
            "line": {
             "colorbar": {
              "outlinewidth": 0,
              "ticks": ""
             }
            },
            "type": "parcoords"
           }
          ],
          "pie": [
           {
            "automargin": true,
            "type": "pie"
           }
          ],
          "scatter": [
           {
            "fillpattern": {
             "fillmode": "overlay",
             "size": 10,
             "solidity": 0.2
            },
            "type": "scatter"
           }
          ],
          "scatter3d": [
           {
            "line": {
             "colorbar": {
              "outlinewidth": 0,
              "ticks": ""
             }
            },
            "marker": {
             "colorbar": {
              "outlinewidth": 0,
              "ticks": ""
             }
            },
            "type": "scatter3d"
           }
          ],
          "scattercarpet": [
           {
            "marker": {
             "colorbar": {
              "outlinewidth": 0,
              "ticks": ""
             }
            },
            "type": "scattercarpet"
           }
          ],
          "scattergeo": [
           {
            "marker": {
             "colorbar": {
              "outlinewidth": 0,
              "ticks": ""
             }
            },
            "type": "scattergeo"
           }
          ],
          "scattergl": [
           {
            "marker": {
             "colorbar": {
              "outlinewidth": 0,
              "ticks": ""
             }
            },
            "type": "scattergl"
           }
          ],
          "scattermap": [
           {
            "marker": {
             "colorbar": {
              "outlinewidth": 0,
              "ticks": ""
             }
            },
            "type": "scattermap"
           }
          ],
          "scattermapbox": [
           {
            "marker": {
             "colorbar": {
              "outlinewidth": 0,
              "ticks": ""
             }
            },
            "type": "scattermapbox"
           }
          ],
          "scatterpolar": [
           {
            "marker": {
             "colorbar": {
              "outlinewidth": 0,
              "ticks": ""
             }
            },
            "type": "scatterpolar"
           }
          ],
          "scatterpolargl": [
           {
            "marker": {
             "colorbar": {
              "outlinewidth": 0,
              "ticks": ""
             }
            },
            "type": "scatterpolargl"
           }
          ],
          "scatterternary": [
           {
            "marker": {
             "colorbar": {
              "outlinewidth": 0,
              "ticks": ""
             }
            },
            "type": "scatterternary"
           }
          ],
          "surface": [
           {
            "colorbar": {
             "outlinewidth": 0,
             "ticks": ""
            },
            "colorscale": [
             [
              0,
              "#0d0887"
             ],
             [
              0.1111111111111111,
              "#46039f"
             ],
             [
              0.2222222222222222,
              "#7201a8"
             ],
             [
              0.3333333333333333,
              "#9c179e"
             ],
             [
              0.4444444444444444,
              "#bd3786"
             ],
             [
              0.5555555555555556,
              "#d8576b"
             ],
             [
              0.6666666666666666,
              "#ed7953"
             ],
             [
              0.7777777777777778,
              "#fb9f3a"
             ],
             [
              0.8888888888888888,
              "#fdca26"
             ],
             [
              1,
              "#f0f921"
             ]
            ],
            "type": "surface"
           }
          ],
          "table": [
           {
            "cells": {
             "fill": {
              "color": "#EBF0F8"
             },
             "line": {
              "color": "white"
             }
            },
            "header": {
             "fill": {
              "color": "#C8D4E3"
             },
             "line": {
              "color": "white"
             }
            },
            "type": "table"
           }
          ]
         },
         "layout": {
          "annotationdefaults": {
           "arrowcolor": "#2a3f5f",
           "arrowhead": 0,
           "arrowwidth": 1
          },
          "autotypenumbers": "strict",
          "coloraxis": {
           "colorbar": {
            "outlinewidth": 0,
            "ticks": ""
           }
          },
          "colorscale": {
           "diverging": [
            [
             0,
             "#8e0152"
            ],
            [
             0.1,
             "#c51b7d"
            ],
            [
             0.2,
             "#de77ae"
            ],
            [
             0.3,
             "#f1b6da"
            ],
            [
             0.4,
             "#fde0ef"
            ],
            [
             0.5,
             "#f7f7f7"
            ],
            [
             0.6,
             "#e6f5d0"
            ],
            [
             0.7,
             "#b8e186"
            ],
            [
             0.8,
             "#7fbc41"
            ],
            [
             0.9,
             "#4d9221"
            ],
            [
             1,
             "#276419"
            ]
           ],
           "sequential": [
            [
             0,
             "#0d0887"
            ],
            [
             0.1111111111111111,
             "#46039f"
            ],
            [
             0.2222222222222222,
             "#7201a8"
            ],
            [
             0.3333333333333333,
             "#9c179e"
            ],
            [
             0.4444444444444444,
             "#bd3786"
            ],
            [
             0.5555555555555556,
             "#d8576b"
            ],
            [
             0.6666666666666666,
             "#ed7953"
            ],
            [
             0.7777777777777778,
             "#fb9f3a"
            ],
            [
             0.8888888888888888,
             "#fdca26"
            ],
            [
             1,
             "#f0f921"
            ]
           ],
           "sequentialminus": [
            [
             0,
             "#0d0887"
            ],
            [
             0.1111111111111111,
             "#46039f"
            ],
            [
             0.2222222222222222,
             "#7201a8"
            ],
            [
             0.3333333333333333,
             "#9c179e"
            ],
            [
             0.4444444444444444,
             "#bd3786"
            ],
            [
             0.5555555555555556,
             "#d8576b"
            ],
            [
             0.6666666666666666,
             "#ed7953"
            ],
            [
             0.7777777777777778,
             "#fb9f3a"
            ],
            [
             0.8888888888888888,
             "#fdca26"
            ],
            [
             1,
             "#f0f921"
            ]
           ]
          },
          "colorway": [
           "#636efa",
           "#EF553B",
           "#00cc96",
           "#ab63fa",
           "#FFA15A",
           "#19d3f3",
           "#FF6692",
           "#B6E880",
           "#FF97FF",
           "#FECB52"
          ],
          "font": {
           "color": "#2a3f5f"
          },
          "geo": {
           "bgcolor": "white",
           "lakecolor": "white",
           "landcolor": "#E5ECF6",
           "showlakes": true,
           "showland": true,
           "subunitcolor": "white"
          },
          "hoverlabel": {
           "align": "left"
          },
          "hovermode": "closest",
          "mapbox": {
           "style": "light"
          },
          "paper_bgcolor": "white",
          "plot_bgcolor": "#E5ECF6",
          "polar": {
           "angularaxis": {
            "gridcolor": "white",
            "linecolor": "white",
            "ticks": ""
           },
           "bgcolor": "#E5ECF6",
           "radialaxis": {
            "gridcolor": "white",
            "linecolor": "white",
            "ticks": ""
           }
          },
          "scene": {
           "xaxis": {
            "backgroundcolor": "#E5ECF6",
            "gridcolor": "white",
            "gridwidth": 2,
            "linecolor": "white",
            "showbackground": true,
            "ticks": "",
            "zerolinecolor": "white"
           },
           "yaxis": {
            "backgroundcolor": "#E5ECF6",
            "gridcolor": "white",
            "gridwidth": 2,
            "linecolor": "white",
            "showbackground": true,
            "ticks": "",
            "zerolinecolor": "white"
           },
           "zaxis": {
            "backgroundcolor": "#E5ECF6",
            "gridcolor": "white",
            "gridwidth": 2,
            "linecolor": "white",
            "showbackground": true,
            "ticks": "",
            "zerolinecolor": "white"
           }
          },
          "shapedefaults": {
           "line": {
            "color": "#2a3f5f"
           }
          },
          "ternary": {
           "aaxis": {
            "gridcolor": "white",
            "linecolor": "white",
            "ticks": ""
           },
           "baxis": {
            "gridcolor": "white",
            "linecolor": "white",
            "ticks": ""
           },
           "bgcolor": "#E5ECF6",
           "caxis": {
            "gridcolor": "white",
            "linecolor": "white",
            "ticks": ""
           }
          },
          "title": {
           "x": 0.05
          },
          "xaxis": {
           "automargin": true,
           "gridcolor": "white",
           "linecolor": "white",
           "ticks": "",
           "title": {
            "standoff": 15
           },
           "zerolinecolor": "white",
           "zerolinewidth": 2
          },
          "yaxis": {
           "automargin": true,
           "gridcolor": "white",
           "linecolor": "white",
           "ticks": "",
           "title": {
            "standoff": 15
           },
           "zerolinecolor": "white",
           "zerolinewidth": 2
          }
         }
        },
        "xaxis": {
         "anchor": "y",
         "domain": [
          0,
          0.48
         ],
         "title": {
          "text": "total_bill"
         }
        },
        "xaxis2": {
         "anchor": "y2",
         "domain": [
          0.5,
          0.98
         ],
         "matches": "x",
         "title": {
          "text": "total_bill"
         }
        },
        "xaxis3": {
         "anchor": "y3",
         "domain": [
          0,
          0.48
         ],
         "matches": "x",
         "showticklabels": false
        },
        "xaxis4": {
         "anchor": "y4",
         "domain": [
          0.5,
          0.98
         ],
         "matches": "x",
         "showticklabels": false
        },
        "yaxis": {
         "anchor": "x",
         "domain": [
          0,
          0.485
         ],
         "title": {
          "text": "tip"
         }
        },
        "yaxis2": {
         "anchor": "x2",
         "domain": [
          0,
          0.485
         ],
         "matches": "y",
         "showticklabels": false
        },
        "yaxis3": {
         "anchor": "x3",
         "domain": [
          0.515,
          1
         ],
         "matches": "y",
         "title": {
          "text": "tip"
         }
        },
        "yaxis4": {
         "anchor": "x4",
         "domain": [
          0.515,
          1
         ],
         "matches": "y",
         "showticklabels": false
        }
       }
      }
     },
     "metadata": {},
     "output_type": "display_data"
    }
   ],
   "source": [
    "import plotly.express as px\n",
    "df = px.data.tips()\n",
    "fig = px.scatter(df, x=\"total_bill\", y=\"tip\", color=\"smoker\", facet_col=\"sex\", facet_row=\"time\")\n",
    "fig.show()"
   ]
  }
 ],
 "metadata": {
  "kernelspec": {
   "display_name": "fiu",
   "language": "python",
   "name": "python3"
  },
  "language_info": {
   "codemirror_mode": {
    "name": "ipython",
    "version": 3
   },
   "file_extension": ".py",
   "mimetype": "text/x-python",
   "name": "python",
   "nbconvert_exporter": "python",
   "pygments_lexer": "ipython3",
   "version": "3.10.18"
  }
 },
 "nbformat": 4,
 "nbformat_minor": 5
}
