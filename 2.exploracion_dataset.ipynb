{
 "cells": [
  {
   "cell_type": "code",
   "execution_count": 1,
   "id": "855f093b",
   "metadata": {},
   "outputs": [],
   "source": [
    "import pandas as pd"
   ]
  },
  {
   "cell_type": "code",
   "execution_count": 2,
   "id": "cf6c2b53",
   "metadata": {},
   "outputs": [],
   "source": [
    "df=pd.read_csv('datos/datos_filtrados_sin_encoding.csv')"
   ]
  },
  {
   "cell_type": "code",
   "execution_count": 10,
   "id": "ee40fbff",
   "metadata": {},
   "outputs": [
    {
     "data": {
      "application/vnd.microsoft.datawrangler.viewer.v0+json": {
       "columns": [
        {
         "name": "genus",
         "rawType": "object",
         "type": "string"
        },
        {
         "name": "count",
         "rawType": "int64",
         "type": "integer"
        }
       ],
       "ref": "06844add-8cb9-4999-b6ef-09cb49f9c511",
       "rows": [
        [
         "Flavobacterium",
         "120"
        ],
        [
         "Bifidobacterium",
         "120"
        ],
        [
         "Rhizobium",
         "120"
        ],
        [
         "Microbacterium",
         "120"
        ],
        [
         "Mesorhizobium",
         "120"
        ],
        [
         "Acinetobacter",
         "120"
        ],
        [
         "Collinsella",
         "120"
        ],
        [
         "Pelagibacter_A",
         "120"
        ],
        [
         "Arthrobacter",
         "120"
        ],
        [
         "Nocardia",
         "120"
        ],
        [
         "Micromonospora",
         "120"
        ],
        [
         "Vibrio",
         "120"
        ],
        [
         "Chryseobacterium",
         "120"
        ],
        [
         "Mycobacterium",
         "120"
        ],
        [
         "Nocardioides",
         "120"
        ],
        [
         "Corynebacterium",
         "120"
        ],
        [
         "Pseudomonas_E",
         "120"
        ],
        [
         "Pelagibacter",
         "120"
        ],
        [
         "Bradyrhizobium",
         "120"
        ],
        [
         "Sphingomonas",
         "120"
        ],
        [
         "Streptomyces",
         "120"
        ],
        [
         "Prochlorococcus_A",
         "120"
        ],
        [
         "Streptococcus",
         "120"
        ],
        [
         "Paraburkholderia",
         "118"
        ],
        [
         "Polynucleobacter",
         "113"
        ],
        [
         "Pedobacter",
         "112"
        ],
        [
         "Prevotella",
         "105"
        ],
        [
         "Paracoccus",
         "103"
        ],
        [
         "Novosphingobium",
         "102"
        ],
        [
         "Methylobacterium",
         "101"
        ]
       ],
       "shape": {
        "columns": 1,
        "rows": 30
       }
      },
      "text/plain": [
       "genus\n",
       "Flavobacterium       120\n",
       "Bifidobacterium      120\n",
       "Rhizobium            120\n",
       "Microbacterium       120\n",
       "Mesorhizobium        120\n",
       "Acinetobacter        120\n",
       "Collinsella          120\n",
       "Pelagibacter_A       120\n",
       "Arthrobacter         120\n",
       "Nocardia             120\n",
       "Micromonospora       120\n",
       "Vibrio               120\n",
       "Chryseobacterium     120\n",
       "Mycobacterium        120\n",
       "Nocardioides         120\n",
       "Corynebacterium      120\n",
       "Pseudomonas_E        120\n",
       "Pelagibacter         120\n",
       "Bradyrhizobium       120\n",
       "Sphingomonas         120\n",
       "Streptomyces         120\n",
       "Prochlorococcus_A    120\n",
       "Streptococcus        120\n",
       "Paraburkholderia     118\n",
       "Polynucleobacter     113\n",
       "Pedobacter           112\n",
       "Prevotella           105\n",
       "Paracoccus           103\n",
       "Novosphingobium      102\n",
       "Methylobacterium     101\n",
       "Name: count, dtype: int64"
      ]
     },
     "metadata": {},
     "output_type": "display_data"
    },
    {
     "data": {
      "text/plain": [
       "3514"
      ]
     },
     "execution_count": 10,
     "metadata": {},
     "output_type": "execute_result"
    }
   ],
   "source": [
    "display(df[df['is_training']==True]['genus'].value_counts())\n",
    "len(df[df['is_training']==True])"
   ]
  },
  {
   "cell_type": "code",
   "execution_count": null,
   "id": "4c47e7c6",
   "metadata": {},
   "outputs": [
    {
     "data": {
      "application/vnd.microsoft.datawrangler.viewer.v0+json": {
       "columns": [
        {
         "name": "genus",
         "rawType": "object",
         "type": "string"
        },
        {
         "name": "count",
         "rawType": "int64",
         "type": "integer"
        }
       ],
       "ref": "06478058-e560-4c3a-b1b3-63846d45c033",
       "rows": [
        [
         "Streptomyces",
         "802"
        ],
        [
         "Pelagibacter",
         "657"
        ],
        [
         "Pseudomonas_E",
         "560"
        ],
        [
         "Streptococcus",
         "343"
        ],
        [
         "Mycobacterium",
         "257"
        ],
        [
         "Flavobacterium",
         "245"
        ],
        [
         "Microbacterium",
         "162"
        ],
        [
         "Prochlorococcus_A",
         "113"
        ],
        [
         "Bradyrhizobium",
         "109"
        ],
        [
         "Sphingomonas",
         "104"
        ],
        [
         "Corynebacterium",
         "81"
        ],
        [
         "Vibrio",
         "63"
        ],
        [
         "Arthrobacter",
         "60"
        ],
        [
         "Chryseobacterium",
         "52"
        ],
        [
         "Acinetobacter",
         "50"
        ],
        [
         "Nocardioides",
         "49"
        ],
        [
         "Rhizobium",
         "29"
        ],
        [
         "Collinsella",
         "28"
        ],
        [
         "Micromonospora",
         "23"
        ],
        [
         "Mesorhizobium",
         "22"
        ],
        [
         "Nocardia",
         "17"
        ],
        [
         "Bifidobacterium",
         "8"
        ],
        [
         "Pelagibacter_A",
         "4"
        ]
       ],
       "shape": {
        "columns": 1,
        "rows": 23
       }
      },
      "text/plain": [
       "genus\n",
       "Streptomyces         802\n",
       "Pelagibacter         657\n",
       "Pseudomonas_E        560\n",
       "Streptococcus        343\n",
       "Mycobacterium        257\n",
       "Flavobacterium       245\n",
       "Microbacterium       162\n",
       "Prochlorococcus_A    113\n",
       "Bradyrhizobium       109\n",
       "Sphingomonas         104\n",
       "Corynebacterium       81\n",
       "Vibrio                63\n",
       "Arthrobacter          60\n",
       "Chryseobacterium      52\n",
       "Acinetobacter         50\n",
       "Nocardioides          49\n",
       "Rhizobium             29\n",
       "Collinsella           28\n",
       "Micromonospora        23\n",
       "Mesorhizobium         22\n",
       "Nocardia              17\n",
       "Bifidobacterium        8\n",
       "Pelagibacter_A         4\n",
       "Name: count, dtype: int64"
      ]
     },
     "metadata": {},
     "output_type": "display_data"
    },
    {
     "data": {
      "text/plain": [
       "3838"
      ]
     },
     "execution_count": 11,
     "metadata": {},
     "output_type": "execute_result"
    }
   ],
   "source": [
    "display(df[df['is_training']==False]['genus'].value_counts())\n",
    "len(df[df['is_training']==False])"
   ]
  },
  {
   "cell_type": "code",
   "execution_count": null,
   "id": "07099639",
   "metadata": {},
   "outputs": [
    {
     "data": {
      "application/vnd.microsoft.datawrangler.viewer.v0+json": {
       "columns": [
        {
         "name": "genus",
         "rawType": "object",
         "type": "string"
        },
        {
         "name": "count",
         "rawType": "int64",
         "type": "integer"
        }
       ],
       "ref": "a05e8d3d-8239-405e-8a2c-2c1d27e5fd92",
       "rows": [
        [
         "Streptomyces",
         "922"
        ],
        [
         "Pelagibacter",
         "777"
        ],
        [
         "Pseudomonas_E",
         "680"
        ],
        [
         "Streptococcus",
         "463"
        ],
        [
         "Mycobacterium",
         "377"
        ],
        [
         "Flavobacterium",
         "365"
        ],
        [
         "Microbacterium",
         "282"
        ],
        [
         "Prochlorococcus_A",
         "233"
        ],
        [
         "Bradyrhizobium",
         "229"
        ],
        [
         "Sphingomonas",
         "224"
        ],
        [
         "Corynebacterium",
         "201"
        ],
        [
         "Vibrio",
         "183"
        ],
        [
         "Arthrobacter",
         "180"
        ],
        [
         "Chryseobacterium",
         "172"
        ],
        [
         "Acinetobacter",
         "170"
        ],
        [
         "Nocardioides",
         "169"
        ],
        [
         "Rhizobium",
         "149"
        ],
        [
         "Collinsella",
         "148"
        ],
        [
         "Micromonospora",
         "143"
        ],
        [
         "Mesorhizobium",
         "142"
        ],
        [
         "Nocardia",
         "137"
        ],
        [
         "Bifidobacterium",
         "128"
        ],
        [
         "Pelagibacter_A",
         "124"
        ],
        [
         "Paraburkholderia",
         "118"
        ],
        [
         "Polynucleobacter",
         "113"
        ],
        [
         "Pedobacter",
         "112"
        ],
        [
         "Prevotella",
         "105"
        ],
        [
         "Paracoccus",
         "103"
        ],
        [
         "Novosphingobium",
         "102"
        ],
        [
         "Methylobacterium",
         "101"
        ]
       ],
       "shape": {
        "columns": 1,
        "rows": 30
       }
      },
      "text/plain": [
       "genus\n",
       "Streptomyces         922\n",
       "Pelagibacter         777\n",
       "Pseudomonas_E        680\n",
       "Streptococcus        463\n",
       "Mycobacterium        377\n",
       "Flavobacterium       365\n",
       "Microbacterium       282\n",
       "Prochlorococcus_A    233\n",
       "Bradyrhizobium       229\n",
       "Sphingomonas         224\n",
       "Corynebacterium      201\n",
       "Vibrio               183\n",
       "Arthrobacter         180\n",
       "Chryseobacterium     172\n",
       "Acinetobacter        170\n",
       "Nocardioides         169\n",
       "Rhizobium            149\n",
       "Collinsella          148\n",
       "Micromonospora       143\n",
       "Mesorhizobium        142\n",
       "Nocardia             137\n",
       "Bifidobacterium      128\n",
       "Pelagibacter_A       124\n",
       "Paraburkholderia     118\n",
       "Polynucleobacter     113\n",
       "Pedobacter           112\n",
       "Prevotella           105\n",
       "Paracoccus           103\n",
       "Novosphingobium      102\n",
       "Methylobacterium     101\n",
       "Name: count, dtype: int64"
      ]
     },
     "metadata": {},
     "output_type": "display_data"
    },
    {
     "data": {
      "text/plain": [
       "7352"
      ]
     },
     "execution_count": 14,
     "metadata": {},
     "output_type": "execute_result"
    },
    {
     "ename": "",
     "evalue": "",
     "output_type": "error",
     "traceback": [
      "\u001b[1;31mThe Kernel crashed while executing code in the current cell or a previous cell. \n",
      "\u001b[1;31mPlease review the code in the cell(s) to identify a possible cause of the failure. \n",
      "\u001b[1;31mClick <a href='https://aka.ms/vscodeJupyterKernelCrash'>here</a> for more info. \n",
      "\u001b[1;31mView Jupyter <a href='command:jupyter.viewOutput'>log</a> for further details."
     ]
    }
   ],
   "source": [
    "display(df['genus'].value_counts())\n",
    "len(df)"
   ]
  }
 ],
 "metadata": {
  "kernelspec": {
   "display_name": "paper",
   "language": "python",
   "name": "python3"
  },
  "language_info": {
   "codemirror_mode": {
    "name": "ipython",
    "version": 3
   },
   "file_extension": ".py",
   "mimetype": "text/x-python",
   "name": "python",
   "nbconvert_exporter": "python",
   "pygments_lexer": "ipython3",
   "version": "3.10.15"
  }
 },
 "nbformat": 4,
 "nbformat_minor": 5
}
