{
 "cells": [
  {
   "cell_type": "code",
   "execution_count": 21,
   "id": "855f093b",
   "metadata": {},
   "outputs": [],
   "source": [
    "import pandas as pd"
   ]
  },
  {
   "cell_type": "code",
   "execution_count": 22,
   "id": "cf6c2b53",
   "metadata": {},
   "outputs": [],
   "source": [
    "df=pd.read_csv('datos/datos_filtrados_sin_encoding.csv')"
   ]
  },
  {
   "cell_type": "code",
   "execution_count": 25,
   "id": "04cb0c13",
   "metadata": {},
   "outputs": [
    {
     "data": {
      "text/plain": [
       "7352"
      ]
     },
     "execution_count": 25,
     "metadata": {},
     "output_type": "execute_result"
    }
   ],
   "source": [
    "len(df)"
   ]
  },
  {
   "cell_type": "code",
   "execution_count": 27,
   "id": "425e9f62",
   "metadata": {},
   "outputs": [
    {
     "data": {
      "text/plain": [
       "1597"
      ]
     },
     "execution_count": 27,
     "metadata": {},
     "output_type": "execute_result"
    }
   ],
   "source": [
    "max([len(i) for i in df['original_sequence']])"
   ]
  },
  {
   "cell_type": "code",
   "execution_count": 3,
   "id": "ee40fbff",
   "metadata": {},
   "outputs": [
    {
     "data": {
      "application/vnd.microsoft.datawrangler.viewer.v0+json": {
       "columns": [
        {
         "name": "genus",
         "rawType": "object",
         "type": "string"
        },
        {
         "name": "count",
         "rawType": "int64",
         "type": "integer"
        }
       ],
       "ref": "fc2a18d6-4cae-4741-a184-843e38027798",
       "rows": [
        [
         "Flavobacterium",
         "120"
        ],
        [
         "Bifidobacterium",
         "120"
        ],
        [
         "Rhizobium",
         "120"
        ],
        [
         "Microbacterium",
         "120"
        ],
        [
         "Mesorhizobium",
         "120"
        ],
        [
         "Acinetobacter",
         "120"
        ],
        [
         "Collinsella",
         "120"
        ],
        [
         "Pelagibacter_A",
         "120"
        ],
        [
         "Arthrobacter",
         "120"
        ],
        [
         "Nocardia",
         "120"
        ],
        [
         "Micromonospora",
         "120"
        ],
        [
         "Vibrio",
         "120"
        ],
        [
         "Chryseobacterium",
         "120"
        ],
        [
         "Mycobacterium",
         "120"
        ],
        [
         "Nocardioides",
         "120"
        ],
        [
         "Corynebacterium",
         "120"
        ],
        [
         "Pseudomonas_E",
         "120"
        ],
        [
         "Pelagibacter",
         "120"
        ],
        [
         "Bradyrhizobium",
         "120"
        ],
        [
         "Sphingomonas",
         "120"
        ],
        [
         "Streptomyces",
         "120"
        ],
        [
         "Prochlorococcus_A",
         "120"
        ],
        [
         "Streptococcus",
         "120"
        ],
        [
         "Paraburkholderia",
         "118"
        ],
        [
         "Polynucleobacter",
         "113"
        ],
        [
         "Pedobacter",
         "112"
        ],
        [
         "Prevotella",
         "105"
        ],
        [
         "Paracoccus",
         "103"
        ],
        [
         "Novosphingobium",
         "102"
        ],
        [
         "Methylobacterium",
         "101"
        ]
       ],
       "shape": {
        "columns": 1,
        "rows": 30
       }
      },
      "text/plain": [
       "genus\n",
       "Flavobacterium       120\n",
       "Bifidobacterium      120\n",
       "Rhizobium            120\n",
       "Microbacterium       120\n",
       "Mesorhizobium        120\n",
       "Acinetobacter        120\n",
       "Collinsella          120\n",
       "Pelagibacter_A       120\n",
       "Arthrobacter         120\n",
       "Nocardia             120\n",
       "Micromonospora       120\n",
       "Vibrio               120\n",
       "Chryseobacterium     120\n",
       "Mycobacterium        120\n",
       "Nocardioides         120\n",
       "Corynebacterium      120\n",
       "Pseudomonas_E        120\n",
       "Pelagibacter         120\n",
       "Bradyrhizobium       120\n",
       "Sphingomonas         120\n",
       "Streptomyces         120\n",
       "Prochlorococcus_A    120\n",
       "Streptococcus        120\n",
       "Paraburkholderia     118\n",
       "Polynucleobacter     113\n",
       "Pedobacter           112\n",
       "Prevotella           105\n",
       "Paracoccus           103\n",
       "Novosphingobium      102\n",
       "Methylobacterium     101\n",
       "Name: count, dtype: int64"
      ]
     },
     "metadata": {},
     "output_type": "display_data"
    },
    {
     "data": {
      "text/plain": [
       "3514"
      ]
     },
     "execution_count": 3,
     "metadata": {},
     "output_type": "execute_result"
    }
   ],
   "source": [
    "display(df[df['is_training']==True]['genus'].value_counts())\n",
    "len(df[df['is_training']==True])"
   ]
  },
  {
   "cell_type": "code",
   "execution_count": 4,
   "id": "4c47e7c6",
   "metadata": {},
   "outputs": [
    {
     "data": {
      "application/vnd.microsoft.datawrangler.viewer.v0+json": {
       "columns": [
        {
         "name": "genus",
         "rawType": "object",
         "type": "string"
        },
        {
         "name": "count",
         "rawType": "int64",
         "type": "integer"
        }
       ],
       "ref": "6258fa98-8061-40e6-8e64-b1b750441215",
       "rows": [
        [
         "Streptomyces",
         "802"
        ],
        [
         "Pelagibacter",
         "657"
        ],
        [
         "Pseudomonas_E",
         "560"
        ],
        [
         "Streptococcus",
         "343"
        ],
        [
         "Mycobacterium",
         "257"
        ],
        [
         "Flavobacterium",
         "245"
        ],
        [
         "Microbacterium",
         "162"
        ],
        [
         "Prochlorococcus_A",
         "113"
        ],
        [
         "Bradyrhizobium",
         "109"
        ],
        [
         "Sphingomonas",
         "104"
        ],
        [
         "Corynebacterium",
         "81"
        ],
        [
         "Vibrio",
         "63"
        ],
        [
         "Arthrobacter",
         "60"
        ],
        [
         "Chryseobacterium",
         "52"
        ],
        [
         "Acinetobacter",
         "50"
        ],
        [
         "Nocardioides",
         "49"
        ],
        [
         "Rhizobium",
         "29"
        ],
        [
         "Collinsella",
         "28"
        ],
        [
         "Micromonospora",
         "23"
        ],
        [
         "Mesorhizobium",
         "22"
        ],
        [
         "Nocardia",
         "17"
        ],
        [
         "Bifidobacterium",
         "8"
        ],
        [
         "Pelagibacter_A",
         "4"
        ]
       ],
       "shape": {
        "columns": 1,
        "rows": 23
       }
      },
      "text/plain": [
       "genus\n",
       "Streptomyces         802\n",
       "Pelagibacter         657\n",
       "Pseudomonas_E        560\n",
       "Streptococcus        343\n",
       "Mycobacterium        257\n",
       "Flavobacterium       245\n",
       "Microbacterium       162\n",
       "Prochlorococcus_A    113\n",
       "Bradyrhizobium       109\n",
       "Sphingomonas         104\n",
       "Corynebacterium       81\n",
       "Vibrio                63\n",
       "Arthrobacter          60\n",
       "Chryseobacterium      52\n",
       "Acinetobacter         50\n",
       "Nocardioides          49\n",
       "Rhizobium             29\n",
       "Collinsella           28\n",
       "Micromonospora        23\n",
       "Mesorhizobium         22\n",
       "Nocardia              17\n",
       "Bifidobacterium        8\n",
       "Pelagibacter_A         4\n",
       "Name: count, dtype: int64"
      ]
     },
     "metadata": {},
     "output_type": "display_data"
    },
    {
     "data": {
      "text/plain": [
       "3838"
      ]
     },
     "execution_count": 4,
     "metadata": {},
     "output_type": "execute_result"
    }
   ],
   "source": [
    "display(df[df['is_training']==False]['genus'].value_counts())\n",
    "len(df[df['is_training']==False])"
   ]
  },
  {
   "cell_type": "code",
   "execution_count": 5,
   "id": "07099639",
   "metadata": {},
   "outputs": [
    {
     "data": {
      "application/vnd.microsoft.datawrangler.viewer.v0+json": {
       "columns": [
        {
         "name": "genus",
         "rawType": "object",
         "type": "string"
        },
        {
         "name": "count",
         "rawType": "int64",
         "type": "integer"
        }
       ],
       "ref": "8f7eb7b5-2bd3-4100-bfd1-d0b19d06e12b",
       "rows": [
        [
         "Streptomyces",
         "922"
        ],
        [
         "Pelagibacter",
         "777"
        ],
        [
         "Pseudomonas_E",
         "680"
        ],
        [
         "Streptococcus",
         "463"
        ],
        [
         "Mycobacterium",
         "377"
        ],
        [
         "Flavobacterium",
         "365"
        ],
        [
         "Microbacterium",
         "282"
        ],
        [
         "Prochlorococcus_A",
         "233"
        ],
        [
         "Bradyrhizobium",
         "229"
        ],
        [
         "Sphingomonas",
         "224"
        ],
        [
         "Corynebacterium",
         "201"
        ],
        [
         "Vibrio",
         "183"
        ],
        [
         "Arthrobacter",
         "180"
        ],
        [
         "Chryseobacterium",
         "172"
        ],
        [
         "Acinetobacter",
         "170"
        ],
        [
         "Nocardioides",
         "169"
        ],
        [
         "Rhizobium",
         "149"
        ],
        [
         "Collinsella",
         "148"
        ],
        [
         "Micromonospora",
         "143"
        ],
        [
         "Mesorhizobium",
         "142"
        ],
        [
         "Nocardia",
         "137"
        ],
        [
         "Bifidobacterium",
         "128"
        ],
        [
         "Pelagibacter_A",
         "124"
        ],
        [
         "Paraburkholderia",
         "118"
        ],
        [
         "Polynucleobacter",
         "113"
        ],
        [
         "Pedobacter",
         "112"
        ],
        [
         "Prevotella",
         "105"
        ],
        [
         "Paracoccus",
         "103"
        ],
        [
         "Novosphingobium",
         "102"
        ],
        [
         "Methylobacterium",
         "101"
        ]
       ],
       "shape": {
        "columns": 1,
        "rows": 30
       }
      },
      "text/plain": [
       "genus\n",
       "Streptomyces         922\n",
       "Pelagibacter         777\n",
       "Pseudomonas_E        680\n",
       "Streptococcus        463\n",
       "Mycobacterium        377\n",
       "Flavobacterium       365\n",
       "Microbacterium       282\n",
       "Prochlorococcus_A    233\n",
       "Bradyrhizobium       229\n",
       "Sphingomonas         224\n",
       "Corynebacterium      201\n",
       "Vibrio               183\n",
       "Arthrobacter         180\n",
       "Chryseobacterium     172\n",
       "Acinetobacter        170\n",
       "Nocardioides         169\n",
       "Rhizobium            149\n",
       "Collinsella          148\n",
       "Micromonospora       143\n",
       "Mesorhizobium        142\n",
       "Nocardia             137\n",
       "Bifidobacterium      128\n",
       "Pelagibacter_A       124\n",
       "Paraburkholderia     118\n",
       "Polynucleobacter     113\n",
       "Pedobacter           112\n",
       "Prevotella           105\n",
       "Paracoccus           103\n",
       "Novosphingobium      102\n",
       "Methylobacterium     101\n",
       "Name: count, dtype: int64"
      ]
     },
     "metadata": {},
     "output_type": "display_data"
    },
    {
     "data": {
      "text/plain": [
       "7352"
      ]
     },
     "execution_count": 5,
     "metadata": {},
     "output_type": "execute_result"
    }
   ],
   "source": [
    "display(df['genus'].value_counts())\n",
    "len(df)"
   ]
  },
  {
   "cell_type": "code",
   "execution_count": null,
   "id": "9967cee7",
   "metadata": {},
   "outputs": [],
   "source": []
  },
  {
   "cell_type": "code",
   "execution_count": null,
   "id": "3c8d57b5",
   "metadata": {},
   "outputs": [
    {
     "name": "stdout",
     "output_type": "stream",
     "text": [
      "\n",
      "Estadísticas finales:\n",
      "Total secuencias: 14344\n",
      "Entrenamiento: 5800\n",
      "Test: 8544\n",
      "Géneros procesados: 29\n"
     ]
    }
   ],
   "source": [
    "genes = df['genus'].unique()\n",
    "\n",
    "# Configuración de datos por clase\n",
    "MIN_DATA_PER_CLASS = 200         # Mínimo de secuencias para entrenamiento\n",
    "MAX_DATA_PER_CLASS = 200         # Máximo de secuencias para entrenamiento  \n",
    "MAX_TOTAL_PER_CLASS = 500        # Máximo total de secuencias (training + test)\n",
    "\n",
    "# Filtro para los géneros que tienen más de 100 representantes\n",
    "# Separa datos entre entrenamiento y testeo basado en MIN/MAX configurado\n",
    "templist = []\n",
    "\n",
    "for i in genes:\n",
    "    temp = df[df['genus']==i]\n",
    "    temp = temp.sort_values('sequence_length', ascending=False)\n",
    "    \n",
    "    total_sequences = len(temp)\n",
    "    \n",
    "    # Primero limitar el total de secuencias si excede MAX_TOTAL_PER_CLASS\n",
    "    if total_sequences > MAX_TOTAL_PER_CLASS:\n",
    "        temp = temp.head(MAX_TOTAL_PER_CLASS)\n",
    "        total_sequences = MAX_TOTAL_PER_CLASS\n",
    "    \n",
    "    # Determinar cuántas secuencias usar para entrenamiento\n",
    "    if MIN_DATA_PER_CLASS == MAX_DATA_PER_CLASS:\n",
    "        # Si min == max, usar exactamente ese número para entrenamiento\n",
    "        train_size = min(MIN_DATA_PER_CLASS, total_sequences)\n",
    "    else:\n",
    "        # Si min != max, aplicar lógica de rango\n",
    "        if total_sequences >= MAX_DATA_PER_CLASS:\n",
    "            train_size = MAX_DATA_PER_CLASS\n",
    "        elif total_sequences >= MIN_DATA_PER_CLASS:\n",
    "            train_size = total_sequences\n",
    "        else:\n",
    "            train_size = total_sequences\n",
    "    \n",
    "    # Calcular tamaño de test\n",
    "    test_size = total_sequences - train_size\n",
    "    \n",
    "    # Marcar datos de entrenamiento y testeo\n",
    "    temp['is_training'] = False\n",
    "    temp['is_test'] = False\n",
    "    \n",
    "    # Asignar entrenamiento\n",
    "    temp.iloc[:train_size, temp.columns.get_loc('is_training')] = True\n",
    "    \n",
    "    # Asignar test (si hay datos restantes)\n",
    "    if test_size > 0:\n",
    "        temp.iloc[train_size:train_size+test_size, temp.columns.get_loc('is_test')] = True\n",
    "    \n",
    "    # print(f\"{i}: Total={total_sequences}, Train={train_size}, Test={test_size}\")\n",
    "    \n",
    "    templist.append(temp)\n",
    "\n",
    "# Concatenar todos los datos\n",
    "df_final = pd.concat(templist)\n",
    "df_final = df_final.reset_index(drop=True)\n",
    "\n",
    "# Estadísticas finales\n",
    "print(f\"\\nEstadísticas finales:\")\n",
    "print(f\"Total secuencias: {len(df_final)}\")\n",
    "print(f\"Entrenamiento: {df_final['is_training'].sum()}\")\n",
    "print(f\"Test: {df_final['is_test'].sum()}\")\n",
    "print(f\"Géneros procesados: {df_final['genus'].nunique()}\")\n",
    "\n",
    "# Guardar resultado\n",
    "df_final.to_csv('datos/ddaug.csv', index=False)"
   ]
  },
  {
   "cell_type": "code",
   "execution_count": 14,
   "id": "b713bf56",
   "metadata": {},
   "outputs": [
    {
     "data": {
      "text/plain": [
       "genus\n",
       "Acinetobacter       500\n",
       "Arthrobacter        500\n",
       "Streptomyces        500\n",
       "Streptococcus       500\n",
       "Sphingomonas        500\n",
       "Rhizobium           500\n",
       "Pseudomonas         500\n",
       "Prevotella          500\n",
       "Polynucleobacter    500\n",
       "Pelagibacter        500\n",
       "Pedobacter          500\n",
       "Paracoccus          500\n",
       "Paraburkholderia    500\n",
       "Novosphingobium     500\n",
       "Nocardioides        500\n",
       "Nocardia            500\n",
       "Mycobacterium       500\n",
       "Micromonospora      500\n",
       "Microbacterium      500\n",
       "Methylobacterium    500\n",
       "Mesorhizobium       500\n",
       "Flavobacterium      500\n",
       "Corynebacterium     500\n",
       "Chryseobacterium    500\n",
       "Bradyrhizobium      500\n",
       "Bifidobacterium     500\n",
       "Vibrio              500\n",
       "Prochlorococcus     428\n",
       "Collinsella         416\n",
       "Name: count, dtype: int64"
      ]
     },
     "execution_count": 14,
     "metadata": {},
     "output_type": "execute_result"
    }
   ],
   "source": [
    "df_final['genus'].value_counts()"
   ]
  },
  {
   "cell_type": "code",
   "execution_count": 18,
   "id": "4d40bcc6",
   "metadata": {},
   "outputs": [
    {
     "name": "stdout",
     "output_type": "stream",
     "text": [
      "\\begin{table}[htbp]\n",
      "\\centering\n",
      "\\caption{Distribución de secuencias por género bacteriano en el conjunto de datos final}\n",
      "\\label{tab:genus_distribution}\n",
      "\\setlength{\\tabcolsep}{6pt}\n",
      "\\renewcommand{\\arraystretch}{1.2}\n",
      "\\begin{tabular}{lrrrrr}\n",
      "\\hline\n",
      "\\textbf{Género} & \\textbf{Entrenamiento} & \\textbf{Test} & \\textbf{Usado} & \\textbf{Descartado} & \\textbf{Original} \\\\\n",
      "\\hline\n",
      "Streptomyces & 200 & 300 & 500 & 1355 & 1855 \\\\\n",
      "Pseudomonas & 200 & 300 & 500 & 1094 & 1594 \\\\\n",
      "Streptococcus & 200 & 300 & 500 & 901 & 1401 \\\\\n",
      "Mycobacterium & 200 & 300 & 500 & 808 & 1308 \\\\\n",
      "Flavobacterium & 200 & 300 & 500 & 744 & 1244 \\\\\n",
      "Microbacterium & 200 & 300 & 500 & 728 & 1228 \\\\\n",
      "Bradyrhizobium & 200 & 300 & 500 & 683 & 1183 \\\\\n",
      "Sphingomonas & 200 & 300 & 500 & 640 & 1140 \\\\\n",
      "Arthrobacter & 200 & 300 & 500 & 625 & 1125 \\\\\n",
      "Rhizobium & 200 & 300 & 500 & 587 & 1087 \\\\\n",
      "Mesorhizobium & 200 & 300 & 500 & 587 & 1087 \\\\\n",
      "Micromonospora & 200 & 300 & 500 & 582 & 1082 \\\\\n",
      "Acinetobacter & 200 & 300 & 500 & 564 & 1064 \\\\\n",
      "Chryseobacterium & 200 & 300 & 500 & 558 & 1058 \\\\\n",
      "Corynebacterium & 200 & 300 & 500 & 558 & 1058 \\\\\n",
      "Nocardioides & 200 & 300 & 500 & 558 & 1058 \\\\\n",
      "Paracoccus & 200 & 300 & 500 & 547 & 1047 \\\\\n",
      "Bifidobacterium & 200 & 300 & 500 & 543 & 1043 \\\\\n",
      "Nocardia & 200 & 300 & 500 & 541 & 1041 \\\\\n",
      "Pedobacter & 200 & 300 & 500 & 524 & 1024 \\\\\n",
      "Vibrio & 200 & 300 & 500 & 502 & 1002 \\\\\n",
      "Methylobacterium & 200 & 300 & 500 & 501 & 1001 \\\\\n",
      "Pelagibacter & 200 & 300 & 500 & 497 & 997 \\\\\n",
      "Paraburkholderia & 200 & 300 & 500 & 433 & 933 \\\\\n",
      "Novosphingobium & 200 & 300 & 500 & 398 & 898 \\\\\n",
      "Polynucleobacter & 200 & 300 & 500 & 239 & 739 \\\\\n",
      "Prevotella & 200 & 300 & 500 & 233 & 733 \\\\\n",
      "Prochlorococcus & 200 & 228 & 428 & -- & 428 \\\\\n",
      "Collinsella & 200 & 216 & 416 & -- & 416 \\\\\n",
      "\\hline\n",
      "\\textbf{Total} & \\textbf{5,800} & \\textbf{8,544} & \\textbf{14,344} & \\textbf{16,530} & \\textbf{30,874} \\\\\n",
      "\\hline\n",
      "\\multicolumn{6}{l}{\\textbf{Distribución: 29 géneros bacterianos procesados}} \\\\\n",
      "\\multicolumn{6}{l}{\\textbf{Rango utilizado: 416-500 secuencias por género}} \\\\\n",
      "\\multicolumn{6}{l}{\\textbf{Longitud de secuencias: 1305-1600 pares de bases}} \\\\\n",
      "\\multicolumn{6}{l}{\\textbf{Descartado: secuencias originales no incluidas en el dataset final}} \\\\\n",
      "\\hline\n",
      "\\end{tabular}\n",
      "\\end{table}\n",
      "\n",
      "=== ESTADÍSTICAS DEL PROCESAMIENTO ===\n",
      "Secuencias originales disponibles: 30,874\n",
      "Secuencias utilizadas (train+test): 14,344\n",
      "Secuencias descartadas: 16,530\n",
      "Porcentaje de aprovechamiento: 46.5%\n",
      "Distribución final: 5,800 entrenamiento + 8,544 test\n"
     ]
    }
   ],
   "source": [
    "df = df_final\n",
    "\n",
    "# Cargar datos originales para calcular descartados\n",
    "df_original = pd.read_csv('datos/datos_nuevos_juntos.csv')\n",
    "original_counts = df_original['genus'].value_counts()\n",
    "\n",
    "# Obtener conteos por grupo del dataset final\n",
    "train_counts = df[df['is_training'] == True]['genus'].value_counts()\n",
    "test_counts = df[df['is_test'] == True]['genus'].value_counts()\n",
    "used_counts = df['genus'].value_counts()  # Total usado (train + test)\n",
    "\n",
    "# Obtener totales generales\n",
    "total_train = len(df[df['is_training'] == True])\n",
    "total_test = len(df[df['is_test'] == True])\n",
    "total_used = len(df)\n",
    "total_genera = len(df['genus'].unique())\n",
    "\n",
    "# Calcular totales descartados\n",
    "total_original = sum(original_counts[genus] for genus in used_counts.index)\n",
    "total_discarded = total_original - total_used\n",
    "\n",
    "# Crear DataFrame combinado\n",
    "combined_data = []\n",
    "for genus in used_counts.index:\n",
    "    train_count = train_counts.get(genus, 0)\n",
    "    test_count = test_counts.get(genus, 0)\n",
    "    used_count = used_counts[genus]\n",
    "    original_count = original_counts.get(genus, used_count)  # Por si acaso no está en originales\n",
    "    discarded_count = original_count - used_count\n",
    "    \n",
    "    combined_data.append({\n",
    "        'genus': genus,\n",
    "        'train': train_count,\n",
    "        'test': test_count,\n",
    "        'used': used_count,\n",
    "        'discarded': discarded_count,\n",
    "        'original': original_count\n",
    "    })\n",
    "\n",
    "# Convertir a DataFrame y ordenar por total original (descendente)\n",
    "table_df = pd.DataFrame(combined_data)\n",
    "table_df = table_df.sort_values('original', ascending=False)\n",
    "\n",
    "# Obtener rango de secuencias usadas y longitudes\n",
    "min_sequences = table_df['used'].min()\n",
    "max_sequences = table_df['used'].max()\n",
    "\n",
    "# Calcular rango de longitudes de secuencias\n",
    "min_length = df['sequence_length'].min()\n",
    "max_length = df['sequence_length'].max()\n",
    "\n",
    "# Generar código LaTeX\n",
    "latex_code = []\n",
    "latex_code.append(\"\\\\begin{table}[htbp]\")\n",
    "latex_code.append(\"\\\\centering\")\n",
    "latex_code.append(\"\\\\caption{Distribución de secuencias por género bacteriano en el conjunto de datos final}\")\n",
    "latex_code.append(\"\\\\label{tab:genus_distribution}\")\n",
    "latex_code.append(\"\\\\setlength{\\\\tabcolsep}{6pt}\")\n",
    "latex_code.append(\"\\\\renewcommand{\\\\arraystretch}{1.2}\")\n",
    "latex_code.append(\"\\\\begin{tabular}{lrrrrr}\")\n",
    "latex_code.append(\"\\\\hline\")\n",
    "latex_code.append(\"\\\\textbf{Género} & \\\\textbf{Entrenamiento} & \\\\textbf{Test} & \\\\textbf{Usado} & \\\\textbf{Descartado} & \\\\textbf{Original} \\\\\\\\\")\n",
    "latex_code.append(\"\\\\hline\")\n",
    "\n",
    "# Agregar filas de datos\n",
    "for _, row in table_df.iterrows():\n",
    "    genus = row['genus'].replace('_', '\\\\_')  # Escapar guiones bajos para LaTeX\n",
    "    train = row['train'] if row['train'] > 0 else '--'\n",
    "    test = row['test'] if row['test'] > 0 else '--'\n",
    "    used = row['used']\n",
    "    discarded = row['discarded'] if row['discarded'] > 0 else '--'\n",
    "    original = row['original']\n",
    "    latex_code.append(f\"{genus} & {train} & {test} & {used} & {discarded} & {original} \\\\\\\\\")\n",
    "\n",
    "# Agregar totales y estadísticas\n",
    "latex_code.append(\"\\\\hline\")\n",
    "latex_code.append(f\"\\\\textbf{{Total}} & \\\\textbf{{{total_train:,}}} & \\\\textbf{{{total_test:,}}} & \\\\textbf{{{total_used:,}}} & \\\\textbf{{{total_discarded:,}}} & \\\\textbf{{{total_original:,}}} \\\\\\\\\")\n",
    "latex_code.append(\"\\\\hline\")\n",
    "latex_code.append(f\"\\\\multicolumn{{6}}{{l}}{{\\\\textbf{{Distribución: {total_genera} géneros bacterianos procesados}}}} \\\\\\\\\")\n",
    "latex_code.append(f\"\\\\multicolumn{{6}}{{l}}{{\\\\textbf{{Rango utilizado: {min_sequences}-{max_sequences} secuencias por género}}}} \\\\\\\\\")\n",
    "latex_code.append(f\"\\\\multicolumn{{6}}{{l}}{{\\\\textbf{{Longitud de secuencias: {min_length}-{max_length} pares de bases}}}} \\\\\\\\\")\n",
    "latex_code.append(f\"\\\\multicolumn{{6}}{{l}}{{\\\\textbf{{Descartado: secuencias originales no incluidas en el dataset final}}}} \\\\\\\\\")\n",
    "latex_code.append(\"\\\\hline\")\n",
    "latex_code.append(\"\\\\end{tabular}\")\n",
    "latex_code.append(\"\\\\end{table}\")\n",
    "\n",
    "# Unir todas las líneas\n",
    "full_latex = '\\n'.join(latex_code)\n",
    "    \n",
    "print(full_latex)\n",
    "\n",
    "# Mostrar estadísticas adicionales\n",
    "print(f\"\\n=== ESTADÍSTICAS DEL PROCESAMIENTO ===\")\n",
    "print(f\"Secuencias originales disponibles: {total_original:,}\")\n",
    "print(f\"Secuencias utilizadas (train+test): {total_used:,}\")\n",
    "print(f\"Secuencias descartadas: {total_discarded:,}\")\n",
    "print(f\"Porcentaje de aprovechamiento: {(total_used/total_original)*100:.1f}%\")\n",
    "print(f\"Distribución final: {total_train:,} entrenamiento + {total_test:,} test\")"
   ]
  },
  {
   "cell_type": "code",
   "execution_count": 11,
   "id": "2873fde2",
   "metadata": {},
   "outputs": [],
   "source": [
    "df_final[['index', 'sequence_id', 'sequence', 'sequence_length', 'gc_content',\n",
    "       'domain', 'phylum', 'class', 'order', 'family', 'genus', 'species',\n",
    "       'is_training']].to_csv(\"datos/datos_daug.csv\", index=False)"
   ]
  },
  {
   "cell_type": "code",
   "execution_count": 7,
   "id": "55dbacd0",
   "metadata": {},
   "outputs": [
    {
     "name": "stdout",
     "output_type": "stream",
     "text": [
      "\\begin{table}[htbp]\n",
      "\\centering\n",
      "\\caption{Distribución de secuencias por género bacteriano en el conjunto de datos final}\n",
      "\\label{tab:genus_distribution}\n",
      "\\setlength{\\tabcolsep}{8pt}\n",
      "\\renewcommand{\\arraystretch}{1.2}\n",
      "\\begin{tabular}{lrrr}\n",
      "\\hline\n",
      "\\textbf{Género} & \\textbf{Entrenamiento} & \\textbf{Test} & \\textbf{Total} \\\\\n",
      "\\hline\n",
      "Streptomyces & 200 & 1655 & 1855 \\\\\n",
      "Pseudomonas & 200 & 1394 & 1594 \\\\\n",
      "Streptococcus & 200 & 1201 & 1401 \\\\\n",
      "Mycobacterium & 200 & 1108 & 1308 \\\\\n",
      "Flavobacterium & 200 & 1044 & 1244 \\\\\n",
      "Microbacterium & 200 & 1028 & 1228 \\\\\n",
      "Bradyrhizobium & 200 & 983 & 1183 \\\\\n",
      "Sphingomonas & 200 & 940 & 1140 \\\\\n",
      "Arthrobacter & 200 & 925 & 1125 \\\\\n",
      "Rhizobium & 200 & 887 & 1087 \\\\\n",
      "Mesorhizobium & 200 & 887 & 1087 \\\\\n",
      "Micromonospora & 200 & 882 & 1082 \\\\\n",
      "Acinetobacter & 200 & 864 & 1064 \\\\\n",
      "Chryseobacterium & 200 & 858 & 1058 \\\\\n",
      "Corynebacterium & 200 & 858 & 1058 \\\\\n",
      "Nocardioides & 200 & 858 & 1058 \\\\\n",
      "Paracoccus & 200 & 847 & 1047 \\\\\n",
      "Bifidobacterium & 200 & 843 & 1043 \\\\\n",
      "Nocardia & 200 & 841 & 1041 \\\\\n",
      "Pedobacter & 200 & 824 & 1024 \\\\\n",
      "Vibrio & 200 & 802 & 1002 \\\\\n",
      "Methylobacterium & 200 & 801 & 1001 \\\\\n",
      "Pelagibacter & 200 & 797 & 997 \\\\\n",
      "Paraburkholderia & 200 & 733 & 933 \\\\\n",
      "Novosphingobium & 200 & 698 & 898 \\\\\n",
      "Polynucleobacter & 200 & 539 & 739 \\\\\n",
      "Prevotella & 200 & 533 & 733 \\\\\n",
      "Prochlorococcus & 200 & 228 & 428 \\\\\n",
      "Collinsella & 200 & 216 & 416 \\\\\n",
      "\\hline\n",
      "\\textbf{Total} & \\textbf{5,800} & \\textbf{25,074} & \\textbf{30,874} \\\\\n",
      "\\hline\n",
      "\\multicolumn{4}{l}{\\textbf{Distribución: 29 géneros bacterianos}} \\\\\n",
      "\\multicolumn{4}{l}{\\textbf{Rango: 416-1855 secuencias por género}} \\\\\n",
      "\\hline\n",
      "\\end{tabular}\n",
      "\\end{table}\n"
     ]
    }
   ],
   "source": [
    "df=df_final\n",
    "# Obtener conteos por grupo\n",
    "train_counts = df[df['is_training'] == True]['genus'].value_counts()\n",
    "test_counts = df[df['is_training'] == False]['genus'].value_counts()\n",
    "total_counts = df['genus'].value_counts()\n",
    "\n",
    "# Obtener totales generales\n",
    "total_train = len(df[df['is_training'] == True])\n",
    "total_test = len(df[df['is_training'] == False])\n",
    "total_general = len(df)\n",
    "total_genera = len(df['genus'].unique())\n",
    "\n",
    "# Crear DataFrame combinado\n",
    "combined_data = []\n",
    "for genus in total_counts.index:\n",
    "    train_count = train_counts.get(genus, 0)\n",
    "    test_count = test_counts.get(genus, 0)\n",
    "    total_count = total_counts[genus]\n",
    "    \n",
    "    combined_data.append({\n",
    "        'genus': genus,\n",
    "        'train': train_count,\n",
    "        'test': test_count,\n",
    "        'total': total_count\n",
    "    })\n",
    "\n",
    "# Convertir a DataFrame y ordenar por total (descendente)\n",
    "table_df = pd.DataFrame(combined_data)\n",
    "table_df = table_df.sort_values('total', ascending=False)\n",
    "\n",
    "# Obtener rango de secuencias\n",
    "min_sequences = table_df['total'].min()\n",
    "max_sequences = table_df['total'].max()\n",
    "\n",
    "# Generar código LaTeX\n",
    "latex_code = []\n",
    "latex_code.append(\"\\\\begin{table}[htbp]\")\n",
    "latex_code.append(\"\\\\centering\")\n",
    "latex_code.append(\"\\\\caption{Distribución de secuencias por género bacteriano en el conjunto de datos final}\")\n",
    "latex_code.append(\"\\\\label{tab:genus_distribution}\")\n",
    "latex_code.append(\"\\\\setlength{\\\\tabcolsep}{8pt}\")\n",
    "latex_code.append(\"\\\\renewcommand{\\\\arraystretch}{1.2}\")\n",
    "latex_code.append(\"\\\\begin{tabular}{lrrr}\")\n",
    "latex_code.append(\"\\\\hline\")\n",
    "latex_code.append(\"\\\\textbf{Género} & \\\\textbf{Entrenamiento} & \\\\textbf{Test} & \\\\textbf{Total} \\\\\\\\\")\n",
    "latex_code.append(\"\\\\hline\")\n",
    "\n",
    "# Agregar filas de datos\n",
    "for _, row in table_df.iterrows():\n",
    "    genus = row['genus'].replace('_', '\\\\_')  # Escapar guiones bajos para LaTeX\n",
    "    train = row['train'] if row['train'] > 0 else '--'\n",
    "    test = row['test'] if row['test'] > 0 else '--'\n",
    "    total = row['total']\n",
    "    latex_code.append(f\"{genus} & {train} & {test} & {total} \\\\\\\\\")\n",
    "\n",
    "# Agregar totales y estadísticas\n",
    "latex_code.append(\"\\\\hline\")\n",
    "latex_code.append(f\"\\\\textbf{{Total}} & \\\\textbf{{{total_train:,}}} & \\\\textbf{{{total_test:,}}} & \\\\textbf{{{total_general:,}}} \\\\\\\\\")\n",
    "latex_code.append(\"\\\\hline\")\n",
    "latex_code.append(f\"\\\\multicolumn{{4}}{{l}}{{\\\\textbf{{Distribución: {total_genera} géneros bacterianos}}}} \\\\\\\\\")\n",
    "latex_code.append(f\"\\\\multicolumn{{4}}{{l}}{{\\\\textbf{{Rango: {min_sequences}-{max_sequences} secuencias por género}}}} \\\\\\\\\")\n",
    "latex_code.append(\"\\\\hline\")\n",
    "latex_code.append(\"\\\\end{tabular}\")\n",
    "latex_code.append(\"\\\\end{table}\")\n",
    "\n",
    "# Unir todas las líneas\n",
    "full_latex = '\\n'.join(latex_code)\n",
    "    \n",
    "print(full_latex)"
   ]
  },
  {
   "cell_type": "code",
   "execution_count": 20,
   "id": "e9a86272",
   "metadata": {},
   "outputs": [],
   "source": [
    "df_final.to_csv('datos/80m.csv', index=False)"
   ]
  }
 ],
 "metadata": {
  "kernelspec": {
   "display_name": "paper",
   "language": "python",
   "name": "python3"
  },
  "language_info": {
   "codemirror_mode": {
    "name": "ipython",
    "version": 3
   },
   "file_extension": ".py",
   "mimetype": "text/x-python",
   "name": "python",
   "nbconvert_exporter": "python",
   "pygments_lexer": "ipython3",
   "version": "3.10.15"
  }
 },
 "nbformat": 4,
 "nbformat_minor": 5
}
