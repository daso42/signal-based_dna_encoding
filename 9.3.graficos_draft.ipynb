{
 "cells": [
  {
   "cell_type": "code",
   "execution_count": 2,
   "id": "3492296c",
   "metadata": {},
   "outputs": [
    {
     "data": {
      "application/vnd.plotly.v1+json": {
       "config": {
        "plotlyServerURL": "https://plot.ly"
       },
       "data": [
        {
         "coloraxis": "coloraxis",
         "hovertemplate": "x: %{x}<br>y: %{y}<br>color: %{z}<extra></extra>",
         "name": "0",
         "type": "heatmap",
         "x": [
          "AS_FFT",
          "AS_K-mers",
          "AS_K-mers + FFT",
          "AS_K-mers + Wavelet",
          "AS_One Hot",
          "AS_One Hot + FFT",
          "AS_One Hot + Wavelet",
          "AS_Wavelet",
          "PS_FFT",
          "PS_K-mers",
          "PS_K-mers + FFT",
          "PS_K-mers + Wavelet",
          "PS_One Hot",
          "PS_One Hot + FFT",
          "PS_One Hot + Wavelet",
          "PS_Wavelet"
         ],
         "xaxis": "x",
         "y": [
          "RandomForest",
          "SVM",
          "XGBoost"
         ],
         "yaxis": "y",
         "z": [
          [
           0.9914669783752192,
           0.9945061367621274,
           0.9897136177673876,
           0.9945061367621274,
           0.9920514319111632,
           0.98947983635301,
           0.992168322618352,
           0.9945061367621274,
           0.930333138515488,
           0.3627118644067796,
           0.9092928112215078,
           0.3862068965517241,
           0.2852133255406195,
           0.7894798363530099,
           0.2918760958503799,
           0.3841028638223261
          ],
          [
           0.9948568088836938,
           0.99520748100526,
           0.9918176504967856,
           0.9948568088836938,
           0.9953243717124488,
           0.99520748100526,
           0.99520748100526,
           0.9917007597895968,
           0.9607247223845704,
           0.3279953243717124,
           0.9581531268264172,
           0.3327878433664523,
           0.3177089421390999,
           0.9527761542957336,
           0.3179427235534775,
           0.3394506136762127
          ],
          [
           0.9904149620105202,
           0.994155464640561,
           0.9870251315020456,
           0.993103448275862,
           0.9943892460549386,
           0.9918176504967856,
           0.9870251315020456,
           0.993103448275862,
           0.925540619520748,
           0.3099941554646405,
           0.8676797194623027,
           0.435885447106955,
           0.2662770309760374,
           0.8626534190531853,
           0.2821741671537113,
           0.413676212741087
          ]
         ]
        }
       ],
       "layout": {
        "annotations": [
         {
          "font": {
           "color": "black",
           "size": 10
          },
          "showarrow": false,
          "text": "0.991",
          "x": 0,
          "y": 0
         },
         {
          "font": {
           "color": "black",
           "size": 10
          },
          "showarrow": false,
          "text": "0.995",
          "x": 1,
          "y": 0
         },
         {
          "font": {
           "color": "black",
           "size": 10
          },
          "showarrow": false,
          "text": "0.990",
          "x": 2,
          "y": 0
         },
         {
          "font": {
           "color": "black",
           "size": 10
          },
          "showarrow": false,
          "text": "0.995",
          "x": 3,
          "y": 0
         },
         {
          "font": {
           "color": "black",
           "size": 10
          },
          "showarrow": false,
          "text": "0.992",
          "x": 4,
          "y": 0
         },
         {
          "font": {
           "color": "black",
           "size": 10
          },
          "showarrow": false,
          "text": "0.989",
          "x": 5,
          "y": 0
         },
         {
          "font": {
           "color": "black",
           "size": 10
          },
          "showarrow": false,
          "text": "0.992",
          "x": 6,
          "y": 0
         },
         {
          "font": {
           "color": "black",
           "size": 10
          },
          "showarrow": false,
          "text": "0.995",
          "x": 7,
          "y": 0
         },
         {
          "font": {
           "color": "white",
           "size": 10
          },
          "showarrow": false,
          "text": "0.930",
          "x": 8,
          "y": 0
         },
         {
          "font": {
           "color": "white",
           "size": 10
          },
          "showarrow": false,
          "text": "0.363",
          "x": 9,
          "y": 0
         },
         {
          "font": {
           "color": "white",
           "size": 10
          },
          "showarrow": false,
          "text": "0.909",
          "x": 10,
          "y": 0
         },
         {
          "font": {
           "color": "white",
           "size": 10
          },
          "showarrow": false,
          "text": "0.386",
          "x": 11,
          "y": 0
         },
         {
          "font": {
           "color": "white",
           "size": 10
          },
          "showarrow": false,
          "text": "0.285",
          "x": 12,
          "y": 0
         },
         {
          "font": {
           "color": "white",
           "size": 10
          },
          "showarrow": false,
          "text": "0.789",
          "x": 13,
          "y": 0
         },
         {
          "font": {
           "color": "white",
           "size": 10
          },
          "showarrow": false,
          "text": "0.292",
          "x": 14,
          "y": 0
         },
         {
          "font": {
           "color": "white",
           "size": 10
          },
          "showarrow": false,
          "text": "0.384",
          "x": 15,
          "y": 0
         },
         {
          "font": {
           "color": "black",
           "size": 10
          },
          "showarrow": false,
          "text": "0.995",
          "x": 0,
          "y": 1
         },
         {
          "font": {
           "color": "black",
           "size": 10
          },
          "showarrow": false,
          "text": "0.995",
          "x": 1,
          "y": 1
         },
         {
          "font": {
           "color": "black",
           "size": 10
          },
          "showarrow": false,
          "text": "0.992",
          "x": 2,
          "y": 1
         },
         {
          "font": {
           "color": "black",
           "size": 10
          },
          "showarrow": false,
          "text": "0.995",
          "x": 3,
          "y": 1
         },
         {
          "font": {
           "color": "black",
           "size": 10
          },
          "showarrow": false,
          "text": "0.995",
          "x": 4,
          "y": 1
         },
         {
          "font": {
           "color": "black",
           "size": 10
          },
          "showarrow": false,
          "text": "0.995",
          "x": 5,
          "y": 1
         },
         {
          "font": {
           "color": "black",
           "size": 10
          },
          "showarrow": false,
          "text": "0.995",
          "x": 6,
          "y": 1
         },
         {
          "font": {
           "color": "black",
           "size": 10
          },
          "showarrow": false,
          "text": "0.992",
          "x": 7,
          "y": 1
         },
         {
          "font": {
           "color": "white",
           "size": 10
          },
          "showarrow": false,
          "text": "0.961",
          "x": 8,
          "y": 1
         },
         {
          "font": {
           "color": "white",
           "size": 10
          },
          "showarrow": false,
          "text": "0.328",
          "x": 9,
          "y": 1
         },
         {
          "font": {
           "color": "white",
           "size": 10
          },
          "showarrow": false,
          "text": "0.958",
          "x": 10,
          "y": 1
         },
         {
          "font": {
           "color": "white",
           "size": 10
          },
          "showarrow": false,
          "text": "0.333",
          "x": 11,
          "y": 1
         },
         {
          "font": {
           "color": "white",
           "size": 10
          },
          "showarrow": false,
          "text": "0.318",
          "x": 12,
          "y": 1
         },
         {
          "font": {
           "color": "white",
           "size": 10
          },
          "showarrow": false,
          "text": "0.953",
          "x": 13,
          "y": 1
         },
         {
          "font": {
           "color": "white",
           "size": 10
          },
          "showarrow": false,
          "text": "0.318",
          "x": 14,
          "y": 1
         },
         {
          "font": {
           "color": "white",
           "size": 10
          },
          "showarrow": false,
          "text": "0.339",
          "x": 15,
          "y": 1
         },
         {
          "font": {
           "color": "black",
           "size": 10
          },
          "showarrow": false,
          "text": "0.990",
          "x": 0,
          "y": 2
         },
         {
          "font": {
           "color": "black",
           "size": 10
          },
          "showarrow": false,
          "text": "0.994",
          "x": 1,
          "y": 2
         },
         {
          "font": {
           "color": "black",
           "size": 10
          },
          "showarrow": false,
          "text": "0.987",
          "x": 2,
          "y": 2
         },
         {
          "font": {
           "color": "black",
           "size": 10
          },
          "showarrow": false,
          "text": "0.993",
          "x": 3,
          "y": 2
         },
         {
          "font": {
           "color": "black",
           "size": 10
          },
          "showarrow": false,
          "text": "0.994",
          "x": 4,
          "y": 2
         },
         {
          "font": {
           "color": "black",
           "size": 10
          },
          "showarrow": false,
          "text": "0.992",
          "x": 5,
          "y": 2
         },
         {
          "font": {
           "color": "black",
           "size": 10
          },
          "showarrow": false,
          "text": "0.987",
          "x": 6,
          "y": 2
         },
         {
          "font": {
           "color": "black",
           "size": 10
          },
          "showarrow": false,
          "text": "0.993",
          "x": 7,
          "y": 2
         },
         {
          "font": {
           "color": "white",
           "size": 10
          },
          "showarrow": false,
          "text": "0.926",
          "x": 8,
          "y": 2
         },
         {
          "font": {
           "color": "white",
           "size": 10
          },
          "showarrow": false,
          "text": "0.310",
          "x": 9,
          "y": 2
         },
         {
          "font": {
           "color": "white",
           "size": 10
          },
          "showarrow": false,
          "text": "0.868",
          "x": 10,
          "y": 2
         },
         {
          "font": {
           "color": "white",
           "size": 10
          },
          "showarrow": false,
          "text": "0.436",
          "x": 11,
          "y": 2
         },
         {
          "font": {
           "color": "white",
           "size": 10
          },
          "showarrow": false,
          "text": "0.266",
          "x": 12,
          "y": 2
         },
         {
          "font": {
           "color": "white",
           "size": 10
          },
          "showarrow": false,
          "text": "0.863",
          "x": 13,
          "y": 2
         },
         {
          "font": {
           "color": "white",
           "size": 10
          },
          "showarrow": false,
          "text": "0.282",
          "x": 14,
          "y": 2
         },
         {
          "font": {
           "color": "white",
           "size": 10
          },
          "showarrow": false,
          "text": "0.414",
          "x": 15,
          "y": 2
         }
        ],
        "coloraxis": {
         "colorscale": [
          [
           0,
           "rgb(49,54,149)"
          ],
          [
           0.1,
           "rgb(69,117,180)"
          ],
          [
           0.2,
           "rgb(116,173,209)"
          ],
          [
           0.3,
           "rgb(171,217,233)"
          ],
          [
           0.4,
           "rgb(224,243,248)"
          ],
          [
           0.5,
           "rgb(255,255,191)"
          ],
          [
           0.6,
           "rgb(254,224,144)"
          ],
          [
           0.7,
           "rgb(253,174,97)"
          ],
          [
           0.8,
           "rgb(244,109,67)"
          ],
          [
           0.9,
           "rgb(215,48,39)"
          ],
          [
           1,
           "rgb(165,0,38)"
          ]
         ]
        },
        "font": {
         "size": 14
        },
        "height": 900,
        "template": {
         "data": {
          "pie": [
           {
            "automargin": true,
            "type": "pie"
           }
          ],
          "scatter": [
           {
            "line": {
             "width": 3
            },
            "marker": {
             "size": 9
            },
            "type": "scatter"
           }
          ],
          "scatter3d": [
           {
            "line": {
             "width": 3
            },
            "marker": {
             "size": 9
            },
            "type": "scatter3d"
           }
          ],
          "scattergeo": [
           {
            "line": {
             "width": 3
            },
            "marker": {
             "size": 9
            },
            "type": "scattergeo"
           }
          ],
          "scattergl": [
           {
            "line": {
             "width": 3
            },
            "marker": {
             "size": 9
            },
            "type": "scattergl"
           }
          ],
          "scatterpolar": [
           {
            "line": {
             "width": 3
            },
            "marker": {
             "size": 9
            },
            "type": "scatterpolar"
           }
          ],
          "scatterpolargl": [
           {
            "line": {
             "width": 3
            },
            "marker": {
             "size": 9
            },
            "type": "scatterpolargl"
           }
          ],
          "scatterternary": [
           {
            "line": {
             "width": 3
            },
            "marker": {
             "size": 9
            },
            "type": "scatterternary"
           }
          ],
          "table": [
           {
            "cells": {
             "height": 30
            },
            "header": {
             "height": 36
            },
            "type": "table"
           }
          ]
         },
         "layout": {
          "font": {
           "size": 18
          },
          "xaxis": {
           "title": {
            "standoff": 15
           }
          },
          "yaxis": {
           "title": {
            "standoff": 15
           }
          }
         }
        },
        "title": {
         "font": {
          "size": 24
         },
         "text": "Mapa de Calor: Accuracy por Algoritmo y Encoding",
         "x": 0.5
        },
        "width": 1200,
        "xaxis": {
         "anchor": "y",
         "domain": [
          0,
          1
         ],
         "tickangle": 45,
         "title": {
          "text": "Técnica de Codificación"
         }
        },
        "yaxis": {
         "anchor": "x",
         "autorange": "reversed",
         "domain": [
          0,
          1
         ],
         "title": {
          "text": "Algoritmo"
         }
        }
       }
      }
     },
     "metadata": {},
     "output_type": "display_data"
    }
   ],
   "source": [
    "import pandas as pd\n",
    "import plotly.express as px\n",
    "import plotly.graph_objects as go\n",
    "from plotly.subplots import make_subplots\n",
    "\n",
    "# Cargar datos\n",
    "df = pd.read_csv(\"results/evaluation_results/evaluation_results.csv\")\n",
    "\n",
    "# Crear matriz para el heatmap\n",
    "pivot_accuracy = df.pivot(index='algorithm', columns='encoding', values='accuracy')\n",
    "\n",
    "# Crear heatmap interactivo\n",
    "fig = px.imshow(\n",
    "    pivot_accuracy.values,\n",
    "    x=pivot_accuracy.columns,\n",
    "    y=pivot_accuracy.index,\n",
    "    color_continuous_scale='RdYlBu_r',\n",
    "    aspect='auto',\n",
    "    template='presentation',\n",
    "    title='Mapa de Calor: Accuracy por Algoritmo y Encoding'\n",
    ")\n",
    "\n",
    "# Personalizar el gráfico\n",
    "fig.update_layout(\n",
    "    title={\n",
    "        'text': 'Mapa de Calor: Accuracy por Algoritmo y Encoding',\n",
    "        'x': 0.5,\n",
    "        'font': {'size': 24}\n",
    "    },\n",
    "    xaxis_title='Técnica de Codificación',\n",
    "    yaxis_title='Algoritmo',\n",
    "    font=dict(size=14),\n",
    "    height=900,\n",
    "    width=1200\n",
    ")\n",
    "\n",
    "# Añadir valores como texto\n",
    "for i, algorithm in enumerate(pivot_accuracy.index):\n",
    "    for j, encoding in enumerate(pivot_accuracy.columns):\n",
    "        value = pivot_accuracy.iloc[i, j]\n",
    "        if not pd.isna(value):\n",
    "            fig.add_annotation(\n",
    "                x=j, y=i,\n",
    "                text=f'{value:.3f}',\n",
    "                showarrow=False,\n",
    "                font=dict(color='white' if value < 0.97 else 'black', size=10)\n",
    "            )\n",
    "\n",
    "# Rotar etiquetas del eje x\n",
    "fig.update_xaxes(tickangle=45)\n",
    "\n",
    "fig.show()"
   ]
  },
  {
   "cell_type": "code",
   "execution_count": 3,
   "id": "fc8db14e",
   "metadata": {},
   "outputs": [
    {
     "data": {
      "application/vnd.plotly.v1+json": {
       "config": {
        "plotlyServerURL": "https://plot.ly"
       },
       "data": [
        {
         "fill": "toself",
         "fillcolor": "#1f77b4",
         "line": {
          "color": "#1f77b4"
         },
         "name": "RandomForest",
         "opacity": 0.6,
         "r": [
          0.7673509643483343,
          0.7807742505013169,
          0.7800240527275438,
          0.8929233220779108,
          0.8928002894415894,
          0.7673509643483343,
          0.7662902045025837,
          0.7673509643483343
         ],
         "theta": [
          "Accuracy",
          "F1 Weighted",
          "F1 Macro",
          "Precision Weighted",
          "Precision Macro",
          "Recall Weighted",
          "Recall Macro",
          "Accuracy"
         ],
         "type": "scatterpolar"
        },
        {
         "fill": "toself",
         "fillcolor": "#ff7f0e",
         "line": {
          "color": "#ff7f0e"
         },
         "name": "SVM",
         "opacity": 0.6,
         "r": [
          0.7788573933372297,
          0.7882463584941088,
          0.7873641143494621,
          0.883353963488883,
          0.8835723257322878,
          0.7788573933372297,
          0.7775043717971325,
          0.7788573933372297
         ],
         "theta": [
          "Accuracy",
          "F1 Weighted",
          "F1 Macro",
          "Precision Weighted",
          "Precision Macro",
          "Recall Weighted",
          "Recall Macro",
          "Accuracy"
         ],
         "type": "scatterpolar"
        },
        {
         "fill": "toself",
         "fillcolor": "#2ca02c",
         "line": {
          "color": "#2ca02c"
         },
         "name": "XGBoost",
         "opacity": 0.6,
         "r": [
          0.7684322033898305,
          0.7781501295932358,
          0.7775241034649772,
          0.8762752930911505,
          0.876636414414218,
          0.7684322033898305,
          0.7673352560557238,
          0.7684322033898305
         ],
         "theta": [
          "Accuracy",
          "F1 Weighted",
          "F1 Macro",
          "Precision Weighted",
          "Precision Macro",
          "Recall Weighted",
          "Recall Macro",
          "Accuracy"
         ],
         "type": "scatterpolar"
        }
       ],
       "layout": {
        "font": {
         "size": 14
        },
        "height": 700,
        "polar": {
         "radialaxis": {
          "range": [
           0.92,
           1
          ],
          "ticktext": [
           "0.92",
           "0.94",
           "0.96",
           "0.98",
           "1.0"
          ],
          "tickvals": [
           0.92,
           0.94,
           0.96,
           0.98,
           1
          ],
          "visible": true
         }
        },
        "showlegend": true,
        "template": {
         "data": {
          "pie": [
           {
            "automargin": true,
            "type": "pie"
           }
          ],
          "scatter": [
           {
            "line": {
             "width": 3
            },
            "marker": {
             "size": 9
            },
            "type": "scatter"
           }
          ],
          "scatter3d": [
           {
            "line": {
             "width": 3
            },
            "marker": {
             "size": 9
            },
            "type": "scatter3d"
           }
          ],
          "scattergeo": [
           {
            "line": {
             "width": 3
            },
            "marker": {
             "size": 9
            },
            "type": "scattergeo"
           }
          ],
          "scattergl": [
           {
            "line": {
             "width": 3
            },
            "marker": {
             "size": 9
            },
            "type": "scattergl"
           }
          ],
          "scatterpolar": [
           {
            "line": {
             "width": 3
            },
            "marker": {
             "size": 9
            },
            "type": "scatterpolar"
           }
          ],
          "scatterpolargl": [
           {
            "line": {
             "width": 3
            },
            "marker": {
             "size": 9
            },
            "type": "scatterpolargl"
           }
          ],
          "scatterternary": [
           {
            "line": {
             "width": 3
            },
            "marker": {
             "size": 9
            },
            "type": "scatterternary"
           }
          ],
          "table": [
           {
            "cells": {
             "height": 30
            },
            "header": {
             "height": 36
            },
            "type": "table"
           }
          ]
         },
         "layout": {
          "font": {
           "size": 18
          },
          "xaxis": {
           "title": {
            "standoff": 15
           }
          },
          "yaxis": {
           "title": {
            "standoff": 15
           }
          }
         }
        },
        "title": {
         "font": {
          "size": 24
         },
         "text": "Comparación Multimétrica por Algoritmo (Radar)",
         "x": 0.5
        },
        "width": 800
       }
      }
     },
     "metadata": {},
     "output_type": "display_data"
    }
   ],
   "source": [
    "import pandas as pd\n",
    "import plotly.graph_objects as go\n",
    "from plotly.subplots import make_subplots\n",
    "import numpy as np\n",
    "\n",
    "# Cargar datos\n",
    "df = pd.read_csv(\"results/evaluation_results/evaluation_results.csv\")\n",
    "\n",
    "# Calcular promedios por algoritmo\n",
    "metrics_cols = ['accuracy', 'f1_score_weighted', 'f1_score_macro', \n",
    "                'precision_weighted', 'precision_macro', 'recall_weighted', 'recall_macro']\n",
    "\n",
    "algo_stats = df.groupby('algorithm')[metrics_cols].mean()\n",
    "\n",
    "# Normalizar métricas para mejor visualización (0-1)\n",
    "algo_stats_norm = algo_stats.copy()\n",
    "\n",
    "# Crear gráfico de radar\n",
    "algorithms = algo_stats.index.tolist()\n",
    "metrics_labels = ['Accuracy', 'F1 Weighted', 'F1 Macro', \n",
    "                  'Precision Weighted', 'Precision Macro', \n",
    "                  'Recall Weighted', 'Recall Macro']\n",
    "\n",
    "colors = ['#1f77b4', '#ff7f0e', '#2ca02c']\n",
    "\n",
    "fig = go.Figure()\n",
    "\n",
    "# Añadir cada algoritmo\n",
    "for i, algo in enumerate(algorithms):\n",
    "    values = algo_stats_norm.loc[algo].tolist()\n",
    "    values += [values[0]]  # Cerrar el polígono\n",
    "    \n",
    "    fig.add_trace(go.Scatterpolar(\n",
    "        r=values,\n",
    "        theta=metrics_labels + [metrics_labels[0]],\n",
    "        fill='toself',\n",
    "        name=algo,\n",
    "        line_color=colors[i],\n",
    "        fillcolor=colors[i],\n",
    "        opacity=0.6\n",
    "    ))\n",
    "\n",
    "# Personalizar layout\n",
    "fig.update_layout(\n",
    "    polar=dict(\n",
    "        radialaxis=dict(\n",
    "            visible=True,\n",
    "            range=[0.92, 1.0],  # Rango específico para mejor visibilidad\n",
    "            tickvals=[0.92, 0.94, 0.96, 0.98, 1.0],\n",
    "            ticktext=['0.92', '0.94', '0.96', '0.98', '1.0']\n",
    "        )),\n",
    "    showlegend=True,\n",
    "    title={\n",
    "        'text': 'Comparación Multimétrica por Algoritmo (Radar)',\n",
    "        'x': 0.5,\n",
    "        'font': {'size': 24}\n",
    "    },\n",
    "    template='presentation',\n",
    "    height=700,\n",
    "    width=800,\n",
    "    font=dict(size=14)\n",
    ")\n",
    "\n",
    "fig.show()"
   ]
  },
  {
   "cell_type": "code",
   "execution_count": 5,
   "id": "43c86167",
   "metadata": {},
   "outputs": [
    {
     "data": {
      "application/vnd.plotly.v1+json": {
       "config": {
        "plotlyServerURL": "https://plot.ly"
       },
       "data": [
        {
         "alignmentgroup": "True",
         "box": {
          "visible": true
         },
         "customdata": [
          [
           "AS_One Hot",
           0
          ],
          [
           "AS_One Hot",
           1
          ],
          [
           "AS_One Hot",
           2
          ],
          [
           "AS_One Hot",
           3
          ],
          [
           "AS_One Hot",
           4
          ],
          [
           "AS_One Hot",
           0
          ],
          [
           "AS_One Hot",
           1
          ],
          [
           "AS_One Hot",
           2
          ],
          [
           "AS_One Hot",
           3
          ],
          [
           "AS_One Hot",
           4
          ],
          [
           "AS_One Hot",
           0
          ],
          [
           "AS_One Hot",
           1
          ],
          [
           "AS_One Hot",
           2
          ],
          [
           "AS_One Hot",
           3
          ],
          [
           "AS_One Hot",
           4
          ],
          [
           "AS_K-mers",
           0
          ],
          [
           "AS_K-mers",
           1
          ],
          [
           "AS_K-mers",
           2
          ],
          [
           "AS_K-mers",
           3
          ],
          [
           "AS_K-mers",
           4
          ],
          [
           "AS_K-mers",
           0
          ],
          [
           "AS_K-mers",
           1
          ],
          [
           "AS_K-mers",
           2
          ],
          [
           "AS_K-mers",
           3
          ],
          [
           "AS_K-mers",
           4
          ],
          [
           "AS_K-mers",
           0
          ],
          [
           "AS_K-mers",
           1
          ],
          [
           "AS_K-mers",
           2
          ],
          [
           "AS_K-mers",
           3
          ],
          [
           "AS_K-mers",
           4
          ],
          [
           "AS_FFT",
           0
          ],
          [
           "AS_FFT",
           1
          ],
          [
           "AS_FFT",
           2
          ],
          [
           "AS_FFT",
           3
          ],
          [
           "AS_FFT",
           4
          ],
          [
           "AS_FFT",
           0
          ],
          [
           "AS_FFT",
           1
          ],
          [
           "AS_FFT",
           2
          ],
          [
           "AS_FFT",
           3
          ],
          [
           "AS_FFT",
           4
          ],
          [
           "AS_FFT",
           0
          ],
          [
           "AS_FFT",
           1
          ],
          [
           "AS_FFT",
           2
          ],
          [
           "AS_FFT",
           3
          ],
          [
           "AS_FFT",
           4
          ],
          [
           "AS_Wavelet",
           0
          ],
          [
           "AS_Wavelet",
           1
          ],
          [
           "AS_Wavelet",
           2
          ],
          [
           "AS_Wavelet",
           3
          ],
          [
           "AS_Wavelet",
           4
          ],
          [
           "AS_Wavelet",
           0
          ],
          [
           "AS_Wavelet",
           1
          ],
          [
           "AS_Wavelet",
           2
          ],
          [
           "AS_Wavelet",
           3
          ],
          [
           "AS_Wavelet",
           4
          ],
          [
           "AS_Wavelet",
           0
          ],
          [
           "AS_Wavelet",
           1
          ],
          [
           "AS_Wavelet",
           2
          ],
          [
           "AS_Wavelet",
           3
          ],
          [
           "AS_Wavelet",
           4
          ],
          [
           "AS_K-mers + FFT",
           0
          ],
          [
           "AS_K-mers + FFT",
           1
          ],
          [
           "AS_K-mers + FFT",
           2
          ],
          [
           "AS_K-mers + FFT",
           3
          ],
          [
           "AS_K-mers + FFT",
           4
          ],
          [
           "AS_K-mers + FFT",
           0
          ],
          [
           "AS_K-mers + FFT",
           1
          ],
          [
           "AS_K-mers + FFT",
           2
          ],
          [
           "AS_K-mers + FFT",
           3
          ],
          [
           "AS_K-mers + FFT",
           4
          ],
          [
           "AS_K-mers + FFT",
           0
          ],
          [
           "AS_K-mers + FFT",
           1
          ],
          [
           "AS_K-mers + FFT",
           2
          ],
          [
           "AS_K-mers + FFT",
           3
          ],
          [
           "AS_K-mers + FFT",
           4
          ],
          [
           "AS_One Hot + FFT",
           0
          ],
          [
           "AS_One Hot + FFT",
           1
          ],
          [
           "AS_One Hot + FFT",
           2
          ],
          [
           "AS_One Hot + FFT",
           3
          ],
          [
           "AS_One Hot + FFT",
           4
          ],
          [
           "AS_One Hot + FFT",
           0
          ],
          [
           "AS_One Hot + FFT",
           1
          ],
          [
           "AS_One Hot + FFT",
           2
          ],
          [
           "AS_One Hot + FFT",
           3
          ],
          [
           "AS_One Hot + FFT",
           4
          ],
          [
           "AS_One Hot + FFT",
           0
          ],
          [
           "AS_One Hot + FFT",
           1
          ],
          [
           "AS_One Hot + FFT",
           2
          ],
          [
           "AS_One Hot + FFT",
           3
          ],
          [
           "AS_One Hot + FFT",
           4
          ],
          [
           "AS_K-mers + Wavelet",
           0
          ],
          [
           "AS_K-mers + Wavelet",
           1
          ],
          [
           "AS_K-mers + Wavelet",
           2
          ],
          [
           "AS_K-mers + Wavelet",
           3
          ],
          [
           "AS_K-mers + Wavelet",
           4
          ],
          [
           "AS_K-mers + Wavelet",
           0
          ],
          [
           "AS_K-mers + Wavelet",
           1
          ],
          [
           "AS_K-mers + Wavelet",
           2
          ],
          [
           "AS_K-mers + Wavelet",
           3
          ],
          [
           "AS_K-mers + Wavelet",
           4
          ],
          [
           "AS_K-mers + Wavelet",
           0
          ],
          [
           "AS_K-mers + Wavelet",
           1
          ],
          [
           "AS_K-mers + Wavelet",
           2
          ],
          [
           "AS_K-mers + Wavelet",
           3
          ],
          [
           "AS_K-mers + Wavelet",
           4
          ],
          [
           "AS_One Hot + Wavelet",
           0
          ],
          [
           "AS_One Hot + Wavelet",
           1
          ],
          [
           "AS_One Hot + Wavelet",
           2
          ],
          [
           "AS_One Hot + Wavelet",
           3
          ],
          [
           "AS_One Hot + Wavelet",
           4
          ],
          [
           "AS_One Hot + Wavelet",
           0
          ],
          [
           "AS_One Hot + Wavelet",
           1
          ],
          [
           "AS_One Hot + Wavelet",
           2
          ],
          [
           "AS_One Hot + Wavelet",
           3
          ],
          [
           "AS_One Hot + Wavelet",
           4
          ],
          [
           "AS_One Hot + Wavelet",
           0
          ],
          [
           "AS_One Hot + Wavelet",
           1
          ],
          [
           "AS_One Hot + Wavelet",
           2
          ],
          [
           "AS_One Hot + Wavelet",
           3
          ],
          [
           "AS_One Hot + Wavelet",
           4
          ]
         ],
         "hovertemplate": "Tipo de Encoding=AS<br>Algoritmo=%{x}<br>Tiempo de Entrenamiento (segundos)=%{y}<br>encoding=%{customdata[0]}<br>iter=%{customdata[1]}<extra></extra>",
         "legendgroup": "AS",
         "marker": {
          "color": "#1F77B4"
         },
         "name": "AS",
         "offsetgroup": "AS",
         "orientation": "v",
         "points": "all",
         "scalegroup": "True",
         "showlegend": true,
         "type": "violin",
         "x": [
          "SVM",
          "SVM",
          "SVM",
          "SVM",
          "SVM",
          "RandomForest",
          "RandomForest",
          "RandomForest",
          "RandomForest",
          "RandomForest",
          "XGBoost",
          "XGBoost",
          "XGBoost",
          "XGBoost",
          "XGBoost",
          "SVM",
          "SVM",
          "SVM",
          "SVM",
          "SVM",
          "RandomForest",
          "RandomForest",
          "RandomForest",
          "RandomForest",
          "RandomForest",
          "XGBoost",
          "XGBoost",
          "XGBoost",
          "XGBoost",
          "XGBoost",
          "SVM",
          "SVM",
          "SVM",
          "SVM",
          "SVM",
          "RandomForest",
          "RandomForest",
          "RandomForest",
          "RandomForest",
          "RandomForest",
          "XGBoost",
          "XGBoost",
          "XGBoost",
          "XGBoost",
          "XGBoost",
          "SVM",
          "SVM",
          "SVM",
          "SVM",
          "SVM",
          "RandomForest",
          "RandomForest",
          "RandomForest",
          "RandomForest",
          "RandomForest",
          "XGBoost",
          "XGBoost",
          "XGBoost",
          "XGBoost",
          "XGBoost",
          "SVM",
          "SVM",
          "SVM",
          "SVM",
          "SVM",
          "RandomForest",
          "RandomForest",
          "RandomForest",
          "RandomForest",
          "RandomForest",
          "XGBoost",
          "XGBoost",
          "XGBoost",
          "XGBoost",
          "XGBoost",
          "SVM",
          "SVM",
          "SVM",
          "SVM",
          "SVM",
          "RandomForest",
          "RandomForest",
          "RandomForest",
          "RandomForest",
          "RandomForest",
          "XGBoost",
          "XGBoost",
          "XGBoost",
          "XGBoost",
          "XGBoost",
          "SVM",
          "SVM",
          "SVM",
          "SVM",
          "SVM",
          "RandomForest",
          "RandomForest",
          "RandomForest",
          "RandomForest",
          "RandomForest",
          "XGBoost",
          "XGBoost",
          "XGBoost",
          "XGBoost",
          "XGBoost",
          "SVM",
          "SVM",
          "SVM",
          "SVM",
          "SVM",
          "RandomForest",
          "RandomForest",
          "RandomForest",
          "RandomForest",
          "RandomForest",
          "XGBoost",
          "XGBoost",
          "XGBoost",
          "XGBoost",
          "XGBoost"
         ],
         "x0": " ",
         "xaxis": "x",
         "y": [
          441.7141733169556,
          443.2776908874512,
          442.9024543762207,
          440.5844211578369,
          439.5997002124786,
          7.649937868118286,
          7.634437084197998,
          7.60509729385376,
          7.64074182510376,
          7.85431432723999,
          151.46452140808103,
          150.29079747200012,
          151.75140237808228,
          150.55512928962708,
          150.2197105884552,
          45.58264970779419,
          45.78938174247742,
          45.71333050727844,
          45.88385558128357,
          46.10968732833862,
          5.572835922241211,
          5.573547601699829,
          5.568711042404175,
          5.572964191436768,
          5.57776403427124,
          91.3960144519806,
          90.96030974388124,
          90.2580029964447,
          90.97223806381226,
          91.1767110824585,
          23.82185769081116,
          23.87568211555481,
          23.99886584281921,
          23.965094804763797,
          23.949894666671756,
          32.46910309791565,
          32.22580933570862,
          32.16741418838501,
          32.52985215187073,
          33.19268178939819,
          130.34158968925476,
          131.06034088134766,
          130.96248817443848,
          131.02671432495117,
          131.1164207458496,
          68.28000712394714,
          68.47543120384216,
          68.48607897758484,
          68.51621651649475,
          68.52962923049927,
          1.7488634586334229,
          1.7407598495483398,
          1.7413113117218018,
          1.7401509284973145,
          1.7441017627716064,
          45.04280948638916,
          44.17763042449951,
          44.42650651931763,
          44.17295050621033,
          44.182780265808105,
          21.594926118850708,
          21.69817042350769,
          21.73067712783813,
          21.737210750579838,
          21.702853202819824,
          23.944509506225582,
          24.80774974822998,
          24.22383403778076,
          24.028149366378784,
          23.92222833633423,
          125.60339879989624,
          125.5608251094818,
          125.58816385269164,
          125.61785864830016,
          125.5861520767212,
          191.0816733837128,
          191.59585905075076,
          191.6887147426605,
          189.40627789497373,
          189.4627525806427,
          60.56576442718506,
          56.85400915145874,
          57.37260341644287,
          60.33054947853088,
          56.96933507919312,
          865.0575392246246,
          862.1055192947388,
          863.5568797588348,
          864.6562061309814,
          864.8778114318848,
          43.00761771202088,
          43.336331605911255,
          43.24803352355957,
          43.25589108467102,
          43.21904253959656,
          4.939584970474243,
          4.924162864685059,
          5.14577841758728,
          4.937929153442383,
          4.928208827972412,
          134.4644329547882,
          134.2441201210022,
          134.29962944984436,
          134.29211378097534,
          134.455589056015,
          431.1170752048493,
          432.4358949661255,
          431.4208023548126,
          432.562771320343,
          430.08871817588806,
          2.6446125507354736,
          2.6328814029693604,
          2.634223461151123,
          2.634280204772949,
          2.6368112564086914,
          251.15140414237976,
          251.5391116142273,
          250.8516318798065,
          248.4838671684265,
          232.7856273651123
         ],
         "y0": " ",
         "yaxis": "y"
        },
        {
         "alignmentgroup": "True",
         "box": {
          "visible": true
         },
         "customdata": [
          [
           "PS_One Hot",
           0
          ],
          [
           "PS_One Hot",
           1
          ],
          [
           "PS_One Hot",
           2
          ],
          [
           "PS_One Hot",
           3
          ],
          [
           "PS_One Hot",
           4
          ],
          [
           "PS_One Hot",
           0
          ],
          [
           "PS_One Hot",
           1
          ],
          [
           "PS_One Hot",
           2
          ],
          [
           "PS_One Hot",
           3
          ],
          [
           "PS_One Hot",
           4
          ],
          [
           "PS_One Hot",
           0
          ],
          [
           "PS_One Hot",
           1
          ],
          [
           "PS_One Hot",
           2
          ],
          [
           "PS_One Hot",
           3
          ],
          [
           "PS_One Hot",
           4
          ],
          [
           "PS_K-mers",
           0
          ],
          [
           "PS_K-mers",
           1
          ],
          [
           "PS_K-mers",
           2
          ],
          [
           "PS_K-mers",
           3
          ],
          [
           "PS_K-mers",
           4
          ],
          [
           "PS_K-mers",
           0
          ],
          [
           "PS_K-mers",
           1
          ],
          [
           "PS_K-mers",
           2
          ],
          [
           "PS_K-mers",
           3
          ],
          [
           "PS_K-mers",
           4
          ],
          [
           "PS_K-mers",
           0
          ],
          [
           "PS_K-mers",
           1
          ],
          [
           "PS_K-mers",
           2
          ],
          [
           "PS_K-mers",
           3
          ],
          [
           "PS_K-mers",
           4
          ],
          [
           "PS_FFT",
           0
          ],
          [
           "PS_FFT",
           1
          ],
          [
           "PS_FFT",
           2
          ],
          [
           "PS_FFT",
           3
          ],
          [
           "PS_FFT",
           4
          ],
          [
           "PS_FFT",
           0
          ],
          [
           "PS_FFT",
           1
          ],
          [
           "PS_FFT",
           2
          ],
          [
           "PS_FFT",
           3
          ],
          [
           "PS_FFT",
           4
          ],
          [
           "PS_FFT",
           0
          ],
          [
           "PS_FFT",
           1
          ],
          [
           "PS_FFT",
           2
          ],
          [
           "PS_FFT",
           3
          ],
          [
           "PS_FFT",
           4
          ],
          [
           "PS_Wavelet",
           0
          ],
          [
           "PS_Wavelet",
           1
          ],
          [
           "PS_Wavelet",
           2
          ],
          [
           "PS_Wavelet",
           3
          ],
          [
           "PS_Wavelet",
           4
          ],
          [
           "PS_Wavelet",
           0
          ],
          [
           "PS_Wavelet",
           1
          ],
          [
           "PS_Wavelet",
           2
          ],
          [
           "PS_Wavelet",
           3
          ],
          [
           "PS_Wavelet",
           4
          ],
          [
           "PS_Wavelet",
           0
          ],
          [
           "PS_Wavelet",
           1
          ],
          [
           "PS_Wavelet",
           2
          ],
          [
           "PS_Wavelet",
           3
          ],
          [
           "PS_Wavelet",
           4
          ],
          [
           "PS_K-mers + FFT",
           0
          ],
          [
           "PS_K-mers + FFT",
           1
          ],
          [
           "PS_K-mers + FFT",
           2
          ],
          [
           "PS_K-mers + FFT",
           3
          ],
          [
           "PS_K-mers + FFT",
           4
          ],
          [
           "PS_K-mers + FFT",
           0
          ],
          [
           "PS_K-mers + FFT",
           1
          ],
          [
           "PS_K-mers + FFT",
           2
          ],
          [
           "PS_K-mers + FFT",
           3
          ],
          [
           "PS_K-mers + FFT",
           4
          ],
          [
           "PS_K-mers + FFT",
           0
          ],
          [
           "PS_K-mers + FFT",
           1
          ],
          [
           "PS_K-mers + FFT",
           2
          ],
          [
           "PS_K-mers + FFT",
           3
          ],
          [
           "PS_K-mers + FFT",
           4
          ],
          [
           "PS_One Hot + FFT",
           0
          ],
          [
           "PS_One Hot + FFT",
           1
          ],
          [
           "PS_One Hot + FFT",
           2
          ],
          [
           "PS_One Hot + FFT",
           3
          ],
          [
           "PS_One Hot + FFT",
           4
          ],
          [
           "PS_One Hot + FFT",
           0
          ],
          [
           "PS_One Hot + FFT",
           1
          ],
          [
           "PS_One Hot + FFT",
           2
          ],
          [
           "PS_One Hot + FFT",
           3
          ],
          [
           "PS_One Hot + FFT",
           4
          ],
          [
           "PS_One Hot + FFT",
           0
          ],
          [
           "PS_One Hot + FFT",
           1
          ],
          [
           "PS_One Hot + FFT",
           2
          ],
          [
           "PS_One Hot + FFT",
           3
          ],
          [
           "PS_One Hot + FFT",
           4
          ],
          [
           "PS_K-mers + Wavelet",
           0
          ],
          [
           "PS_K-mers + Wavelet",
           1
          ],
          [
           "PS_K-mers + Wavelet",
           2
          ],
          [
           "PS_K-mers + Wavelet",
           3
          ],
          [
           "PS_K-mers + Wavelet",
           4
          ],
          [
           "PS_K-mers + Wavelet",
           0
          ],
          [
           "PS_K-mers + Wavelet",
           1
          ],
          [
           "PS_K-mers + Wavelet",
           2
          ],
          [
           "PS_K-mers + Wavelet",
           3
          ],
          [
           "PS_K-mers + Wavelet",
           4
          ],
          [
           "PS_K-mers + Wavelet",
           0
          ],
          [
           "PS_K-mers + Wavelet",
           1
          ],
          [
           "PS_K-mers + Wavelet",
           2
          ],
          [
           "PS_K-mers + Wavelet",
           3
          ],
          [
           "PS_K-mers + Wavelet",
           4
          ],
          [
           "PS_One Hot + Wavelet",
           0
          ],
          [
           "PS_One Hot + Wavelet",
           1
          ],
          [
           "PS_One Hot + Wavelet",
           2
          ],
          [
           "PS_One Hot + Wavelet",
           3
          ],
          [
           "PS_One Hot + Wavelet",
           4
          ],
          [
           "PS_One Hot + Wavelet",
           0
          ],
          [
           "PS_One Hot + Wavelet",
           1
          ],
          [
           "PS_One Hot + Wavelet",
           2
          ],
          [
           "PS_One Hot + Wavelet",
           3
          ],
          [
           "PS_One Hot + Wavelet",
           4
          ],
          [
           "PS_One Hot + Wavelet",
           0
          ],
          [
           "PS_One Hot + Wavelet",
           1
          ],
          [
           "PS_One Hot + Wavelet",
           2
          ],
          [
           "PS_One Hot + Wavelet",
           3
          ],
          [
           "PS_One Hot + Wavelet",
           4
          ]
         ],
         "hovertemplate": "Tipo de Encoding=PS<br>Algoritmo=%{x}<br>Tiempo de Entrenamiento (segundos)=%{y}<br>encoding=%{customdata[0]}<br>iter=%{customdata[1]}<extra></extra>",
         "legendgroup": "PS",
         "marker": {
          "color": "#FF7F0E"
         },
         "name": "PS",
         "offsetgroup": "PS",
         "orientation": "v",
         "points": "all",
         "scalegroup": "True",
         "showlegend": true,
         "type": "violin",
         "x": [
          "SVM",
          "SVM",
          "SVM",
          "SVM",
          "SVM",
          "RandomForest",
          "RandomForest",
          "RandomForest",
          "RandomForest",
          "RandomForest",
          "XGBoost",
          "XGBoost",
          "XGBoost",
          "XGBoost",
          "XGBoost",
          "SVM",
          "SVM",
          "SVM",
          "SVM",
          "SVM",
          "RandomForest",
          "RandomForest",
          "RandomForest",
          "RandomForest",
          "RandomForest",
          "XGBoost",
          "XGBoost",
          "XGBoost",
          "XGBoost",
          "XGBoost",
          "SVM",
          "SVM",
          "SVM",
          "SVM",
          "SVM",
          "RandomForest",
          "RandomForest",
          "RandomForest",
          "RandomForest",
          "RandomForest",
          "XGBoost",
          "XGBoost",
          "XGBoost",
          "XGBoost",
          "XGBoost",
          "SVM",
          "SVM",
          "SVM",
          "SVM",
          "SVM",
          "RandomForest",
          "RandomForest",
          "RandomForest",
          "RandomForest",
          "RandomForest",
          "XGBoost",
          "XGBoost",
          "XGBoost",
          "XGBoost",
          "XGBoost",
          "SVM",
          "SVM",
          "SVM",
          "SVM",
          "SVM",
          "RandomForest",
          "RandomForest",
          "RandomForest",
          "RandomForest",
          "RandomForest",
          "XGBoost",
          "XGBoost",
          "XGBoost",
          "XGBoost",
          "XGBoost",
          "SVM",
          "SVM",
          "SVM",
          "SVM",
          "SVM",
          "RandomForest",
          "RandomForest",
          "RandomForest",
          "RandomForest",
          "RandomForest",
          "XGBoost",
          "XGBoost",
          "XGBoost",
          "XGBoost",
          "XGBoost",
          "SVM",
          "SVM",
          "SVM",
          "SVM",
          "SVM",
          "RandomForest",
          "RandomForest",
          "RandomForest",
          "RandomForest",
          "RandomForest",
          "XGBoost",
          "XGBoost",
          "XGBoost",
          "XGBoost",
          "XGBoost",
          "SVM",
          "SVM",
          "SVM",
          "SVM",
          "SVM",
          "RandomForest",
          "RandomForest",
          "RandomForest",
          "RandomForest",
          "RandomForest",
          "XGBoost",
          "XGBoost",
          "XGBoost",
          "XGBoost",
          "XGBoost"
         ],
         "x0": " ",
         "xaxis": "x",
         "y": [
          106.25405621528624,
          106.64480876922607,
          106.71272492408752,
          106.80785942077635,
          106.70862126350404,
          6.232756853103638,
          6.278388261795044,
          6.288405179977417,
          6.295410871505737,
          6.293979644775391,
          89.24329280853271,
          90.04920840263367,
          89.21543741226196,
          89.17649221420288,
          89.09482979774475,
          20.27495813369751,
          20.31487226486206,
          20.258858680725098,
          20.25753259658813,
          20.23908472061157,
          5.181804895401001,
          5.228108406066895,
          5.255844593048096,
          5.47266411781311,
          5.276257276535034,
          60.35300278663635,
          60.33188724517822,
          60.43292474746704,
          60.35542941093445,
          60.44162034988403,
          3.2016313076019287,
          3.2249763011932373,
          3.2153799533843994,
          3.232243061065674,
          3.2254297733306885,
          14.39590859413147,
          14.317993879318236,
          14.924657821655272,
          14.308157920837402,
          14.3124680519104,
          26.853816509246823,
          26.859204530715942,
          26.852611541748047,
          26.86466670036316,
          26.876813173294067,
          12.030949831008911,
          12.07930302619934,
          12.084170579910278,
          12.088402032852173,
          12.078231573104858,
          4.466181755065918,
          4.503981828689575,
          4.511510848999023,
          4.517505645751953,
          4.505991697311401,
          35.58530879020691,
          35.591752767562866,
          35.737640380859375,
          36.348052740097046,
          35.64077806472778,
          2.9239511489868164,
          2.939624071121216,
          2.94226336479187,
          2.9488275051116943,
          2.9379892349243164,
          13.73948049545288,
          14.29304051399231,
          13.683061361312866,
          13.967119932174684,
          14.100483894348145,
          33.15707540512085,
          33.09957814216614,
          33.132248640060425,
          33.17003917694092,
          33.10929727554321,
          20.15109133720398,
          20.259603261947632,
          20.273731231689453,
          20.261154890060425,
          20.30832409858704,
          34.304256439208984,
          33.02676725387573,
          33.156153440475464,
          33.0469274520874,
          33.41755795478821,
          169.7088315486908,
          169.62730956077576,
          169.62194561958313,
          169.79215264320374,
          169.98190021514893,
          13.20648193359375,
          13.28325366973877,
          14.04638147354126,
          14.03350019454956,
          13.425281524658203,
          6.175048828125,
          6.226112365722656,
          6.225656032562256,
          6.398629665374756,
          6.279984712600708,
          42.22026467323303,
          43.154276609420776,
          42.43916201591492,
          42.263383626937866,
          42.25595831871033,
          104.45604395866394,
          104.79817366600037,
          104.32635474205016,
          104.56706643104552,
          105.30383205413818,
          5.594654321670532,
          5.683130741119385,
          5.685766220092773,
          5.675607442855835,
          5.684409379959106,
          111.20702004432678,
          111.48323559761047,
          111.4727017879486,
          110.94591331481934,
          110.94528651237488
         ],
         "y0": " ",
         "yaxis": "y"
        }
       ],
       "layout": {
        "annotations": [
         {
          "showarrow": false,
          "text": "P95: 439.6s",
          "x": 1,
          "xanchor": "right",
          "xref": "x domain",
          "y": 439.6489362597465,
          "yanchor": "bottom",
          "yref": "y"
         },
         {
          "showarrow": false,
          "text": "P95: 56.9s",
          "x": 1,
          "xanchor": "right",
          "xref": "x domain",
          "y": 56.85977544784546,
          "yanchor": "bottom",
          "yref": "y"
         },
         {
          "showarrow": false,
          "text": "P95: 862.2s",
          "x": 1,
          "xanchor": "right",
          "xref": "x domain",
          "y": 862.1780873179436,
          "yanchor": "bottom",
          "yref": "y"
         }
        ],
        "font": {
         "size": 14
        },
        "height": 600,
        "legend": {
         "title": {
          "text": "Tipo de Encoding"
         },
         "tracegroupgap": 0
        },
        "shapes": [
         {
          "line": {
           "color": "red",
           "dash": "dash"
          },
          "opacity": 0.7,
          "type": "line",
          "x0": 0,
          "x1": 1,
          "xref": "x domain",
          "y0": 439.6489362597465,
          "y1": 439.6489362597465,
          "yref": "y"
         },
         {
          "line": {
           "color": "red",
           "dash": "dash"
          },
          "opacity": 0.7,
          "type": "line",
          "x0": 0,
          "x1": 1,
          "xref": "x domain",
          "y0": 56.85977544784546,
          "y1": 56.85977544784546,
          "yref": "y"
         },
         {
          "line": {
           "color": "red",
           "dash": "dash"
          },
          "opacity": 0.7,
          "type": "line",
          "x0": 0,
          "x1": 1,
          "xref": "x domain",
          "y0": 862.1780873179436,
          "y1": 862.1780873179436,
          "yref": "y"
         }
        ],
        "showlegend": true,
        "template": {
         "data": {
          "pie": [
           {
            "automargin": true,
            "type": "pie"
           }
          ],
          "scatter": [
           {
            "line": {
             "width": 3
            },
            "marker": {
             "size": 9
            },
            "type": "scatter"
           }
          ],
          "scatter3d": [
           {
            "line": {
             "width": 3
            },
            "marker": {
             "size": 9
            },
            "type": "scatter3d"
           }
          ],
          "scattergeo": [
           {
            "line": {
             "width": 3
            },
            "marker": {
             "size": 9
            },
            "type": "scattergeo"
           }
          ],
          "scattergl": [
           {
            "line": {
             "width": 3
            },
            "marker": {
             "size": 9
            },
            "type": "scattergl"
           }
          ],
          "scatterpolar": [
           {
            "line": {
             "width": 3
            },
            "marker": {
             "size": 9
            },
            "type": "scatterpolar"
           }
          ],
          "scatterpolargl": [
           {
            "line": {
             "width": 3
            },
            "marker": {
             "size": 9
            },
            "type": "scatterpolargl"
           }
          ],
          "scatterternary": [
           {
            "line": {
             "width": 3
            },
            "marker": {
             "size": 9
            },
            "type": "scatterternary"
           }
          ],
          "table": [
           {
            "cells": {
             "height": 30
            },
            "header": {
             "height": 36
            },
            "type": "table"
           }
          ]
         },
         "layout": {
          "font": {
           "size": 18
          },
          "xaxis": {
           "title": {
            "standoff": 15
           }
          },
          "yaxis": {
           "title": {
            "standoff": 15
           }
          }
         }
        },
        "title": {
         "font": {
          "size": 24
         },
         "text": "Distribución de Tiempos de Entrenamiento por Algoritmo",
         "x": 0.5
        },
        "violinmode": "group",
        "width": 1000,
        "xaxis": {
         "anchor": "y",
         "domain": [
          0,
          1
         ],
         "title": {
          "text": "Algoritmo"
         }
        },
        "yaxis": {
         "anchor": "x",
         "domain": [
          0,
          1
         ],
         "title": {
          "text": "Tiempo de Entrenamiento (segundos)"
         },
         "type": "log"
        }
       }
      }
     },
     "metadata": {},
     "output_type": "display_data"
    }
   ],
   "source": [
    "import pandas as pd\n",
    "import plotly.express as px\n",
    "import plotly.graph_objects as go\n",
    "\n",
    "# Cargar datos detallados de tiempos\n",
    "df_times = pd.read_csv('results/training_times/training_times_complete_detailed.csv')\n",
    "\n",
    "# Crear categorías de encoding\n",
    "df_times['encoding_type'] = df_times['encoding'].apply(\n",
    "    lambda x: 'AS' if x.startswith('AS_') else 'PS'\n",
    ")\n",
    "\n",
    "# Gráfico de violín con puntos\n",
    "fig = px.violin(\n",
    "    df_times,\n",
    "    x='modelo',\n",
    "    y='tiempo',\n",
    "    color='encoding_type',\n",
    "    box=True,\n",
    "    points='all',\n",
    "    hover_data=['encoding', 'iter'],\n",
    "    template='presentation',\n",
    "    title='Distribución de Tiempos de Entrenamiento por Algoritmo',\n",
    "    labels={\n",
    "        'tiempo': 'Tiempo de Entrenamiento (segundos)',\n",
    "        'modelo': 'Algoritmo',\n",
    "        'encoding_type': 'Tipo de Encoding'\n",
    "    }\n",
    ")\n",
    "\n",
    "# Personalizar layout\n",
    "fig.update_layout(\n",
    "    title={\n",
    "        'text': 'Distribución de Tiempos de Entrenamiento por Algoritmo',\n",
    "        'x': 0.5,\n",
    "        'font': {'size': 24}\n",
    "    },\n",
    "    xaxis_title='Algoritmo',\n",
    "    yaxis_title='Tiempo de Entrenamiento (segundos)',\n",
    "    yaxis_type='log',  # Escala logarítmica para mejor visualización\n",
    "    font=dict(size=14),\n",
    "    height=600,\n",
    "    width=1000,\n",
    "    showlegend=True\n",
    ")\n",
    "\n",
    "# Añadir líneas de referencia para percentiles\n",
    "for modelo in df_times['modelo'].unique():\n",
    "    data_subset = df_times[df_times['modelo'] == modelo]['tiempo']\n",
    "    p95 = data_subset.quantile(0.95)\n",
    "    fig.add_hline(y=p95, line_dash=\"dash\", line_color=\"red\", \n",
    "                  annotation_text=f\"P95: {p95:.1f}s\", opacity=0.7)\n",
    "\n",
    "fig.show()"
   ]
  },
  {
   "cell_type": "code",
   "execution_count": 6,
   "id": "19ba6594",
   "metadata": {},
   "outputs": [
    {
     "data": {
      "application/vnd.plotly.v1+json": {
       "config": {
        "plotlyServerURL": "https://plot.ly"
       },
       "data": [
        {
         "legendgroup": "train",
         "marker": {
          "color": "#3498db"
         },
         "name": "Accuracy Train",
         "opacity": 0.7,
         "showlegend": true,
         "type": "bar",
         "x": [
          "SVM<br>AS_One Hot",
          "SVM<br>AS_K-mers",
          "SVM<br>AS_One Hot + FF...",
          "SVM<br>AS_One Hot + Wa...",
          "SVM<br>AS_FFT",
          "SVM<br>AS_K-mers + Wav...",
          "Random Forest<br>AS_K-mers",
          "Random Forest<br>AS_Wavelet",
          "Random Forest<br>AS_K-mers + Wav...",
          "XGBoost<br>AS_One Hot"
         ],
         "xaxis": "x",
         "y": [
          0.9974137931034482,
          0.996551724137931,
          0.996551724137931,
          0.9974137931034482,
          0.996551724137931,
          0.9974137931034482,
          0.996551724137931,
          0.996551724137931,
          0.996551724137931,
          0.996551724137931
         ],
         "yaxis": "y"
        },
        {
         "legendgroup": "test",
         "marker": {
          "color": "#e74c3c"
         },
         "name": "Accuracy Test",
         "opacity": 0.7,
         "showlegend": true,
         "type": "bar",
         "x": [
          "SVM<br>AS_One Hot",
          "SVM<br>AS_K-mers",
          "SVM<br>AS_One Hot + FF...",
          "SVM<br>AS_One Hot + Wa...",
          "SVM<br>AS_FFT",
          "SVM<br>AS_K-mers + Wav...",
          "Random Forest<br>AS_K-mers",
          "Random Forest<br>AS_Wavelet",
          "Random Forest<br>AS_K-mers + Wav...",
          "XGBoost<br>AS_One Hot"
         ],
         "xaxis": "x",
         "y": [
          0.9953243717124488,
          0.99520748100526,
          0.99520748100526,
          0.99520748100526,
          0.9948568088836938,
          0.9948568088836938,
          0.9945061367621274,
          0.9945061367621274,
          0.9945061367621274,
          0.9943892460549386
         ],
         "yaxis": "y"
        },
        {
         "legendgroup": "train",
         "marker": {
          "color": "#3498db"
         },
         "name": "",
         "opacity": 0.7,
         "showlegend": false,
         "type": "bar",
         "x": [
          "SVM<br>AS_One Hot",
          "SVM<br>AS_K-mers",
          "SVM<br>AS_One Hot + FF...",
          "SVM<br>AS_One Hot + Wa...",
          "SVM<br>AS_FFT",
          "SVM<br>AS_K-mers + Wav...",
          "Random Forest<br>AS_K-mers",
          "Random Forest<br>AS_Wavelet",
          "Random Forest<br>AS_K-mers + Wav...",
          "XGBoost<br>AS_One Hot"
         ],
         "xaxis": "x2",
         "y": [
          0.997413388945471,
          0.9965513199799536,
          0.996561568506223,
          0.997413388945471,
          0.9965513199799536,
          0.997413388945471,
          0.9965513199799536,
          0.9965617032255488,
          0.996561568506223,
          0.9965513199799536
         ],
         "yaxis": "y2"
        },
        {
         "legendgroup": "test",
         "marker": {
          "color": "#e74c3c"
         },
         "name": "",
         "opacity": 0.7,
         "showlegend": false,
         "type": "bar",
         "x": [
          "SVM<br>AS_One Hot",
          "SVM<br>AS_K-mers",
          "SVM<br>AS_One Hot + FF...",
          "SVM<br>AS_One Hot + Wa...",
          "SVM<br>AS_FFT",
          "SVM<br>AS_K-mers + Wav...",
          "Random Forest<br>AS_K-mers",
          "Random Forest<br>AS_Wavelet",
          "Random Forest<br>AS_K-mers + Wav...",
          "XGBoost<br>AS_One Hot"
         ],
         "xaxis": "x2",
         "y": [
          0.995327092562142,
          0.995209592225388,
          0.9952106428837296,
          0.9952098109161333,
          0.9948608076673532,
          0.9948568976511462,
          0.9945107861791962,
          0.99450527212568,
          0.9945058491311808,
          0.9943874138753264
         ],
         "yaxis": "y2"
        },
        {
         "legendgroup": "train",
         "marker": {
          "color": "#3498db"
         },
         "name": "",
         "opacity": 0.7,
         "showlegend": false,
         "type": "bar",
         "x": [
          "SVM<br>AS_One Hot",
          "SVM<br>AS_K-mers",
          "SVM<br>AS_One Hot + FF...",
          "SVM<br>AS_One Hot + Wa...",
          "SVM<br>AS_FFT",
          "SVM<br>AS_K-mers + Wav...",
          "Random Forest<br>AS_K-mers",
          "Random Forest<br>AS_Wavelet",
          "Random Forest<br>AS_K-mers + Wav...",
          "XGBoost<br>AS_One Hot"
         ],
         "xaxis": "x3",
         "y": [
          0.9974768713204372,
          0.99661480235492,
          0.99667587808883,
          0.9974768713204372,
          0.99661480235492,
          0.9974768713204372,
          0.99661480235492,
          0.9966548520165004,
          0.99667587808883,
          0.99661480235492
         ],
         "yaxis": "y3"
        },
        {
         "legendgroup": "test",
         "marker": {
          "color": "#e74c3c"
         },
         "name": "",
         "opacity": 0.7,
         "showlegend": false,
         "type": "bar",
         "x": [
          "SVM<br>AS_One Hot",
          "SVM<br>AS_K-mers",
          "SVM<br>AS_One Hot + FF...",
          "SVM<br>AS_One Hot + Wa...",
          "SVM<br>AS_FFT",
          "SVM<br>AS_K-mers + Wav...",
          "Random Forest<br>AS_K-mers",
          "Random Forest<br>AS_Wavelet",
          "Random Forest<br>AS_K-mers + Wav...",
          "XGBoost<br>AS_One Hot"
         ],
         "xaxis": "x3",
         "y": [
          0.9953880017718196,
          0.9952753493354004,
          0.9952835326502418,
          0.99527032656324,
          0.9949356747811662,
          0.9949230507430624,
          0.9945903854886008,
          0.9945764289415324,
          0.9945757098053388,
          0.9944516710449556
         ],
         "yaxis": "y3"
        },
        {
         "legendgroup": "train",
         "marker": {
          "color": "#3498db"
         },
         "name": "",
         "opacity": 0.7,
         "showlegend": false,
         "type": "bar",
         "x": [
          "SVM<br>AS_One Hot",
          "SVM<br>AS_K-mers",
          "SVM<br>AS_One Hot + FF...",
          "SVM<br>AS_One Hot + Wa...",
          "SVM<br>AS_FFT",
          "SVM<br>AS_K-mers + Wav...",
          "Random Forest<br>AS_K-mers",
          "Random Forest<br>AS_Wavelet",
          "Random Forest<br>AS_K-mers + Wav...",
          "XGBoost<br>AS_One Hot"
         ],
         "xaxis": "x4",
         "y": [
          0.9974137931034482,
          0.996551724137931,
          0.996551724137931,
          0.9974137931034482,
          0.996551724137931,
          0.9974137931034482,
          0.996551724137931,
          0.996551724137931,
          0.996551724137931,
          0.996551724137931
         ],
         "yaxis": "y4"
        },
        {
         "legendgroup": "test",
         "marker": {
          "color": "#e74c3c"
         },
         "name": "",
         "opacity": 0.7,
         "showlegend": false,
         "type": "bar",
         "x": [
          "SVM<br>AS_One Hot",
          "SVM<br>AS_K-mers",
          "SVM<br>AS_One Hot + FF...",
          "SVM<br>AS_One Hot + Wa...",
          "SVM<br>AS_FFT",
          "SVM<br>AS_K-mers + Wav...",
          "Random Forest<br>AS_K-mers",
          "Random Forest<br>AS_Wavelet",
          "Random Forest<br>AS_K-mers + Wav...",
          "XGBoost<br>AS_One Hot"
         ],
         "xaxis": "x4",
         "y": [
          0.9953243717124488,
          0.99520748100526,
          0.99520748100526,
          0.99520748100526,
          0.9948568088836938,
          0.9948568088836938,
          0.9945061367621274,
          0.9945061367621274,
          0.9945061367621274,
          0.9943892460549386
         ],
         "yaxis": "y4"
        }
       ],
       "layout": {
        "annotations": [
         {
          "font": {
           "size": 16
          },
          "showarrow": false,
          "text": "Accuracy",
          "x": 0.225,
          "xanchor": "center",
          "xref": "paper",
          "y": 1,
          "yanchor": "bottom",
          "yref": "paper"
         },
         {
          "font": {
           "size": 16
          },
          "showarrow": false,
          "text": "F1-Score Weighted",
          "x": 0.775,
          "xanchor": "center",
          "xref": "paper",
          "y": 1,
          "yanchor": "bottom",
          "yref": "paper"
         },
         {
          "font": {
           "size": 16
          },
          "showarrow": false,
          "text": "Precision Weighted",
          "x": 0.225,
          "xanchor": "center",
          "xref": "paper",
          "y": 0.375,
          "yanchor": "bottom",
          "yref": "paper"
         },
         {
          "font": {
           "size": 16
          },
          "showarrow": false,
          "text": "Recall Weighted",
          "x": 0.775,
          "xanchor": "center",
          "xref": "paper",
          "y": 0.375,
          "yanchor": "bottom",
          "yref": "paper"
         }
        ],
        "barmode": "group",
        "font": {
         "size": 12
        },
        "height": 800,
        "legend": {
         "orientation": "h",
         "x": 1,
         "xanchor": "right",
         "y": 1.02,
         "yanchor": "bottom"
        },
        "showlegend": true,
        "template": {
         "data": {
          "pie": [
           {
            "automargin": true,
            "type": "pie"
           }
          ],
          "scatter": [
           {
            "line": {
             "width": 3
            },
            "marker": {
             "size": 9
            },
            "type": "scatter"
           }
          ],
          "scatter3d": [
           {
            "line": {
             "width": 3
            },
            "marker": {
             "size": 9
            },
            "type": "scatter3d"
           }
          ],
          "scattergeo": [
           {
            "line": {
             "width": 3
            },
            "marker": {
             "size": 9
            },
            "type": "scattergeo"
           }
          ],
          "scattergl": [
           {
            "line": {
             "width": 3
            },
            "marker": {
             "size": 9
            },
            "type": "scattergl"
           }
          ],
          "scatterpolar": [
           {
            "line": {
             "width": 3
            },
            "marker": {
             "size": 9
            },
            "type": "scatterpolar"
           }
          ],
          "scatterpolargl": [
           {
            "line": {
             "width": 3
            },
            "marker": {
             "size": 9
            },
            "type": "scatterpolargl"
           }
          ],
          "scatterternary": [
           {
            "line": {
             "width": 3
            },
            "marker": {
             "size": 9
            },
            "type": "scatterternary"
           }
          ],
          "table": [
           {
            "cells": {
             "height": 30
            },
            "header": {
             "height": 36
            },
            "type": "table"
           }
          ]
         },
         "layout": {
          "font": {
           "size": 18
          },
          "xaxis": {
           "title": {
            "standoff": 15
           }
          },
          "yaxis": {
           "title": {
            "standoff": 15
           }
          }
         }
        },
        "title": {
         "font": {
          "size": 24
         },
         "text": "Comparación Rendimiento: Entrenamiento vs Evaluación (Top 10)",
         "x": 0.5
        },
        "width": 1400,
        "xaxis": {
         "anchor": "y",
         "domain": [
          0,
          0.45
         ],
         "tickangle": 45
        },
        "xaxis2": {
         "anchor": "y2",
         "domain": [
          0.55,
          1
         ],
         "tickangle": 45
        },
        "xaxis3": {
         "anchor": "y3",
         "domain": [
          0,
          0.45
         ],
         "tickangle": 45
        },
        "xaxis4": {
         "anchor": "y4",
         "domain": [
          0.55,
          1
         ],
         "tickangle": 45
        },
        "yaxis": {
         "anchor": "x",
         "domain": [
          0.625,
          1
         ],
         "range": [
          0.9,
          1
         ]
        },
        "yaxis2": {
         "anchor": "x2",
         "domain": [
          0.625,
          1
         ],
         "range": [
          0.9,
          1
         ]
        },
        "yaxis3": {
         "anchor": "x3",
         "domain": [
          0,
          0.375
         ],
         "range": [
          0.9,
          1
         ]
        },
        "yaxis4": {
         "anchor": "x4",
         "domain": [
          0,
          0.375
         ],
         "range": [
          0.9,
          1
         ]
        }
       }
      }
     },
     "metadata": {},
     "output_type": "display_data"
    }
   ],
   "source": [
    "import pandas as pd\n",
    "import plotly.graph_objects as go\n",
    "from plotly.subplots import make_subplots\n",
    "\n",
    "# Cargar datos\n",
    "df_train = pd.read_csv('results/datos_tablas_entrenamiento.csv')\n",
    "df_eval = pd.read_csv('results/datos_tablas_evaluacion.csv')\n",
    "\n",
    "# Renombrar para consistencia\n",
    "df_train = df_train.rename(columns={'model_name': 'algorithm'})\n",
    "df_eval = df_eval.rename(columns={'model_name': 'algorithm'})\n",
    "\n",
    "# Combinar datasets\n",
    "combined = pd.merge(df_train, df_eval, on=['algorithm', 'encoding'], suffixes=('_train', '_test'))\n",
    "\n",
    "# Filtrar top 10 por accuracy de test\n",
    "top_combinations = combined.nlargest(10, 'accuracy_test')\n",
    "\n",
    "# Crear gráfico con subplots\n",
    "fig = make_subplots(\n",
    "    rows=2, cols=2,\n",
    "    subplot_titles=('Accuracy', 'F1-Score Weighted', 'Precision Weighted', 'Recall Weighted'),\n",
    "    specs=[[{\"secondary_y\": False}, {\"secondary_y\": False}],\n",
    "           [{\"secondary_y\": False}, {\"secondary_y\": False}]]\n",
    ")\n",
    "\n",
    "metrics = ['accuracy', 'f1_score_weighted', 'precision_weighted', 'recall_weighted']\n",
    "positions = [(1,1), (1,2), (2,1), (2,2)]\n",
    "\n",
    "colors_train = '#3498db'\n",
    "colors_test = '#e74c3c'\n",
    "\n",
    "for i, metric in enumerate(metrics):\n",
    "    row, col = positions[i]\n",
    "    \n",
    "    # Añadir barras de entrenamiento\n",
    "    fig.add_trace(\n",
    "        go.Bar(\n",
    "            name=f'{metric.title()} Train' if i == 0 else '',\n",
    "            x=[f\"{row['algorithm']}<br>{row['encoding'][:15]}{'...' if len(row['encoding']) > 15 else ''}\" \n",
    "               for _, row in top_combinations.iterrows()],\n",
    "            y=top_combinations[f'{metric}_train'].values,\n",
    "            marker_color=colors_train,\n",
    "            opacity=0.7,\n",
    "            showlegend=True if i == 0 else False,\n",
    "            legendgroup='train'\n",
    "        ),\n",
    "        row=row, col=col\n",
    "    )\n",
    "    \n",
    "    # Añadir barras de test\n",
    "    fig.add_trace(\n",
    "        go.Bar(\n",
    "            name=f'{metric.title()} Test' if i == 0 else '',\n",
    "            x=[f\"{row['algorithm']}<br>{row['encoding'][:15]}{'...' if len(row['encoding']) > 15 else ''}\" \n",
    "               for _, row in top_combinations.iterrows()],\n",
    "            y=top_combinations[f'{metric}_test'].values,\n",
    "            marker_color=colors_test,\n",
    "            opacity=0.7,\n",
    "            showlegend=True if i == 0 else False,\n",
    "            legendgroup='test'\n",
    "        ),\n",
    "        row=row, col=col\n",
    "    )\n",
    "\n",
    "# Actualizar layout\n",
    "fig.update_layout(\n",
    "    title={\n",
    "        'text': 'Comparación Rendimiento: Entrenamiento vs Evaluación (Top 10)',\n",
    "        'x': 0.5,\n",
    "        'font': {'size': 24}\n",
    "    },\n",
    "    template='presentation',\n",
    "    height=800,\n",
    "    width=1400,\n",
    "    barmode='group',\n",
    "    font=dict(size=12),\n",
    "    showlegend=True,\n",
    "    legend=dict(orientation=\"h\", yanchor=\"bottom\", y=1.02, xanchor=\"right\", x=1)\n",
    ")\n",
    "\n",
    "# Rotar etiquetas del eje x\n",
    "fig.update_xaxes(tickangle=45)\n",
    "\n",
    "# Establecer rango del eje y para mejor visualización\n",
    "for i in range(1, 3):\n",
    "    for j in range(1, 3):\n",
    "        fig.update_yaxes(range=[0.90, 1.0], row=i, col=j)\n",
    "\n",
    "fig.show()"
   ]
  },
  {
   "cell_type": "code",
   "execution_count": 7,
   "id": "e85cb70f",
   "metadata": {},
   "outputs": [
    {
     "data": {
      "application/vnd.plotly.v1+json": {
       "config": {
        "plotlyServerURL": "https://plot.ly"
       },
       "data": [
        {
         "legendgroup": "algo_SVM",
         "marker": {
          "color": "#1f77b4"
         },
         "name": "SVM",
         "showlegend": true,
         "type": "bar",
         "x": [
          "AS_One Hot",
          "AS_One Hot +...",
          "AS_K-mers",
          "AS_One Hot +...",
          "AS_K-mers + ...",
          "AS_FFT"
         ],
         "xaxis": "x",
         "y": [
          0.9953243717124488,
          0.99520748100526,
          0.99520748100526,
          0.99520748100526,
          0.9948568088836938,
          0.9948568088836938
         ],
         "yaxis": "y"
        },
        {
         "legendgroup": "algo_RandomForest",
         "marker": {
          "color": "#ff7f0e"
         },
         "name": "RandomForest",
         "showlegend": true,
         "type": "bar",
         "x": [
          "AS_K-mers + ...",
          "AS_K-mers",
          "AS_Wavelet"
         ],
         "xaxis": "x",
         "y": [
          0.9945061367621274,
          0.9945061367621274,
          0.9945061367621274
         ],
         "yaxis": "y"
        },
        {
         "legendgroup": "algo_XGBoost",
         "marker": {
          "color": "#2ca02c"
         },
         "name": "XGBoost",
         "showlegend": true,
         "type": "bar",
         "x": [
          "AS_One Hot"
         ],
         "xaxis": "x",
         "y": [
          0.9943892460549386
         ],
         "yaxis": "y"
        },
        {
         "boxpoints": "outliers",
         "name": "AS",
         "showlegend": false,
         "type": "box",
         "xaxis": "x2",
         "y": [
          441.7141733169556,
          443.2776908874512,
          442.9024543762207,
          440.5844211578369,
          439.5997002124786,
          7.649937868118286,
          7.634437084197998,
          7.60509729385376,
          7.64074182510376,
          7.85431432723999,
          151.46452140808103,
          150.29079747200012,
          151.75140237808228,
          150.55512928962708,
          150.2197105884552,
          45.58264970779419,
          45.78938174247742,
          45.71333050727844,
          45.88385558128357,
          46.10968732833862,
          5.572835922241211,
          5.573547601699829,
          5.568711042404175,
          5.572964191436768,
          5.57776403427124,
          91.3960144519806,
          90.96030974388124,
          90.2580029964447,
          90.97223806381226,
          91.1767110824585,
          23.82185769081116,
          23.87568211555481,
          23.99886584281921,
          23.965094804763797,
          23.949894666671756,
          32.46910309791565,
          32.22580933570862,
          32.16741418838501,
          32.52985215187073,
          33.19268178939819,
          130.34158968925476,
          131.06034088134766,
          130.96248817443848,
          131.02671432495117,
          131.1164207458496,
          68.28000712394714,
          68.47543120384216,
          68.48607897758484,
          68.51621651649475,
          68.52962923049927,
          1.7488634586334229,
          1.7407598495483398,
          1.7413113117218018,
          1.7401509284973145,
          1.7441017627716064,
          45.04280948638916,
          44.17763042449951,
          44.42650651931763,
          44.17295050621033,
          44.182780265808105,
          21.594926118850708,
          21.69817042350769,
          21.73067712783813,
          21.737210750579838,
          21.702853202819824,
          23.944509506225582,
          24.80774974822998,
          24.22383403778076,
          24.028149366378784,
          23.92222833633423,
          125.60339879989624,
          125.5608251094818,
          125.58816385269164,
          125.61785864830016,
          125.5861520767212,
          191.0816733837128,
          191.59585905075076,
          191.6887147426605,
          189.40627789497373,
          189.4627525806427,
          60.56576442718506,
          56.85400915145874,
          57.37260341644287,
          60.33054947853088,
          56.96933507919312,
          865.0575392246246,
          862.1055192947388,
          863.5568797588348,
          864.6562061309814,
          864.8778114318848,
          43.00761771202088,
          43.336331605911255,
          43.24803352355957,
          43.25589108467102,
          43.21904253959656,
          4.939584970474243,
          4.924162864685059,
          5.14577841758728,
          4.937929153442383,
          4.928208827972412,
          134.4644329547882,
          134.2441201210022,
          134.29962944984436,
          134.29211378097534,
          134.455589056015,
          431.1170752048493,
          432.4358949661255,
          431.4208023548126,
          432.562771320343,
          430.08871817588806,
          2.6446125507354736,
          2.6328814029693604,
          2.634223461151123,
          2.634280204772949,
          2.6368112564086914,
          251.15140414237976,
          251.5391116142273,
          250.8516318798065,
          248.4838671684265,
          232.7856273651123
         ],
         "yaxis": "y2"
        },
        {
         "boxpoints": "outliers",
         "name": "PS",
         "showlegend": false,
         "type": "box",
         "xaxis": "x2",
         "y": [
          106.25405621528624,
          106.64480876922607,
          106.71272492408752,
          106.80785942077635,
          106.70862126350404,
          6.232756853103638,
          6.278388261795044,
          6.288405179977417,
          6.295410871505737,
          6.293979644775391,
          89.24329280853271,
          90.04920840263367,
          89.21543741226196,
          89.17649221420288,
          89.09482979774475,
          20.27495813369751,
          20.31487226486206,
          20.258858680725098,
          20.25753259658813,
          20.23908472061157,
          5.181804895401001,
          5.228108406066895,
          5.255844593048096,
          5.47266411781311,
          5.276257276535034,
          60.35300278663635,
          60.33188724517822,
          60.43292474746704,
          60.35542941093445,
          60.44162034988403,
          3.2016313076019287,
          3.2249763011932373,
          3.2153799533843994,
          3.232243061065674,
          3.2254297733306885,
          14.39590859413147,
          14.317993879318236,
          14.924657821655272,
          14.308157920837402,
          14.3124680519104,
          26.853816509246823,
          26.859204530715942,
          26.852611541748047,
          26.86466670036316,
          26.876813173294067,
          12.030949831008911,
          12.07930302619934,
          12.084170579910278,
          12.088402032852173,
          12.078231573104858,
          4.466181755065918,
          4.503981828689575,
          4.511510848999023,
          4.517505645751953,
          4.505991697311401,
          35.58530879020691,
          35.591752767562866,
          35.737640380859375,
          36.348052740097046,
          35.64077806472778,
          2.9239511489868164,
          2.939624071121216,
          2.94226336479187,
          2.9488275051116943,
          2.9379892349243164,
          13.73948049545288,
          14.29304051399231,
          13.683061361312866,
          13.967119932174684,
          14.100483894348145,
          33.15707540512085,
          33.09957814216614,
          33.132248640060425,
          33.17003917694092,
          33.10929727554321,
          20.15109133720398,
          20.259603261947632,
          20.273731231689453,
          20.261154890060425,
          20.30832409858704,
          34.304256439208984,
          33.02676725387573,
          33.156153440475464,
          33.0469274520874,
          33.41755795478821,
          169.7088315486908,
          169.62730956077576,
          169.62194561958313,
          169.79215264320374,
          169.98190021514893,
          13.20648193359375,
          13.28325366973877,
          14.04638147354126,
          14.03350019454956,
          13.425281524658203,
          6.175048828125,
          6.226112365722656,
          6.225656032562256,
          6.398629665374756,
          6.279984712600708,
          42.22026467323303,
          43.154276609420776,
          42.43916201591492,
          42.263383626937866,
          42.25595831871033,
          104.45604395866394,
          104.79817366600037,
          104.32635474205016,
          104.56706643104552,
          105.30383205413818,
          5.594654321670532,
          5.683130741119385,
          5.685766220092773,
          5.675607442855835,
          5.684409379959106,
          111.20702004432678,
          111.48323559761047,
          111.4727017879486,
          110.94591331481934,
          110.94528651237488
         ],
         "yaxis": "y2"
        },
        {
         "marker": {
          "color": [
           0.957780839518478,
           0.9600459373301692,
           0.9948568976511462,
           0.954425884819158,
           0.9952098109161333,
           0.3609946369312053,
           0.346931235240523,
           0.995327092562142,
           0.995209592225388,
           0.9952106428837296,
           0.3627566118884006,
           0.991804524811834,
           0.3676474755727634,
           0.9948608076673532,
           0.3471761940731139,
           0.991703551814203,
           0.9158718790157536,
           0.9333821689298,
           0.9945058491311808,
           0.8235633278593728,
           0.9921661061908468,
           0.4027506700229702,
           0.3094371413727474,
           0.9920413282126016,
           0.9945107861791962,
           0.9894542340030532,
           0.4278349903665785,
           0.9896939245073284,
           0.4219210024136373,
           0.9914572754172444,
           0.3192920522730785,
           0.99450527212568,
           0.8838267539876106,
           0.9270809210023152,
           0.9931011868644564,
           0.8810241130800156,
           0.9868061256004402,
           0.3397879024800511,
           0.2882138540094119,
           0.9943874138753264,
           0.9941564281331676,
           0.9918158280413472,
           0.4633705046382067,
           0.9870005349312616,
           0.4263849079735565,
           0.99041758834851,
           0.3099245370835324,
           0.9931034734425636
          ],
          "colorbar": {
           "len": 0.4,
           "title": {
            "text": "F1-Score"
           },
           "x": 0.65
          },
          "colorscale": [
           [
            0,
            "#440154"
           ],
           [
            0.1111111111111111,
            "#482878"
           ],
           [
            0.2222222222222222,
            "#3e4989"
           ],
           [
            0.3333333333333333,
            "#31688e"
           ],
           [
            0.4444444444444444,
            "#26828e"
           ],
           [
            0.5555555555555556,
            "#1f9e89"
           ],
           [
            0.6666666666666666,
            "#35b779"
           ],
           [
            0.7777777777777778,
            "#6ece58"
           ],
           [
            0.8888888888888888,
            "#b5de2b"
           ],
           [
            1,
            "#fde725"
           ]
          ],
          "showscale": true,
          "size": 8
         },
         "mode": "markers",
         "showlegend": false,
         "text": [
          "SVM",
          "SVM",
          "SVM",
          "SVM",
          "SVM",
          "SVM",
          "SVM",
          "SVM",
          "SVM",
          "SVM",
          "SVM",
          "SVM",
          "SVM",
          "SVM",
          "SVM",
          "SVM",
          "RandomForest",
          "RandomForest",
          "RandomForest",
          "RandomForest",
          "RandomForest",
          "RandomForest",
          "RandomForest",
          "RandomForest",
          "RandomForest",
          "RandomForest",
          "RandomForest",
          "RandomForest",
          "RandomForest",
          "RandomForest",
          "RandomForest",
          "RandomForest",
          "XGBoost",
          "XGBoost",
          "XGBoost",
          "XGBoost",
          "XGBoost",
          "XGBoost",
          "XGBoost",
          "XGBoost",
          "XGBoost",
          "XGBoost",
          "XGBoost",
          "XGBoost",
          "XGBoost",
          "XGBoost",
          "XGBoost",
          "XGBoost"
         ],
         "type": "scatter",
         "x": [
          52.08503723144531,
          52.15030670166016,
          511.64737701416016,
          261.01261138916016,
          2557.845268249512,
          104.30061340332033,
          522.15576171875,
          2557.257843017578,
          511.32102966308594,
          1278.5636520385742,
          104.56169128417967,
          255.59524536132807,
          104.62696075439452,
          255.66051483154297,
          522.2863006591797,
          511.712646484375,
          52.08503723144531,
          52.15030670166016,
          511.64737701416016,
          261.01261138916016,
          2557.845268249512,
          104.30061340332033,
          522.15576171875,
          2557.257843017578,
          511.32102966308594,
          1278.5636520385742,
          104.56169128417967,
          255.59524536132807,
          104.62696075439452,
          255.66051483154297,
          522.2863006591797,
          511.712646484375,
          52.08503723144531,
          52.15030670166016,
          511.64737701416016,
          261.01261138916016,
          2557.845268249512,
          104.30061340332033,
          522.15576171875,
          2557.257843017578,
          511.32102966308594,
          1278.5636520385742,
          104.56169128417967,
          255.59524536132807,
          104.62696075439452,
          255.66051483154297,
          522.2863006591797,
          511.712646484375
         ],
         "xaxis": "x3",
         "y": [
          0.9581531268264172,
          0.9607247223845704,
          0.9948568088836938,
          0.9527761542957336,
          0.99520748100526,
          0.3279953243717124,
          0.3177089421390999,
          0.9953243717124488,
          0.99520748100526,
          0.99520748100526,
          0.3327878433664523,
          0.9918176504967856,
          0.3394506136762127,
          0.9948568088836938,
          0.3179427235534775,
          0.9917007597895968,
          0.9092928112215078,
          0.930333138515488,
          0.9945061367621274,
          0.7894798363530099,
          0.992168322618352,
          0.3627118644067796,
          0.2852133255406195,
          0.9920514319111632,
          0.9945061367621274,
          0.98947983635301,
          0.3862068965517241,
          0.9897136177673876,
          0.3841028638223261,
          0.9914669783752192,
          0.2918760958503799,
          0.9945061367621274,
          0.8676797194623027,
          0.925540619520748,
          0.993103448275862,
          0.8626534190531853,
          0.9870251315020456,
          0.3099941554646405,
          0.2662770309760374,
          0.9943892460549386,
          0.994155464640561,
          0.9918176504967856,
          0.435885447106955,
          0.9870251315020456,
          0.413676212741087,
          0.9904149620105202,
          0.2821741671537113,
          0.993103448275862
         ],
         "yaxis": "y3"
        },
        {
         "marker": {
          "color": [
           "#1f77b4",
           "#ff7f0e",
           "#2ca02c"
          ]
         },
         "orientation": "h",
         "showlegend": false,
         "type": "bar",
         "x": [
          0.7781501295932358,
          0.7807742505013169,
          0.7882463584941088
         ],
         "xaxis": "x4",
         "y": [
          "XGBoost",
          "RandomForest",
          "SVM"
         ],
         "yaxis": "y4"
        },
        {
         "marker": {
          "color": [
           0,
           0,
           0,
           0,
           0,
           0,
           0,
           0,
           0,
           0,
           0,
           0,
           0,
           0,
           0,
           0,
           1,
           1,
           1,
           1,
           1,
           1,
           1,
           1,
           1,
           1,
           1,
           1,
           1,
           1,
           1,
           1,
           2,
           2,
           2,
           2,
           2,
           2,
           2,
           2,
           2,
           2,
           2,
           2,
           2,
           2,
           2,
           2
          ],
          "colorscale": [
           [
            0,
            "#1f77b4"
           ],
           [
            0.5,
            "#ff7f0e"
           ],
           [
            1,
            "#2ca02c"
           ]
          ],
          "line": {
           "color": "black",
           "width": 1
          },
          "size": 10
         },
         "mode": "markers",
         "showlegend": false,
         "text": [
          "PS_K-mers + FFT",
          "PS_FFT",
          "AS_K-mers + Wavelet",
          "PS_One Hot + FFT",
          "AS_One Hot + Wavelet",
          "PS_K-mers",
          "PS_One Hot",
          "AS_One Hot",
          "AS_K-mers",
          "AS_One Hot + FFT",
          "PS_K-mers + Wavelet",
          "AS_K-mers + FFT",
          "PS_Wavelet",
          "AS_FFT",
          "PS_One Hot + Wavelet",
          "AS_Wavelet",
          "PS_K-mers + FFT",
          "PS_FFT",
          "AS_K-mers + Wavelet",
          "PS_One Hot + FFT",
          "AS_One Hot + Wavelet",
          "PS_K-mers",
          "PS_One Hot",
          "AS_One Hot",
          "AS_K-mers",
          "AS_One Hot + FFT",
          "PS_K-mers + Wavelet",
          "AS_K-mers + FFT",
          "PS_Wavelet",
          "AS_FFT",
          "PS_One Hot + Wavelet",
          "AS_Wavelet",
          "PS_K-mers + FFT",
          "PS_FFT",
          "AS_K-mers + Wavelet",
          "PS_One Hot + FFT",
          "AS_One Hot + Wavelet",
          "PS_K-mers",
          "PS_One Hot",
          "AS_One Hot",
          "AS_K-mers",
          "AS_One Hot + FFT",
          "PS_K-mers + Wavelet",
          "AS_K-mers + FFT",
          "PS_Wavelet",
          "AS_FFT",
          "PS_One Hot + Wavelet",
          "AS_Wavelet"
         ],
         "type": "scatter",
         "x": [
          0.9664439262137016,
          0.9678397682931772,
          0.9949230507430624,
          0.9678769986619462,
          0.99527032656324,
          0.6818496232426834,
          0.6527925955686271,
          0.9953880017718196,
          0.9952753493354004,
          0.9952835326502418,
          0.6487898612594488,
          0.9923734951964585,
          0.6390679935906467,
          0.9949356747811662,
          0.6533782842239059,
          0.9921749337266024,
          0.9447152908115022,
          0.9502690322766132,
          0.9945757098053388,
          0.9379462998097698,
          0.9925468191507612,
          0.7021255847521869,
          0.6658398460795693,
          0.9924203698810898,
          0.9945903854886008,
          0.9903398889583224,
          0.7355336757669937,
          0.9905008695937132,
          0.7449524245831606,
          0.9918495374149544,
          0.663990989932465,
          0.9945764289415324,
          0.9381607652451632,
          0.94112127339744,
          0.9931633258138448,
          0.9349035738678952,
          0.9876110907876882,
          0.6387980651504568,
          0.6075399499180946,
          0.9944516710449556,
          0.9942198146112358,
          0.9919586513436964,
          0.7320932236244306,
          0.9877416095240495,
          0.684624795183813,
          0.9906938863695064,
          0.6101477251820383,
          0.9931752683940994
         ],
         "xaxis": "x5",
         "y": [
          0.9581531268264172,
          0.9607247223845704,
          0.9948568088836938,
          0.9527761542957336,
          0.99520748100526,
          0.3279953243717124,
          0.3177089421390999,
          0.9953243717124488,
          0.99520748100526,
          0.99520748100526,
          0.3327878433664523,
          0.9918176504967856,
          0.3394506136762127,
          0.9948568088836938,
          0.3179427235534775,
          0.9917007597895968,
          0.9092928112215078,
          0.930333138515488,
          0.9945061367621274,
          0.7894798363530099,
          0.992168322618352,
          0.3627118644067796,
          0.2852133255406195,
          0.9920514319111632,
          0.9945061367621274,
          0.98947983635301,
          0.3862068965517241,
          0.9897136177673876,
          0.3841028638223261,
          0.9914669783752192,
          0.2918760958503799,
          0.9945061367621274,
          0.8676797194623027,
          0.925540619520748,
          0.993103448275862,
          0.8626534190531853,
          0.9870251315020456,
          0.3099941554646405,
          0.2662770309760374,
          0.9943892460549386,
          0.994155464640561,
          0.9918176504967856,
          0.435885447106955,
          0.9870251315020456,
          0.413676212741087,
          0.9904149620105202,
          0.2821741671537113,
          0.993103448275862
         ],
         "yaxis": "y5"
        },
        {
         "marker": {
          "color": "lightblue",
          "line": {
           "color": "black",
           "width": 1
          }
         },
         "nbinsx": 20,
         "showlegend": false,
         "type": "histogram",
         "x": [
          0.3791943828737797,
          0.3499249141070072,
          0.0087930072066961,
          0.0328630987945859,
          0.0015959109385709,
          0.0113033638414131,
          0.0018578729250572,
          0.0017598740268072,
          0.0094736943794227,
          0.0039367390035781,
          0.0124872900241857,
          0.0238959280422338,
          0.0212986743676487,
          0.0245924493955925,
          0.0019317520817968,
          0.0066070436903986,
          3.0025755733794908,
          2.7986106310110426,
          1.4973366834743425,
          1.3304975829682049,
          0.7120981948347207,
          0.6236188608973419,
          0.3627485346792989,
          0.6191575412813408,
          1.5494398880007971,
          1.0068993244930844,
          0.82344482475703,
          2.128868669016601,
          0.8886504512033065,
          1.7860623237531943,
          0.3589176319652216,
          2.6208862750092914,
          3.2098873664069583,
          4.768835151582366,
          2.910488593189195,
          2.954873422329229,
          0.7185219443750395,
          0.8190689609341699,
          0.4061379298782937,
          0.7128638039595793,
          2.7437397421832475,
          1.2532403578464038,
          1.7862118677303966,
          3.7504379775688106,
          1.5115761046646576,
          3.761849615556845,
          0.4411281161101012,
          2.896999124036125
         ],
         "xaxis": "x6",
         "yaxis": "y6"
        }
       ],
       "layout": {
        "annotations": [
         {
          "font": {
           "size": 16
          },
          "showarrow": false,
          "text": "Top 10 Accuracy por Algoritmo",
          "x": 0.12666666666666668,
          "xanchor": "center",
          "xref": "paper",
          "y": 1,
          "yanchor": "bottom",
          "yref": "paper"
         },
         {
          "font": {
           "size": 16
          },
          "showarrow": false,
          "text": "Distribución Tiempo por Encoding Type",
          "x": 0.5,
          "xanchor": "center",
          "xref": "paper",
          "y": 1,
          "yanchor": "bottom",
          "yref": "paper"
         },
         {
          "font": {
           "size": 16
          },
          "showarrow": false,
          "text": "Memoria vs Accuracy",
          "x": 0.8733333333333333,
          "xanchor": "center",
          "xref": "paper",
          "y": 1,
          "yanchor": "bottom",
          "yref": "paper"
         },
         {
          "font": {
           "size": 16
          },
          "showarrow": false,
          "text": "F1-Score Weighted por Algoritmo",
          "x": 0.12666666666666668,
          "xanchor": "center",
          "xref": "paper",
          "y": 0.425,
          "yanchor": "bottom",
          "yref": "paper"
         },
         {
          "font": {
           "size": 16
          },
          "showarrow": false,
          "text": "Correlación Métricas de Rendimiento",
          "x": 0.5,
          "xanchor": "center",
          "xref": "paper",
          "y": 0.425,
          "yanchor": "bottom",
          "yref": "paper"
         },
         {
          "font": {
           "size": 16
          },
          "showarrow": false,
          "text": "Efficiency Score Distribution",
          "x": 0.8733333333333333,
          "xanchor": "center",
          "xref": "paper",
          "y": 0.425,
          "yanchor": "bottom",
          "yref": "paper"
         }
        ],
        "font": {
         "size": 11
        },
        "height": 900,
        "legend": {
         "orientation": "h",
         "x": 0.5,
         "xanchor": "center",
         "y": -0.1,
         "yanchor": "bottom"
        },
        "shapes": [
         {
          "line": {
           "color": "red",
           "dash": "dash"
          },
          "opacity": 0.5,
          "type": "line",
          "x0": 0,
          "x1": 1,
          "xref": "x3 domain",
          "y0": 0.95,
          "y1": 0.95,
          "yref": "y3"
         },
         {
          "line": {
           "color": "red",
           "dash": "dash"
          },
          "opacity": 0.5,
          "type": "line",
          "x0": 0.95,
          "x1": 0.95,
          "xref": "x5",
          "y0": 0,
          "y1": 1,
          "yref": "y5 domain"
         },
         {
          "line": {
           "color": "red",
           "dash": "dash"
          },
          "opacity": 0.5,
          "type": "line",
          "x0": 0,
          "x1": 1,
          "xref": "x5 domain",
          "y0": 0.95,
          "y1": 0.95,
          "yref": "y5"
         }
        ],
        "showlegend": true,
        "template": {
         "data": {
          "pie": [
           {
            "automargin": true,
            "type": "pie"
           }
          ],
          "scatter": [
           {
            "line": {
             "width": 3
            },
            "marker": {
             "size": 9
            },
            "type": "scatter"
           }
          ],
          "scatter3d": [
           {
            "line": {
             "width": 3
            },
            "marker": {
             "size": 9
            },
            "type": "scatter3d"
           }
          ],
          "scattergeo": [
           {
            "line": {
             "width": 3
            },
            "marker": {
             "size": 9
            },
            "type": "scattergeo"
           }
          ],
          "scattergl": [
           {
            "line": {
             "width": 3
            },
            "marker": {
             "size": 9
            },
            "type": "scattergl"
           }
          ],
          "scatterpolar": [
           {
            "line": {
             "width": 3
            },
            "marker": {
             "size": 9
            },
            "type": "scatterpolar"
           }
          ],
          "scatterpolargl": [
           {
            "line": {
             "width": 3
            },
            "marker": {
             "size": 9
            },
            "type": "scatterpolargl"
           }
          ],
          "scatterternary": [
           {
            "line": {
             "width": 3
            },
            "marker": {
             "size": 9
            },
            "type": "scatterternary"
           }
          ],
          "table": [
           {
            "cells": {
             "height": 30
            },
            "header": {
             "height": 36
            },
            "type": "table"
           }
          ]
         },
         "layout": {
          "font": {
           "size": 18
          },
          "xaxis": {
           "title": {
            "standoff": 15
           }
          },
          "yaxis": {
           "title": {
            "standoff": 15
           }
          }
         }
        },
        "title": {
         "font": {
          "size": 28
         },
         "text": "Dashboard Integral: Análisis Comparativo de Rendimiento",
         "x": 0.5
        },
        "width": 1600,
        "xaxis": {
         "anchor": "y",
         "domain": [
          0,
          0.25333333333333335
         ],
         "tickangle": 45
        },
        "xaxis2": {
         "anchor": "y2",
         "domain": [
          0.37333333333333335,
          0.6266666666666667
         ]
        },
        "xaxis3": {
         "anchor": "y3",
         "domain": [
          0.7466666666666667,
          1
         ],
         "title": {
          "text": "Memoria (MB)"
         }
        },
        "xaxis4": {
         "anchor": "y4",
         "domain": [
          0,
          0.25333333333333335
         ],
         "title": {
          "text": "F1-Score Weighted Promedio"
         }
        },
        "xaxis5": {
         "anchor": "y5",
         "domain": [
          0.37333333333333335,
          0.6266666666666667
         ],
         "title": {
          "text": "Precision Weighted"
         }
        },
        "xaxis6": {
         "anchor": "y6",
         "domain": [
          0.7466666666666667,
          1
         ],
         "title": {
          "text": "Efficiency Score"
         }
        },
        "yaxis": {
         "anchor": "x",
         "domain": [
          0.575,
          1
         ]
        },
        "yaxis2": {
         "anchor": "x2",
         "domain": [
          0.575,
          1
         ],
         "type": "log"
        },
        "yaxis3": {
         "anchor": "x3",
         "domain": [
          0.575,
          1
         ],
         "title": {
          "text": "Accuracy"
         }
        },
        "yaxis4": {
         "anchor": "x4",
         "domain": [
          0,
          0.425
         ]
        },
        "yaxis5": {
         "anchor": "x5",
         "domain": [
          0,
          0.425
         ],
         "title": {
          "text": "Recall Weighted"
         }
        },
        "yaxis6": {
         "anchor": "x6",
         "domain": [
          0,
          0.425
         ],
         "title": {
          "text": "Frecuencia"
         }
        }
       }
      }
     },
     "metadata": {},
     "output_type": "display_data"
    }
   ],
   "source": [
    "import pandas as pd\n",
    "import plotly.graph_objects as go\n",
    "from plotly.subplots import make_subplots\n",
    "import plotly.express as px\n",
    "\n",
    "# Cargar datos\n",
    "df_eval = pd.read_csv('results/evaluation_results/evaluation_results.csv')\n",
    "df_times = pd.read_csv('results/training_times/training_times_complete_detailed.csv')\n",
    "df_memory = pd.read_csv('datos/resultados_codificacion_tiempo_memoria.csv')\n",
    "\n",
    "# Crear dashboard con múltiples subplots\n",
    "fig = make_subplots(\n",
    "    rows=2, cols=3,\n",
    "    subplot_titles=(\n",
    "        'Top 10 Accuracy por Algoritmo',\n",
    "        'Distribución Tiempo por Encoding Type', \n",
    "        'Memoria vs Accuracy',\n",
    "        'F1-Score Weighted por Algoritmo',\n",
    "        'Correlación Métricas de Rendimiento',\n",
    "        'Efficiency Score Distribution'\n",
    "    ),\n",
    "    specs=[\n",
    "        [{\"type\": \"bar\"}, {\"type\": \"box\"}, {\"type\": \"scatter\"}],\n",
    "        [{\"type\": \"bar\"}, {\"type\": \"scatter\"}, {\"type\": \"histogram\"}]\n",
    "    ],\n",
    "    horizontal_spacing=0.12,\n",
    "    vertical_spacing=0.15\n",
    ")\n",
    "\n",
    "# 1. Top 10 Accuracy por Algoritmo (Barras)\n",
    "top_10 = df_eval.nlargest(10, 'accuracy')\n",
    "colors_algo = {'SVM': '#1f77b4', 'RandomForest': '#ff7f0e', 'XGBoost': '#2ca02c'}\n",
    "\n",
    "for algo in top_10['algorithm'].unique():\n",
    "    algo_data = top_10[top_10['algorithm'] == algo]\n",
    "    fig.add_trace(\n",
    "        go.Bar(\n",
    "            x=algo_data['encoding'].apply(lambda x: x[:12] + '...' if len(x) > 12 else x),\n",
    "            y=algo_data['accuracy'],\n",
    "            name=algo,\n",
    "            marker_color=colors_algo[algo],\n",
    "            showlegend=True,\n",
    "            legendgroup=f'algo_{algo}'\n",
    "        ),\n",
    "        row=1, col=1\n",
    "    )\n",
    "\n",
    "# 2. Distribución de tiempo por tipo de encoding (Box plot)\n",
    "df_times['encoding_type'] = df_times['encoding'].apply(lambda x: 'AS' if x.startswith('AS_') else 'PS')\n",
    "for enc_type in df_times['encoding_type'].unique():\n",
    "    data = df_times[df_times['encoding_type'] == enc_type]\n",
    "    fig.add_trace(\n",
    "        go.Box(\n",
    "            y=data['tiempo'],\n",
    "            name=enc_type,\n",
    "            boxpoints='outliers',\n",
    "            showlegend=False\n",
    "        ),\n",
    "        row=1, col=2\n",
    "    )\n",
    "\n",
    "# 3. Memoria vs Accuracy (Scatter)\n",
    "fig.add_trace(\n",
    "    go.Scatter(\n",
    "        x=df_eval['input_data_mb'],\n",
    "        y=df_eval['accuracy'],\n",
    "        mode='markers',\n",
    "        marker=dict(\n",
    "            size=8,\n",
    "            color=df_eval['f1_score_weighted'],\n",
    "            colorscale='Viridis',\n",
    "            showscale=True,\n",
    "            colorbar=dict(title=\"F1-Score\", x=0.65, len=0.4)\n",
    "        ),\n",
    "        text=df_eval['algorithm'],\n",
    "        showlegend=False\n",
    "    ),\n",
    "    row=1, col=3\n",
    ")\n",
    "\n",
    "# 4. F1-Score Weighted por Algoritmo (Barras horizontales)\n",
    "f1_by_algo = df_eval.groupby('algorithm')['f1_score_weighted'].mean().sort_values(ascending=True)\n",
    "fig.add_trace(\n",
    "    go.Bar(\n",
    "        x=f1_by_algo.values,\n",
    "        y=f1_by_algo.index,\n",
    "        orientation='h',\n",
    "        marker_color=['#1f77b4', '#ff7f0e', '#2ca02c'],\n",
    "        showlegend=False\n",
    "    ),\n",
    "    row=2, col=1\n",
    ")\n",
    "\n",
    "# 5. Correlación Precision vs Recall (Scatter)\n",
    "fig.add_trace(\n",
    "    go.Scatter(\n",
    "        x=df_eval['precision_weighted'],\n",
    "        y=df_eval['recall_weighted'],\n",
    "        mode='markers',\n",
    "        marker=dict(\n",
    "            size=10,\n",
    "            color=df_eval['algorithm'].map({'SVM': 0, 'RandomForest': 1, 'XGBoost': 2}),\n",
    "            colorscale=[[0, '#1f77b4'], [0.5, '#ff7f0e'], [1, '#2ca02c']],\n",
    "            line=dict(width=1, color='black')\n",
    "        ),\n",
    "        text=df_eval['encoding'],\n",
    "        showlegend=False\n",
    "    ),\n",
    "    row=2, col=2\n",
    ")\n",
    "\n",
    "# 6. Distribución de Efficiency Score (Histograma)\n",
    "fig.add_trace(\n",
    "    go.Histogram(\n",
    "        x=df_eval['efficiency_score'],\n",
    "        nbinsx=20,\n",
    "        marker_color='lightblue',\n",
    "        marker_line_color='black',\n",
    "        marker_line_width=1,\n",
    "        showlegend=False\n",
    "    ),\n",
    "    row=2, col=3\n",
    ")\n",
    "\n",
    "# Personalizar layout general\n",
    "fig.update_layout(\n",
    "    title={\n",
    "        'text': 'Dashboard Integral: Análisis Comparativo de Rendimiento',\n",
    "        'x': 0.5,\n",
    "        'font': {'size': 28}\n",
    "    },\n",
    "    template='presentation',\n",
    "    height=900,\n",
    "    width=1600,\n",
    "    font=dict(size=11),\n",
    "    showlegend=True,\n",
    "    legend=dict(\n",
    "        orientation=\"h\",\n",
    "        yanchor=\"bottom\",\n",
    "        y=-0.1,\n",
    "        xanchor=\"center\",\n",
    "        x=0.5\n",
    "    )\n",
    ")\n",
    "\n",
    "# Personalizar ejes específicos\n",
    "fig.update_xaxes(tickangle=45, row=1, col=1)\n",
    "fig.update_yaxes(type='log', row=1, col=2)\n",
    "fig.update_xaxes(title_text=\"Memoria (MB)\", row=1, col=3)\n",
    "fig.update_yaxes(title_text=\"Accuracy\", row=1, col=3)\n",
    "fig.update_xaxes(title_text=\"F1-Score Weighted Promedio\", row=2, col=1)\n",
    "fig.update_xaxes(title_text=\"Precision Weighted\", row=2, col=2)\n",
    "fig.update_yaxes(title_text=\"Recall Weighted\", row=2, col=2)\n",
    "fig.update_xaxes(title_text=\"Efficiency Score\", row=2, col=3)\n",
    "fig.update_yaxes(title_text=\"Frecuencia\", row=2, col=3)\n",
    "\n",
    "# Añadir líneas de referencia donde sea apropiado\n",
    "fig.add_hline(y=0.95, line_dash=\"dash\", line_color=\"red\", opacity=0.5, row=1, col=3)\n",
    "fig.add_vline(x=0.95, line_dash=\"dash\", line_color=\"red\", opacity=0.5, row=2, col=2)\n",
    "fig.add_hline(y=0.95, line_dash=\"dash\", line_color=\"red\", opacity=0.5, row=2, col=2)\n",
    "\n",
    "fig.show()"
   ]
  }
 ],
 "metadata": {
  "kernelspec": {
   "display_name": "paper",
   "language": "python",
   "name": "python3"
  },
  "language_info": {
   "codemirror_mode": {
    "name": "ipython",
    "version": 3
   },
   "file_extension": ".py",
   "mimetype": "text/x-python",
   "name": "python",
   "nbconvert_exporter": "python",
   "pygments_lexer": "ipython3",
   "version": "3.10.15"
  }
 },
 "nbformat": 4,
 "nbformat_minor": 5
}
